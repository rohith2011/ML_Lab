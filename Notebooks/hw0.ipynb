{
 "cells": [
  {
   "cell_type": "markdown",
   "metadata": {},
   "source": [
    "Before you turn this problem in, make sure everything runs as expected. First, **restart the kernel** (in the menubar, select Kernel$\\rightarrow$Restart) and then **run all cells** (in the menubar, select Cell$\\rightarrow$Run All).\n",
    "\n",
    "Make sure you fill in any place that says `YOUR CODE HERE` or \"YOUR ANSWER HERE\", as well as your name, email and UFID.\n",
    "Please do not modify instruction cells or any cells with automated tests (marked with `[ASSERTS]`). Note: you can add new cells if you need them, but answers must be in the cells with `YOUR CODE HERE` or \"YOUR ANSWER HERE\" comments."
   ]
  },
  {
   "cell_type": "markdown",
   "metadata": {},
   "source": [
    "---"
   ]
  },
  {
   "cell_type": "markdown",
   "metadata": {
    "deletable": false,
    "editable": false,
    "nbgrader": {
     "cell_type": "markdown",
     "checksum": "7f00c7f84f299b3885983d1144c38853",
     "grade": false,
     "grade_id": "homework-preamble",
     "locked": true,
     "schema_version": 3,
     "solution": false,
     "task": false
    },
    "slideshow": {
     "slide_type": ""
    },
    "tags": []
   },
   "source": [
    "# Homework 0: Setting Up Your Environment!"
   ]
  },
  {
   "cell_type": "markdown",
   "metadata": {
    "deletable": false,
    "editable": false,
    "nbgrader": {
     "cell_type": "markdown",
     "checksum": "5658c9a4ed21f362746fdaeb7fb21351",
     "grade": false,
     "grade_id": "preamble-name",
     "locked": true,
     "schema_version": 3,
     "solution": false,
     "task": false
    }
   },
   "source": [
    "## Preamble: Write your Name, Email and UFID"
   ]
  },
  {
   "cell_type": "code",
   "execution_count": 1,
   "metadata": {
    "deletable": false,
    "nbgrader": {
     "cell_type": "code",
     "checksum": "8fe88cd1fbd6e56f7dc3cb863970ec35",
     "grade": false,
     "grade_id": "name-email-ufid",
     "locked": false,
     "schema_version": 3,
     "solution": true,
     "task": false
    }
   },
   "outputs": [],
   "source": [
    "NAME = 'Kondreddy Rohith Sai Reddy'\n",
    "EMAIL = 'r.kondreddy@ufl.edu'\n",
    "UFID = 65682267\n",
    "\n",
    "# YOUR CODE HERE\n",
    "# raise NotImplementedError()"
   ]
  },
  {
   "cell_type": "code",
   "execution_count": 2,
   "metadata": {
    "deletable": false,
    "editable": false,
    "nbgrader": {
     "cell_type": "code",
     "checksum": "c41a13a5f6e2fa1b47621d28e926c2cf",
     "grade": true,
     "grade_id": "name-email-ufid-asserts",
     "locked": true,
     "points": 0,
     "schema_version": 3,
     "solution": false,
     "task": false
    }
   },
   "outputs": [],
   "source": [
    "\"\"\" [ASSERTS] Check that your name, email, and UFID is filled in.\"\"\"\n",
    "assert NAME != '' and NAME != 'Your name here.' and len(NAME) > 3\n",
    "assert EMAIL != '' and EMAIL != 'Your email here.' and len(EMAIL) > 7\n",
    "assert type(UFID) == int and UFID != 12345678 and UFID >= 10000000 and UFID <= 99999999"
   ]
  },
  {
   "cell_type": "markdown",
   "metadata": {
    "deletable": false,
    "editable": false,
    "nbgrader": {
     "cell_type": "markdown",
     "checksum": "5b4f30c4bbc2f9927b1410eeb1f001b3",
     "grade": false,
     "grade_id": "preamble-academic-integrity",
     "locked": true,
     "schema_version": 3,
     "solution": false,
     "task": false
    }
   },
   "source": [
    "## Academic Integrity"
   ]
  },
  {
   "cell_type": "markdown",
   "metadata": {
    "deletable": false,
    "editable": false,
    "nbgrader": {
     "cell_type": "markdown",
     "checksum": "99184dabc791053131230787b9f498b8",
     "grade": false,
     "grade_id": "preamble-academic-integrity-2",
     "locked": true,
     "schema_version": 3,
     "solution": false,
     "task": false
    }
   },
   "source": [
    "### <span style=\"color:red;\">This is an individual assignment. Academic integrity violations (i.e., cheating, plagiarism) will be reported to SCCR!</span><br/>\n",
    "#### The official CISE policy recommended for such offenses is a course grade of E. Additional sanctions may be imposed by SCCR such as marks on your permanent educational transcripts, dismissal or expulsion.\n",
    "#### Reminder of the Honor Pledge: On all work submitted for credit by Students at the University of Florida, the following pledge is either required or implied: *\"On my honor, I have neither given nor received unauthorized aid in doing this assignment.\"*"
   ]
  },
  {
   "cell_type": "markdown",
   "metadata": {
    "deletable": false,
    "editable": false,
    "nbgrader": {
     "cell_type": "markdown",
     "checksum": "5d8d2452e1d9f6d547eae6447b7ca369",
     "grade": false,
     "grade_id": "cell-preamble-academic-integrity-3",
     "locked": true,
     "schema_version": 3,
     "solution": false,
     "task": false
    }
   },
   "source": [
    "#### Acknowledgement: Do you acknowledge and understand the academic integrity warning above? "
   ]
  },
  {
   "cell_type": "code",
   "execution_count": 3,
   "metadata": {
    "deletable": false,
    "editable": true,
    "nbgrader": {
     "cell_type": "code",
     "checksum": "89bc9ed2e09cb9069b92dc24a3bc081a",
     "grade": false,
     "grade_id": "academic-integrity",
     "locked": false,
     "schema_version": 3,
     "solution": true,
     "task": false
    },
    "slideshow": {
     "slide_type": ""
    },
    "tags": []
   },
   "outputs": [],
   "source": [
    "# YOUR CODE HERE\n",
    "academic_integrity_acknowledgement = True\n",
    "# raise NotImplementedError()"
   ]
  },
  {
   "cell_type": "code",
   "execution_count": 4,
   "metadata": {
    "deletable": false,
    "editable": false,
    "nbgrader": {
     "cell_type": "code",
     "checksum": "fe0e95b88684fcaefb65ce6788381ad8",
     "grade": true,
     "grade_id": "academic-integrity-assert",
     "locked": true,
     "points": 0,
     "schema_version": 3,
     "solution": false,
     "task": false
    }
   },
   "outputs": [],
   "source": [
    "\"\"\" [ASSERTS] Check that you acknowledge the academic integrity warning, you understanding it and have been reminded of the UF Honor Pledge.\"\"\"\n",
    "assert academic_integrity_acknowledgement"
   ]
  },
  {
   "cell_type": "markdown",
   "metadata": {
    "deletable": false,
    "editable": false,
    "nbgrader": {
     "cell_type": "markdown",
     "checksum": "e3661dc971bce35889d8b182ffbbcf36",
     "grade": false,
     "grade_id": "task1-instruct",
     "locked": true,
     "schema_version": 3,
     "solution": false,
     "task": false
    }
   },
   "source": [
    "---\n",
    "# [Task 1] Check that the cell below runs with no errors and that the version of Python is at least 3.8 and the version of Tensorflow is at least 2.1!"
   ]
  },
  {
   "cell_type": "code",
   "execution_count": 5,
   "metadata": {
    "deletable": false,
    "editable": false,
    "nbgrader": {
     "cell_type": "code",
     "checksum": "45dd0d8cf0b7187efbdb2a5dad897415",
     "grade": false,
     "grade_id": "task1-code",
     "locked": true,
     "schema_version": 3,
     "solution": false,
     "task": false
    }
   },
   "outputs": [
    {
     "name": "stdout",
     "output_type": "stream",
     "text": [
      "### Python version: 3.11.7 (v3.11.7:fa7a6f2303, Dec  4 2023, 15:22:56) [Clang 13.0.0 (clang-1300.0.29.30)]\n",
      "### Numpy version: 1.26.3\n",
      "### Scipy version: 1.11.4\n",
      "### Pandas version: 2.1.4\n",
      "### Scikit-learn version: 1.3.2\n",
      "### Matplotlib version: 3.8.2\n",
      "### TensorFlow version: 2.15.0\n",
      "------------\n"
     ]
    }
   ],
   "source": [
    "# Load packages we need\n",
    "import sys\n",
    "import os\n",
    "\n",
    "import numpy as np\n",
    "import scipy as sp\n",
    "import pandas as pd\n",
    "\n",
    "import sklearn\n",
    "\n",
    "import matplotlib \n",
    "\n",
    "import tensorflow as tf\n",
    "\n",
    "# Let's check our software versions\n",
    "print('### Python version: ' + sys.version)\n",
    "print('### Numpy version: ' + np.__version__)\n",
    "print('### Scipy version: ' + sp.__version__)\n",
    "print('### Pandas version: ' + pd.__version__)\n",
    "print('### Scikit-learn version: ' + sklearn.__version__)\n",
    "print('### Matplotlib version: ' + matplotlib.__version__)\n",
    "print('### TensorFlow version: ' + tf.__version__)\n",
    "print('------------')"
   ]
  },
  {
   "cell_type": "markdown",
   "metadata": {
    "deletable": false,
    "editable": false,
    "nbgrader": {
     "cell_type": "markdown",
     "checksum": "832b0a90b1baad168c1fac6f92dd8cdf",
     "grade": false,
     "grade_id": "task1-code-instruct2",
     "locked": true,
     "schema_version": 3,
     "solution": false,
     "task": false
    }
   },
   "source": [
    "### [Task 1] (15 Points) Paste in the cell below the output of the cell above (with the library versions)!"
   ]
  },
  {
   "cell_type": "code",
   "execution_count": 6,
   "metadata": {
    "deletable": false,
    "nbgrader": {
     "cell_type": "code",
     "checksum": "3eae49bb7e4879ce075534eb3b2ee106",
     "grade": false,
     "grade_id": "task1-student-answer-paste",
     "locked": false,
     "schema_version": 3,
     "solution": true,
     "task": false
    }
   },
   "outputs": [
    {
     "name": "stdout",
     "output_type": "stream",
     "text": [
      "### Python version: 3.11.7 (v3.11.7:fa7a6f2303, Dec  4 2023, 15:22:56) [Clang 13.0.0 (clang-1300.0.29.30)]\n",
      "### Numpy version: 1.26.3\n",
      "### Scipy version: 1.11.4\n",
      "### Pandas version: 2.1.4\n",
      "### Scikit-learn version: 1.3.2\n",
      "### Matplotlib version: 3.8.2\n",
      "### TensorFlow version: 2.15.0\n"
     ]
    }
   ],
   "source": [
    "# Paste the output here:\n",
    "#\n",
    "#\n",
    "# YOUR CODE HERE\n",
    "### Python version: 3.11.7 (v3.11.7:fa7a6f2303, Dec  4 2023, 15:22:56) [Clang 13.0.0 (clang-1300.0.29.30)]\n",
    "### Numpy version: 1.26.3\n",
    "### Scipy version: 1.11.4\n",
    "### Pandas version: 2.1.4\n",
    "### Scikit-learn version: 1.3.2\n",
    "### Matplotlib version: 3.8.2\n",
    "### TensorFlow version: 2.15.0\n",
    "\n",
    "\n",
    "print(\"### Python version: 3.11.7 (v3.11.7:fa7a6f2303, Dec  4 2023, 15:22:56) [Clang 13.0.0 (clang-1300.0.29.30)]\")\n",
    "print(\"### Numpy version: 1.26.3\")\n",
    "print(\"### Scipy version: 1.11.4\")\n",
    "print(\"### Pandas version: 2.1.4\")\n",
    "print(\"### Scikit-learn version: 1.3.2\")\n",
    "print(\"### Matplotlib version: 3.8.2\")\n",
    "print(\"### TensorFlow version: 2.15.0\")\n",
    "\n",
    "# raise NotImplementedError()"
   ]
  },
  {
   "cell_type": "code",
   "execution_count": 7,
   "metadata": {
    "deletable": false,
    "editable": false,
    "nbgrader": {
     "cell_type": "code",
     "checksum": "56722b1eab262df4f3f86d25ff09bf36",
     "grade": true,
     "grade_id": "task1-paste-tests",
     "locked": true,
     "points": 15,
     "schema_version": 3,
     "solution": false,
     "task": false
    }
   },
   "outputs": [],
   "source": [
    "\"\"\" [ASSERTS] Check environment and versions.\"\"\"\n",
    "python_ver_split = sys.version.split('.')\n",
    "assert int(python_ver_split[0]) >= 3 and int(python_ver_split[1]) >= 8\n",
    "tf_ver_split = tf.__version__.split('.')\n",
    "assert int(tf_ver_split[0]) >= 2 and int(tf_ver_split[1]) >= 1"
   ]
  },
  {
   "cell_type": "markdown",
   "metadata": {
    "deletable": false,
    "editable": false,
    "nbgrader": {
     "cell_type": "markdown",
     "checksum": "5c00dc02de81b91d890c0682aebfb6cf",
     "grade": false,
     "grade_id": "task2-instruct",
     "locked": true,
     "schema_version": 3,
     "solution": false,
     "task": false
    }
   },
   "source": [
    "---\n",
    "# [Task 2] (10 Points) Tell us a little bit about yourself and what you hope to learn in this course"
   ]
  },
  {
   "cell_type": "markdown",
   "metadata": {
    "deletable": false,
    "editable": false,
    "nbgrader": {
     "cell_type": "markdown",
     "checksum": "8ffb640beee78e679484aad6c4c912a3",
     "grade": false,
     "grade_id": "task2a-instruct",
     "locked": true,
     "schema_version": 3,
     "solution": false,
     "task": false
    }
   },
   "source": [
    "## [Task 2a] (5 Points) Write a brief description of your academic history (2-3 sentences is fine)"
   ]
  },
  {
   "cell_type": "code",
   "execution_count": 8,
   "metadata": {
    "deletable": false,
    "editable": true,
    "nbgrader": {
     "cell_type": "code",
     "checksum": "08addd9addeec7948e2e2d3eeb883391",
     "grade": true,
     "grade_id": "task2a-input",
     "locked": false,
     "points": 5,
     "schema_version": 3,
     "solution": true,
     "task": false
    },
    "slideshow": {
     "slide_type": ""
    },
    "tags": []
   },
   "outputs": [
    {
     "name": "stdout",
     "output_type": "stream",
     "text": [
      "I earned my Bachelor of Technology in Information Technology from Vellore Institute of Technology, India, achieving a GPA of 3.77/4.0. Currently, I am pursuing a Master of Science in Computer Science at the University of Florida, USA, where I am delving into courses such as Analysis of Algorithms and Advanced Data Structures.\n"
     ]
    }
   ],
   "source": [
    "# YOUR CODE HERE\n",
    "print(\"I earned my Bachelor of Technology in Information Technology from Vellore Institute of Technology, India, achieving a GPA of 3.77/4.0. Currently, I am pursuing a Master of Science in Computer Science at the University of Florida, USA, where I am delving into courses such as Analysis of Algorithms and Advanced Data Structures.\")\n",
    "# raise NotImplementedError()"
   ]
  },
  {
   "cell_type": "markdown",
   "metadata": {
    "deletable": false,
    "editable": false,
    "nbgrader": {
     "cell_type": "markdown",
     "checksum": "90bc7ad492f90bcd109010c5c0eb29a8",
     "grade": false,
     "grade_id": "task2b-instruct",
     "locked": true,
     "schema_version": 3,
     "solution": false,
     "task": false
    }
   },
   "source": [
    "## [Task 2b] (5 Points) Briefly describe what you hope to learn in this course (a few sentences is fine)"
   ]
  },
  {
   "cell_type": "code",
   "execution_count": 9,
   "metadata": {
    "deletable": false,
    "nbgrader": {
     "cell_type": "code",
     "checksum": "e8adbcfcb0f737441a1f24d5b5db7075",
     "grade": true,
     "grade_id": "task2b-input",
     "locked": false,
     "points": 5,
     "schema_version": 3,
     "solution": true,
     "task": false
    }
   },
   "outputs": [
    {
     "name": "stdout",
     "output_type": "stream",
     "text": [
      "In this course, I aim to gain a comprehensive understanding of machine learning engineering. Specifically, I hope to delve into topics such as NumPy, SciPy, Matplotlib Basics, linear models, regression, regularization, logistic regression, SVM, decision trees, ensemble methods, model performance evaluation, gradient descent, neural networks, convolutional neural networks, autoencoders, generative adversarial networks, and various other advanced concepts. Additionally, I look forward to developing practical skills through exercises and hands-on projects, enhancing my ability to apply machine learning techniques in real-world scenarios.\n"
     ]
    }
   ],
   "source": [
    "# YOUR CODE HERE\n",
    "\n",
    "print(\"In this course, I aim to gain a comprehensive understanding of machine learning engineering. Specifically, I hope to delve into topics such as NumPy, SciPy, Matplotlib Basics, linear models, regression, regularization, logistic regression, SVM, decision trees, ensemble methods, model performance evaluation, gradient descent, neural networks, convolutional neural networks, autoencoders, generative adversarial networks, and various other advanced concepts. Additionally, I look forward to developing practical skills through exercises and hands-on projects, enhancing my ability to apply machine learning techniques in real-world scenarios.\")\n",
    "# raise NotImplementedError()"
   ]
  },
  {
   "cell_type": "markdown",
   "metadata": {
    "deletable": false,
    "editable": false,
    "nbgrader": {
     "cell_type": "markdown",
     "checksum": "8b369fab0ffb92313c0bd7b8bf85520c",
     "grade": false,
     "grade_id": "task3-instruct",
     "locked": true,
     "schema_version": 3,
     "solution": false,
     "task": false
    }
   },
   "source": [
    "---\n",
    "# [Task 3] (25 Points) Familiarize yourself with Python and NumPy and write some code to demonstrate your understanding. (Note: the basics notebook is a great resource!)"
   ]
  },
  {
   "cell_type": "markdown",
   "metadata": {
    "deletable": false,
    "editable": false,
    "nbgrader": {
     "cell_type": "markdown",
     "checksum": "d8572398a24857c9077908bc4b2059c5",
     "grade": false,
     "grade_id": "task3a-instruct",
     "locked": true,
     "schema_version": 3,
     "solution": false,
     "task": false
    }
   },
   "source": [
    "## [Task 3a] (5 Points) Create a numpy array 'a' that contains the integers 0 to 10. The shape of it should be (11,)."
   ]
  },
  {
   "cell_type": "code",
   "execution_count": 10,
   "metadata": {
    "deletable": false,
    "editable": true,
    "nbgrader": {
     "cell_type": "code",
     "checksum": "712e169a43622cee6afed8e907223c13",
     "grade": false,
     "grade_id": "task3a-input",
     "locked": false,
     "schema_version": 3,
     "solution": true,
     "task": false
    },
    "slideshow": {
     "slide_type": ""
    },
    "tags": []
   },
   "outputs": [],
   "source": [
    "\"\"\"Put your code to create 'a' here.\n",
    "\"\"\"\n",
    "# YOUR CODE HERE\n",
    "\n",
    "a = np.array([0,1,2,3,4,5,6,7,8,9,10])\n",
    "\n",
    "\n",
    "#or\n",
    "#a = np.arange(11)\n",
    "\n",
    "# raise NotImplementedError()"
   ]
  },
  {
   "cell_type": "code",
   "execution_count": 11,
   "metadata": {
    "deletable": false,
    "editable": false,
    "nbgrader": {
     "cell_type": "code",
     "checksum": "b21ae0cde4546c286206d29162d1b374",
     "grade": true,
     "grade_id": "task3a-test",
     "locked": true,
     "points": 5,
     "schema_version": 3,
     "solution": false,
     "task": false
    }
   },
   "outputs": [
    {
     "name": "stdout",
     "output_type": "stream",
     "text": [
      "[ 0  1  2  3  4  5  6  7  8  9 10]\n"
     ]
    }
   ],
   "source": [
    "\"\"\" [ASSERTS] Check the answer.\"\"\"\n",
    "print(a) # this should print: \"[ 0 1  2  3  4  5  6  7  8  9 10]\"\n",
    "assert a.shape == (11,)"
   ]
  },
  {
   "cell_type": "markdown",
   "metadata": {
    "deletable": false,
    "editable": false,
    "nbgrader": {
     "cell_type": "markdown",
     "checksum": "ab7afea0ec7ca713c0b4f7e7160d7580",
     "grade": false,
     "grade_id": "task3b-instruct",
     "locked": true,
     "schema_version": 3,
     "solution": false,
     "task": false
    }
   },
   "source": [
    "## [Task 3b] (5 Points) Let 'b' be the numpy array where every element is the square of the corresponding element in 'a'. The shape should be (11,)."
   ]
  },
  {
   "cell_type": "code",
   "execution_count": 12,
   "metadata": {
    "deletable": false,
    "nbgrader": {
     "cell_type": "code",
     "checksum": "dab4a293ac4a31d67df9001c2f332512",
     "grade": false,
     "grade_id": "task3b-input",
     "locked": false,
     "schema_version": 3,
     "solution": true,
     "task": false
    }
   },
   "outputs": [],
   "source": [
    "\"\"\"Put your code to create 'b' here.\n",
    "\"\"\"\n",
    "# YOUR CODE HERE\n",
    "\n",
    "b = np.square(a)\n",
    "\n",
    "\n",
    "# raise NotImplementedError()"
   ]
  },
  {
   "cell_type": "code",
   "execution_count": 13,
   "metadata": {
    "deletable": false,
    "editable": false,
    "nbgrader": {
     "cell_type": "code",
     "checksum": "9028d4ec06b76b11419d73464ef4262a",
     "grade": true,
     "grade_id": "task3b-test",
     "locked": true,
     "points": 5,
     "schema_version": 3,
     "solution": false,
     "task": false
    }
   },
   "outputs": [
    {
     "name": "stdout",
     "output_type": "stream",
     "text": [
      "[  0   1   4   9  16  25  36  49  64  81 100]\n"
     ]
    }
   ],
   "source": [
    "\"\"\" [ASSERTS] Check the answer.\"\"\"\n",
    "print(b) # this should print: \"[  0   1   4   9  16  25  36  49  64  81 100]\"\n",
    "assert b.shape == (11,)"
   ]
  },
  {
   "cell_type": "markdown",
   "metadata": {
    "deletable": false,
    "editable": false,
    "nbgrader": {
     "cell_type": "markdown",
     "checksum": "2e6cc1464303b635ff6784cb31d2b137",
     "grade": false,
     "grade_id": "task3c-instruct",
     "locked": true,
     "schema_version": 3,
     "solution": false,
     "task": false
    }
   },
   "source": [
    "## [Task 3c] (5 Points) Create an 3x4 numpy array 'c' of random integers in [-5, +5[ (use numpy.random.randint)."
   ]
  },
  {
   "cell_type": "code",
   "execution_count": 14,
   "metadata": {
    "deletable": false,
    "nbgrader": {
     "cell_type": "code",
     "checksum": "3d8a7beef459ebf26752939290889f97",
     "grade": false,
     "grade_id": "task3c-input",
     "locked": false,
     "schema_version": 3,
     "solution": true,
     "task": false
    }
   },
   "outputs": [],
   "source": [
    "\"\"\"Put your code to create 'c' here.\n",
    "\"\"\"\n",
    "# YOUR CODE HERE\n",
    "\n",
    "c = np.random.randint(-5, 5, size=(3, 4))\n",
    "\n",
    "\n",
    "# raise NotImplementedError()"
   ]
  },
  {
   "cell_type": "code",
   "execution_count": 15,
   "metadata": {
    "deletable": false,
    "editable": false,
    "nbgrader": {
     "cell_type": "code",
     "checksum": "577db5a006e0db2e77549916771be40e",
     "grade": true,
     "grade_id": "task3c-test",
     "locked": true,
     "points": 5,
     "schema_version": 3,
     "solution": false,
     "task": false
    }
   },
   "outputs": [
    {
     "name": "stdout",
     "output_type": "stream",
     "text": [
      "[[-4 -1 -4  4]\n",
      " [-3  0 -3  4]\n",
      " [-1  0 -1  4]]\n"
     ]
    }
   ],
   "source": [
    "\"\"\" [ASSERTS] Check the answer.\"\"\"\n",
    "print(c)\n",
    "assert c.shape == (3,4)"
   ]
  },
  {
   "cell_type": "markdown",
   "metadata": {
    "deletable": false,
    "editable": false,
    "nbgrader": {
     "cell_type": "markdown",
     "checksum": "23c58c6c422a85978a80633ce24d5744",
     "grade": false,
     "grade_id": "task3d-instruct",
     "locked": true,
     "schema_version": 3,
     "solution": false,
     "task": false
    }
   },
   "source": [
    "## [Task 3d] (5 Points) Let 'd' be the reshaped version of 'c' as a 6x2 array."
   ]
  },
  {
   "cell_type": "code",
   "execution_count": 16,
   "metadata": {
    "deletable": false,
    "nbgrader": {
     "cell_type": "code",
     "checksum": "d181cbbba95331e682252bf8c2ca8af2",
     "grade": false,
     "grade_id": "task-3d-sol",
     "locked": false,
     "schema_version": 3,
     "solution": true,
     "task": false
    }
   },
   "outputs": [],
   "source": [
    "\"\"\"Put your code to create 'd' here.\n",
    "\"\"\"\n",
    "# YOUR CODE HERE\n",
    "\n",
    "\n",
    "d = c.reshape(6, 2)\n",
    "\n",
    "\n",
    "# raise NotImplementedError()"
   ]
  },
  {
   "cell_type": "code",
   "execution_count": 17,
   "metadata": {
    "deletable": false,
    "editable": false,
    "nbgrader": {
     "cell_type": "code",
     "checksum": "68a44869e6f550cad0d8ae2d61860787",
     "grade": true,
     "grade_id": "task-3d-test",
     "locked": true,
     "points": 5,
     "schema_version": 3,
     "solution": false,
     "task": false
    }
   },
   "outputs": [
    {
     "name": "stdout",
     "output_type": "stream",
     "text": [
      "[[-4 -1]\n",
      " [-4  4]\n",
      " [-3  0]\n",
      " [-3  4]\n",
      " [-1  0]\n",
      " [-1  4]]\n"
     ]
    }
   ],
   "source": [
    "\"\"\" [ASSERTS] Check the answer.\"\"\"\n",
    "print(d)\n",
    "assert d.shape == (6,2)"
   ]
  },
  {
   "cell_type": "markdown",
   "metadata": {
    "deletable": false,
    "editable": false,
    "nbgrader": {
     "cell_type": "markdown",
     "checksum": "ce13a59daece7c915d38467ca25d265c",
     "grade": false,
     "grade_id": "task3e-instruct",
     "locked": true,
     "schema_version": 3,
     "solution": false,
     "task": false
    }
   },
   "source": [
    "## [Task 3e] (5 Points) Use numpy or scipy to draw 1000 i.i.d. random samples from the Gaussian distribution with the mean given by the first digit of your UFID and the standard deviation given by the square root of the sum of all digits in your UFID. For example, if you UFID is 2801104 the mean would be 2 and the standard deviation is 4. Let 'e' be the array with the random samples."
   ]
  },
  {
   "cell_type": "code",
   "execution_count": 18,
   "metadata": {
    "deletable": false,
    "editable": true,
    "nbgrader": {
     "cell_type": "code",
     "checksum": "20bdffed9683e293b0ed3bddb8e89fae",
     "grade": false,
     "grade_id": "task3e-input",
     "locked": false,
     "schema_version": 3,
     "solution": true,
     "task": false
    },
    "slideshow": {
     "slide_type": ""
    },
    "tags": []
   },
   "outputs": [
    {
     "name": "stdout",
     "output_type": "stream",
     "text": [
      "[ 2.14361593e+01 -4.13890273e+00  2.29173335e+00  1.09096041e+00\n",
      "  7.84057524e+00  1.05419960e+01  1.10321821e+00  6.50677105e+00\n",
      "  2.60142915e+00  9.00182094e+00 -7.93202230e+00  3.33723316e+00\n",
      "  1.29443746e+01  8.17082592e+00  1.45490874e+00 -1.39903664e+01\n",
      "  7.09576860e-01 -1.21103818e+00  1.09193152e+01  1.61598188e+01\n",
      "  1.66152871e+01 -5.00805999e-01  6.23049179e+00  1.59725097e+00\n",
      "  7.37534406e+00  1.69269861e+00 -8.50263865e+00  1.28485356e+01\n",
      "  3.02288124e+00  6.99828636e+00  6.29433816e-01  4.91326244e+00\n",
      "  6.46201144e+00  1.01636114e+01  9.11545151e+00  7.00073553e+00\n",
      "  4.13247106e+00  2.41243243e+01  1.26664201e+00  1.01962990e+01\n",
      "  1.32597285e+01 -5.18961437e-01  7.56646524e+00  1.09913687e+00\n",
      "  7.66786182e+00  4.97499005e+00  5.91944431e+00  3.21030131e+00\n",
      "  9.50633386e+00  1.37916059e+01 -1.64139993e+00 -1.91227318e-01\n",
      " -1.69934356e+00  2.23247389e-01 -7.66404564e-01  1.52392604e+00\n",
      " -2.92026862e+00 -2.71577671e+00  1.13818773e+01  3.13835422e-01\n",
      "  4.15810126e+00  6.79314451e+00  5.87291748e+00  1.13298264e+01\n",
      "  4.93494935e+00  1.28670660e+01  9.91691155e+00 -5.32358563e-01\n",
      "  1.45575802e+01 -2.91213621e-01  4.26749914e+00  5.36394408e+00\n",
      "  1.44106860e+01  1.87878586e+01 -5.28770207e+00  1.38132790e+00\n",
      "  1.87045556e+00  4.44882108e+00  4.98610348e+00  6.58985655e+00\n",
      "  1.08132551e+01  2.67731005e+00  3.75563947e+00  1.67590656e+01\n",
      "  9.73140095e+00  7.71716513e+00 -8.24681962e-03  1.30107363e+00\n",
      "  1.87350182e+01  1.45065339e+01  1.36188631e+01  5.77505463e+00\n",
      "  3.25700964e+00  1.05683813e+01 -4.55807478e+00  6.05329067e+00\n",
      "  1.18536812e+01  1.01125353e+01 -8.24297362e-02  1.30837154e+01\n",
      "  4.84298411e+00 -5.76533279e+00  2.09368193e+01  2.69174508e+00\n",
      "  7.86608567e+00  8.58822220e+00  2.54129538e-01 -2.93665840e-02\n",
      "  2.22552267e+00  6.22754080e+00  9.85877637e+00  2.70807608e-01\n",
      "  7.81573206e+00  7.54628395e+00  2.72724986e+00  6.55409053e+00\n",
      "  7.37931765e+00  2.26746934e+01 -8.30336849e+00  8.05921677e+00\n",
      "  7.62865229e+00  2.83200438e+00 -9.44694108e-01  1.14613301e+01\n",
      "  1.61945810e+01  1.03911551e+00  9.25916430e+00  1.41722167e+01\n",
      "  6.95301024e-01  8.19611181e+00  8.09024517e+00 -7.84202796e-01\n",
      "  6.95516747e+00 -2.38734075e+00  1.40246227e+01  1.24912732e+01\n",
      "  1.17435854e+01  4.66182288e+00  9.65860136e+00  1.97448315e+00\n",
      " -4.62476359e+00 -7.51992191e-01  1.25647352e+01  1.13154099e+01\n",
      "  3.52979210e+00  8.21934540e+00  4.07640957e+00  1.00874167e+01\n",
      "  1.90563872e+01  7.37967383e+00  5.61394920e+00 -4.87633150e+00\n",
      "  5.79927660e+00  6.37140301e+00  2.06964390e+01  7.72307113e+00\n",
      "  9.63702688e+00  1.19794733e+01 -7.40907139e+00  8.05691045e+00\n",
      "  1.81676328e+01  8.91972081e-01  6.15320218e+00  1.69559755e+00\n",
      "  1.68925376e+01  8.67772026e-01  9.91199770e+00  2.88764727e+00\n",
      " -2.24067418e-01 -3.04297450e+00  3.98604275e+00 -4.39746586e+00\n",
      " -1.03292800e+00  1.00111625e+01  5.78717406e+00  4.90046349e+00\n",
      "  6.04828564e+00 -1.03242429e+00  9.91187362e+00  9.08600113e+00\n",
      "  3.18606247e+00  1.02350640e+01 -3.37390752e+00  1.82660297e+01\n",
      "  1.97478160e+01 -1.04593674e+01  1.54113071e+01  1.38272113e+00\n",
      "  2.28551330e+00  8.58400568e+00  3.48323334e+00  7.96471070e+00\n",
      " -3.13812680e+00  1.69099818e+00  4.20364966e+00  4.37836812e+00\n",
      "  1.09701845e+00  1.08974941e+01  1.16444058e+01  9.59450393e+00\n",
      "  1.14290268e+01  4.78636695e+00 -1.53208005e+00  7.63256818e+00\n",
      "  1.67215870e+00  1.37880274e+01 -1.65714240e+00 -1.09652229e+00\n",
      "  2.82747878e+00  1.47861975e+01  1.23245701e+01  1.41485013e-01\n",
      "  1.56682595e+01 -2.58108285e+00  7.63821941e+00 -5.29623058e+00\n",
      " -8.35570102e+00  5.18348268e+00  1.39861039e+01  5.95926710e+00\n",
      " -5.61771362e-01 -1.55744408e+00 -8.40446077e-01  7.89932835e+00\n",
      " -1.96625498e+00 -4.92329687e-01 -2.87727368e-01 -5.41607043e+00\n",
      "  7.10419915e+00  3.24042787e+00  8.54687084e+00  3.54477811e+00\n",
      "  5.24462123e+00 -1.79661532e+00  1.38791080e+01 -3.22832327e+00\n",
      "  8.68404712e+00  2.68941784e+00  8.25134524e+00 -6.21221837e+00\n",
      "  6.22843515e+00  1.39948632e+01  6.47003744e+00  1.78403142e+01\n",
      "  1.05809994e+01  1.29655446e+01 -1.02528167e+01  3.80934872e-01\n",
      "  9.05078982e+00  1.28736096e+01  6.48696825e+00  9.31562651e+00\n",
      "  1.53932299e+01  8.10404188e+00  1.67316515e-01 -4.69070547e-01\n",
      " -2.99926637e+00 -9.67349893e-01  1.15156570e+01  5.69396136e+00\n",
      "  2.14418599e+00  6.57724644e+00  1.01329719e+01  9.14159778e+00\n",
      "  7.56589849e+00  8.68261037e+00  1.00335895e+01  5.56670286e+00\n",
      "  5.03835367e+00  8.36041387e+00  1.45650047e+01 -9.67315895e-01\n",
      "  5.36511286e+00  4.68588752e+00 -1.34869621e+00  7.88016849e+00\n",
      "  5.69490150e+00  2.91127756e+00  1.16454678e+01 -3.88162391e+00\n",
      " -7.54534812e+00 -5.09580478e-01  6.80475363e+00  4.26008001e+00\n",
      "  1.74677296e+01  8.52219869e+00  6.85904290e+00 -1.04569559e+01\n",
      "  2.54517707e+00 -4.73556474e+00  2.13265115e+00  1.13953746e+00\n",
      "  1.23563456e+01  7.53816467e+00  1.24273664e+01  6.98219801e+00\n",
      " -1.76959903e+00  4.88744652e+00  1.56488781e+00  2.86483281e+00\n",
      "  1.17259109e+01  7.64581506e+00  1.25202052e+01  9.72244976e+00\n",
      "  4.15752790e-02  1.46511335e+01 -5.11902837e+00 -1.00410691e+01\n",
      "  9.72918803e+00  8.81089630e+00  1.35292525e+00  1.41746104e+01\n",
      "  1.68242900e+01  4.09253563e+00  6.07056836e+00  8.75832785e+00\n",
      "  5.59673551e+00  2.60538378e+00  1.51748382e+01 -6.13818283e+00\n",
      "  3.61828252e+00  2.92158072e+00  1.79675774e+01  1.33326783e+00\n",
      "  1.70274891e+00  5.26184659e+00  1.32737178e+01  8.30158682e+00\n",
      "  3.07389890e+00  6.33046104e+00  2.70010146e+00  5.17440452e+00\n",
      "  1.01652592e+01  4.00015500e+00  1.56439850e+00  7.51918049e+00\n",
      "  8.19474431e+00  1.37810993e+01  9.23773487e+00  1.63477930e+00\n",
      "  4.01207680e+00  1.53890725e+01  1.45751554e+00 -8.99327301e+00\n",
      "  9.20751961e+00  1.03501007e+01  1.55312088e+00  3.14829285e+00\n",
      "  7.29718349e-01  1.21755353e+01  1.03378143e+01  2.43879212e+00\n",
      "  5.40864703e+00  1.16329748e-01 -5.67520086e+00  6.57371196e+00\n",
      "  1.18301306e+01  9.67220500e+00  1.39531404e+01  4.10838401e+00\n",
      "  1.12517736e+01 -6.64687960e+00  5.33273039e+00  9.73027856e+00\n",
      "  9.11429424e+00  3.82701731e+00  1.56325112e+01  3.05958758e+00\n",
      "  1.87179074e+00  4.67451076e+00  1.66796923e+01  9.43645487e+00\n",
      "  8.11214305e+00 -1.80420273e+00  1.03188511e+01  3.77892380e+00\n",
      "  1.02864170e+01  3.95577564e+00  8.60439000e+00  5.26342196e+00\n",
      "  2.22227893e+01  6.94206302e+00 -9.34453916e-01  1.50559379e+01\n",
      " -1.36479044e+01  1.36208397e+01  2.23491049e+00  9.14805586e+00\n",
      " -4.08022689e+00  7.15659483e+00  7.48243008e+00  4.35137160e+00\n",
      " -3.09450176e+00  6.99952890e+00  5.89253556e+00  1.08534867e+01\n",
      "  1.13520067e+01  1.27204717e+01  6.18522930e+00  4.69870484e+00\n",
      " -2.61675696e+00  1.39609666e+01  2.95058805e+00  7.35072692e+00\n",
      "  1.39047372e+01  2.26667554e+01  5.46650573e+00  4.47810912e+00\n",
      "  1.26569229e+01  1.34130978e+00 -1.62135861e+00  7.17053552e+00\n",
      " -2.62761300e+00  7.45125067e+00  1.87045367e+01  1.06061625e+01\n",
      "  3.73390293e+00  1.02740756e+01  2.87472962e+00  4.04414290e+00\n",
      " -2.84645273e+00  4.50233541e+00  1.11971050e+01  5.26258224e+00\n",
      "  1.81871773e+01  1.51228850e+01  1.42268411e+01 -7.23406822e+00\n",
      "  9.76452435e-01  2.71553609e+00  3.16851713e+00  2.38285297e+00\n",
      "  1.55501432e+01  6.25136780e+00  3.92890937e+00  1.44242323e+01\n",
      "  6.82758715e+00  8.80395283e+00 -7.67980970e-01  2.39648526e+01\n",
      "  9.98711495e+00  1.36826006e+01  8.48772439e+00  6.84297918e+00\n",
      "  6.36747433e-01  4.61007100e+00  4.03292895e+00  9.98381106e+00\n",
      "  6.78733850e+00  9.87389109e+00  4.76628343e+00 -2.49037535e+00\n",
      "  1.09533163e+01  5.77228961e+00  8.83351845e+00  6.01914903e+00\n",
      "  3.75204522e+00  7.59664858e+00  3.73859193e+00  6.46047776e-02\n",
      "  1.31586141e+01  9.80072932e-02  3.24359471e-02  1.06506661e+01\n",
      " -1.44513810e+00  2.03365038e+01 -9.88029068e-01  1.62758229e+01\n",
      "  4.34770017e+00  2.50295529e+00  4.40668125e+00  4.28388490e+00\n",
      " -2.20837102e+00  7.65725276e+00  2.43082949e+00 -5.91621915e+00\n",
      " -3.54157735e+00  9.68664626e+00 -1.82405689e+00  1.21586421e+00\n",
      "  1.05207506e+01  1.86913396e+01 -1.40862656e+00  4.90488428e+00\n",
      "  1.89914695e+01  4.28008065e+00  1.27209335e+01  3.42932250e+00\n",
      "  2.08567860e+00  5.65391548e-01  9.19551157e+00  2.43251477e+00\n",
      "  1.23421265e+00  5.90343991e+00  5.66120049e+00  8.89522769e-01\n",
      "  2.11553364e+00  1.83132824e+01 -7.68822082e-01  1.27831031e+00\n",
      "  6.62399271e+00 -4.86465009e+00 -1.19348907e+01  1.75643761e+00\n",
      "  9.17043167e+00  6.26363088e+00  3.05201132e+00  4.34593563e+00\n",
      "  5.50909907e+00  6.46780732e+00  1.26520900e+01  1.00805019e+01\n",
      " -9.46964766e+00  6.15513761e+00 -1.60694081e+00  8.05688093e+00\n",
      " -1.23187890e+00  2.74023698e+00  1.36147777e+01  3.37123983e-01\n",
      "  4.58877492e+00  3.13251961e+00  4.33045162e+00  6.01681893e+00\n",
      "  9.84349068e+00  1.56826383e+01  7.93280195e+00  7.03890294e+00\n",
      "  6.89624817e+00 -5.01895885e-01  3.27201662e+00  5.38317369e+00\n",
      "  1.01231138e+01  7.11296429e-01 -5.03410813e+00  3.90897630e+00\n",
      "  2.30064236e+00  6.51756663e+00 -5.03782349e+00  6.23141193e-01\n",
      "  5.77051050e+00 -2.21141204e+00 -8.89589977e+00  6.22104910e+00\n",
      "  3.86316699e+00  2.18920746e+01  3.47247424e+00  1.15130554e+01\n",
      " -2.58111751e+00  3.96350286e+00  3.03277762e+00  7.67783164e+00\n",
      "  2.56532694e+00  7.98205730e+00  1.47633430e+01  6.22247378e+00\n",
      "  8.09381285e+00  1.43147279e+01 -2.41571240e+00  4.47818762e+00\n",
      "  3.69966343e+00 -1.18498627e+00  1.85602396e+00  9.88046375e+00\n",
      "  4.09100887e+00 -3.06245203e-01 -1.13339273e+01 -5.77284123e+00\n",
      "  5.30550893e+00  1.71658935e+01  8.85765090e+00  9.20377036e+00\n",
      "  1.16510693e+01 -1.08199279e+01  1.14427378e+01  6.83518506e+00\n",
      "  9.21871089e+00  8.49875368e+00  4.08094987e+00  1.56591951e+01\n",
      "  5.19757607e+00  6.73139712e+00 -1.57119253e+00  1.47753136e+00\n",
      "  7.69552641e+00  9.41782061e+00  7.55796236e+00  7.89728039e+00\n",
      "  1.08725856e+01  3.37203186e+00  5.53015096e+00  4.80983965e-01\n",
      "  2.47626235e+00  1.52422529e+00 -1.78364009e+00  3.20536412e+00\n",
      "  6.14907709e+00  9.70331926e+00  7.35488904e+00  5.67663668e+00\n",
      "  1.01697261e+00 -3.20124997e+00  9.80810592e+00  7.59788169e+00\n",
      "  9.28054445e+00  1.06216053e+01  4.13820658e+00  7.94933922e+00\n",
      " -4.31720220e+00  3.47842820e+00  1.15213156e+01  2.67382225e+00\n",
      "  3.04029729e+00 -4.12827919e+00  8.60593419e+00  1.01095861e+01\n",
      "  6.54364479e+00  6.40945148e+00  1.36277059e+01  1.36215161e+01\n",
      "  6.76771944e+00  1.57120825e+01  2.50965576e+00  1.05014730e+01\n",
      "  1.43102055e+01  7.20125871e+00  5.36050248e+00  9.53328167e+00\n",
      "  2.33894626e+00  1.10565383e+01  1.02638683e+01  3.11202407e+00\n",
      "  7.50188882e+00  2.97051253e+00  3.49422052e-01  4.32208175e+00\n",
      "  3.87605157e+00  9.43244772e+00 -7.44874740e+00  4.81663239e+00\n",
      "  2.42904882e+00 -7.88896055e+00  1.35728651e+00  5.30962933e+00\n",
      " -2.15286301e+00  3.49563254e+00  1.07677715e+01  8.93275519e-02\n",
      "  1.00304295e+01  1.46452423e+01 -3.02277840e+00  1.01880381e+01\n",
      "  3.61608977e+00 -6.11584528e+00  6.05742868e+00  1.60021471e+01\n",
      " -3.70232923e-01  1.13113920e+01  4.26728060e+00  1.38141105e+01\n",
      "  1.13301868e+01  8.85889403e+00  2.09081672e+00  1.15941588e+01\n",
      "  5.19621575e+00  1.32079475e+01  1.71374323e+01  2.08929912e+01\n",
      "  6.05346580e+00 -2.47967944e+00  1.17872889e+01  4.83470277e+00\n",
      "  1.37421762e+01  1.34375119e+01  4.87146770e+00  1.22281208e+01\n",
      "  6.34704790e+00  2.09736967e+00  7.65926483e+00 -2.89927631e+00\n",
      " -1.61896100e+00  2.88918513e+00  8.49810377e+00  5.83940801e+00\n",
      "  1.26687994e+01  2.15879899e+00  1.68067274e+01  4.34627908e+00\n",
      " -4.85642545e+00  2.60355993e+00  1.29990597e+01  4.33170083e+00\n",
      "  8.97275066e+00 -2.92196628e+00  6.20482091e+00  1.18926579e+01\n",
      "  1.28960623e+01  9.61596138e+00  1.16802132e+01  4.40020403e+00\n",
      "  1.60788809e+01  8.10294084e+00  1.12803418e+01  9.23452857e+00\n",
      " -3.74923434e+00  1.26457285e+01 -5.07293026e+00  3.90909610e+00\n",
      "  6.26455472e+00  1.99083767e+01 -1.82377545e+00  9.82158673e+00\n",
      "  1.58833742e+01  3.12793794e+00  3.42048499e+00  4.34801865e+00\n",
      "  1.53097700e+01  1.08696516e+01  3.15770158e+00  9.37933343e+00\n",
      "  7.92305452e-01 -5.17885572e+00  9.34519334e+00  1.16251821e+01\n",
      "  4.12089975e-01 -1.47260289e-01  1.17325428e+01  9.37340272e+00\n",
      " -7.78860003e+00  3.73489144e+00  1.05584103e+00  3.34080941e+00\n",
      "  5.37208783e+00  5.15885368e+00  1.42893082e+01  1.05542548e+01\n",
      "  9.37805804e-01  1.23343771e+00  7.74298541e+00  1.04184428e+01\n",
      " -1.69630177e+00 -2.72745457e+00  9.05525492e+00  6.52165390e-01\n",
      " -9.81731632e-01  1.31710869e+01 -1.00579301e+01  4.02766160e+00\n",
      "  1.12177301e+00  3.01664285e+00 -1.22475796e+00  6.86198816e+00\n",
      "  1.94544609e+01 -7.44917686e+00  5.16543952e+00  6.03013565e+00\n",
      "  7.59277246e+00  1.83176708e+01  1.00819500e+01 -3.00195009e-02\n",
      "  8.60132864e+00  1.52079037e+01  1.93005649e+01  2.09442707e+01\n",
      "  3.80130676e+00  1.02593850e+01 -8.32690546e-01  4.94530930e+00\n",
      "  2.80399118e+00  1.57365293e+01  1.24506617e+01  2.01354865e+00\n",
      "  9.18580292e+00  5.38783298e+00  9.96384040e+00  1.35239721e+00\n",
      "  1.58562928e+00  3.99546955e+00  9.51546205e+00  3.50906835e+00\n",
      "  6.12855634e+00  7.48866803e+00  1.77822054e+01  4.00955422e+00\n",
      "  1.28908986e+01  8.11314762e+00  6.42894883e+00  8.21018340e+00\n",
      "  6.23546742e+00  5.36701343e+00  4.80684292e-01  1.42690079e+00\n",
      "  1.41457158e+00 -1.51051521e+00  4.74032113e+00  1.42048009e+01\n",
      "  7.43260267e+00 -6.66400064e+00 -4.05879699e-02 -5.29542070e+00\n",
      "  1.79048907e+01  1.24263850e+01  1.07933124e+01  3.79746654e+00\n",
      "  8.69137894e+00 -4.11618867e-01  1.22069315e+01 -1.52206692e+00\n",
      "  5.47416781e+00  7.66512274e+00  1.46161792e+00  2.34706498e+00\n",
      "  4.33150106e+00  1.40601991e+01  9.86334457e+00  1.08998876e+01\n",
      " -2.73255840e+00 -3.48678948e-01  3.05718117e+00  2.64882094e+00\n",
      "  2.05297420e+01  8.49759650e+00  8.62272011e+00  6.08861974e+00\n",
      "  4.67923734e-01  6.38181619e+00  3.94013904e+00  1.62652079e+01\n",
      " -1.59471901e+00  8.67827517e+00  1.38007172e+01  3.53307425e+00\n",
      "  2.52280894e+00  1.18422068e+01  4.25884924e+00  2.20947843e+00\n",
      "  1.82249813e+00  7.90289938e+00  6.75328569e+00  7.72734210e+00\n",
      "  1.33306473e+01  4.12079580e+00  8.07563695e+00  1.37729278e+01\n",
      "  9.64748868e+00  1.67809292e+01  1.43458170e+01  2.10924373e+01\n",
      "  2.14194154e+01  1.38559642e+01  8.58037088e+00  1.20936674e+01\n",
      "  5.17734570e-01  6.07285471e-01  2.30829642e+00  4.73150229e+00\n",
      " -5.29373342e-02  1.95278437e+00  1.65045154e+01  1.36858154e+01\n",
      "  6.80557169e+00  1.12738988e+00  1.50083222e+01  6.08580046e+00\n",
      "  1.06002355e+01  2.46245328e+01  1.01381612e+01  6.12430382e+00\n",
      "  4.43992316e+00  1.38542784e+01  6.62509350e+00  1.25874393e+01\n",
      " -1.96004301e+00  1.43661502e+01  1.05728875e+01  6.99103660e+00\n",
      "  7.52081420e+00  1.20978661e+01  2.87146841e+00  4.26603152e+00\n",
      " -4.02488659e-01  8.73210423e+00  6.81521435e+00  4.98903278e+00\n",
      "  1.03869001e+01  1.51465226e+01  5.91312581e+00  1.33047581e+00\n",
      "  5.65503649e+00  7.47687303e-01  6.06291707e+00  9.24018433e+00\n",
      "  8.80701946e+00  1.10865660e+01  1.08673540e+01 -3.24386628e+00\n",
      "  1.11130180e+01  1.10788954e+01  1.56076165e+01  2.98332587e+00\n",
      "  7.68186939e+00 -4.06013797e-01  7.00394161e+00  5.42222950e+00\n",
      "  8.17263110e+00  7.92845928e+00  7.26375132e+00  3.61850371e+00\n",
      "  1.37477316e+01  1.14790660e+01  1.32954241e+01  5.34549967e+00\n",
      "  9.99506174e+00  1.06083420e+01  2.27314222e-01  1.41877536e+01\n",
      "  1.94969860e+00  6.00941049e+00  1.12803059e+01  1.18215754e+01\n",
      "  1.40670659e+01  2.29400207e+00 -8.11767530e+00  7.53402328e+00\n",
      "  6.47946381e+00  1.66277016e+01 -5.13253454e+00  2.41083388e+00\n",
      "  5.60787036e+00  7.63322436e+00  7.21206454e+00  6.07019079e+00\n",
      "  6.56106172e+00  5.32438128e+00 -1.05474656e+00  1.03195696e+01\n",
      "  5.92252482e+00  8.39083055e+00  6.75076465e-01  2.85282338e+00\n",
      "  1.82538478e+01  1.81421416e+01  3.59363173e+00 -6.55969376e+00\n",
      "  1.35224076e+00  6.40296530e+00  4.06526046e+00  6.18922802e+00\n",
      "  1.37553283e+01  2.71011567e+00  8.49210570e+00  1.65899487e+01\n",
      "  3.30712331e+00  4.30762756e-01  1.03320577e+01  4.54598901e+00\n",
      "  3.71472424e+00  1.34348879e+01  1.78104815e+00  9.54283033e+00\n",
      "  1.48636403e+01 -7.40123029e+00 -4.23360294e+00 -1.44588144e-01\n",
      "  1.48992199e+01  6.27901179e+00  6.68013331e+00  1.03263386e+01\n",
      "  8.03936222e+00  6.31479009e+00  6.20461130e+00 -9.01891261e-01\n",
      "  1.51103554e+01 -1.90995511e+00 -1.63308134e+00  8.35493646e+00\n",
      "  6.21236196e+00  8.11184866e-01  2.24488694e+00  8.18946060e+00\n",
      " -1.07032613e+00  6.18364001e+00 -1.23350031e+00 -1.17250208e+00\n",
      "  1.12563037e+01  1.30912402e+01 -8.81377336e+00  1.32993532e+01\n",
      "  1.82546178e+01 -5.81641501e+00  1.82092348e+01 -8.35537812e+00\n",
      "  6.16965672e+00  1.21004000e+01  8.90464610e+00  1.40496053e+01\n",
      "  6.88169227e-01  5.88771743e+00  1.68142553e+01  8.89878882e+00]\n"
     ]
    }
   ],
   "source": [
    "\"\"\"Put your code to create 'e' here.\n",
    "\"\"\"\n",
    "# YOUR CODE HERE\n",
    "\n",
    "# UFID = 65682267\n",
    "\n",
    "mean_value = int(str(UFID)[0])\n",
    "\n",
    "std_deviation = 0\n",
    "for digit in str(UFID):\n",
    "    std_deviation += int(digit)\n",
    "\n",
    "std_deviation = np.sqrt(std_deviation)\n",
    "\n",
    "\n",
    "e = np.random.normal(mean_value, std_deviation, 1000)\n",
    "\n",
    "print(e)\n",
    "# raise NotImplementedError()"
   ]
  },
  {
   "cell_type": "code",
   "execution_count": 19,
   "metadata": {
    "deletable": false,
    "editable": false,
    "nbgrader": {
     "cell_type": "code",
     "checksum": "a31d0e5ba668c9e6c07191a0dfe8f33f",
     "grade": true,
     "grade_id": "task3e-test",
     "locked": true,
     "points": 5,
     "schema_version": 3,
     "solution": false,
     "task": false
    }
   },
   "outputs": [],
   "source": [
    "\"\"\" [ASSERTS] Check the answer.\"\"\"\n",
    "assert e.shape == (1000,) or e.shape == (1000,1)"
   ]
  }
 ],
 "metadata": {
  "kernelspec": {
   "display_name": "Python 3",
   "language": "python",
   "name": "python3"
  },
  "language_info": {
   "codemirror_mode": {
    "name": "ipython",
    "version": 3
   },
   "file_extension": ".py",
   "mimetype": "text/x-python",
   "name": "python",
   "nbconvert_exporter": "python",
   "pygments_lexer": "ipython3",
   "version": "3.11.7"
  }
 },
 "nbformat": 4,
 "nbformat_minor": 4
}
