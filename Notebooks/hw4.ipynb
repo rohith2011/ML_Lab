{
 "cells": [
  {
   "cell_type": "markdown",
   "metadata": {},
   "source": [
    "Before you turn this problem in, make sure everything runs as expected. First, **restart the kernel** (in the menubar, select Kernel$\\rightarrow$Restart) and then **run all cells** (in the menubar, select Cell$\\rightarrow$Run All).\n",
    "\n",
    "Make sure you fill in any place that says `YOUR CODE HERE` or \"YOUR ANSWER HERE\", as well as your name, email and UFID.\n",
    "Please do not modify instruction cells or any cells with automated tests (marked with `[ASSERTS]`). Note: you can add new cells if you need them, but answers must be in the cells with `YOUR CODE HERE` or \"YOUR ANSWER HERE\" comments."
   ]
  },
  {
   "cell_type": "markdown",
   "metadata": {},
   "source": [
    "---"
   ]
  },
  {
   "cell_type": "markdown",
   "metadata": {
    "deletable": false,
    "editable": false,
    "nbgrader": {
     "cell_type": "markdown",
     "checksum": "bd62aaf917895f4f6ddcc0d859f7f054",
     "grade": false,
     "grade_id": "homework-preamble",
     "locked": true,
     "schema_version": 3,
     "solution": false,
     "task": false
    },
    "slideshow": {
     "slide_type": ""
    },
    "tags": []
   },
   "source": [
    "## Homework 4: Training Neural Networks"
   ]
  },
  {
   "cell_type": "markdown",
   "metadata": {
    "deletable": false,
    "editable": false,
    "nbgrader": {
     "cell_type": "markdown",
     "checksum": "5658c9a4ed21f362746fdaeb7fb21351",
     "grade": false,
     "grade_id": "preamble-name",
     "locked": true,
     "schema_version": 3,
     "solution": false,
     "task": false
    }
   },
   "source": [
    "## Preamble: Write your Name, Email and UFID"
   ]
  },
  {
   "cell_type": "code",
   "execution_count": 1,
   "metadata": {
    "deletable": false,
    "nbgrader": {
     "cell_type": "code",
     "checksum": "b8550e47617194707bd7501c6d716c85",
     "grade": false,
     "grade_id": "name-email-ufid",
     "locked": false,
     "schema_version": 3,
     "solution": true,
     "task": false
    }
   },
   "outputs": [
    {
     "name": "stdout",
     "output_type": "stream",
     "text": [
      "Homework 4 -- name: Kondreddy Rohith Sai Reddy, email: r.kondreddy@ufl.edu, UFID: 65682267\n",
      "\n"
     ]
    }
   ],
   "source": [
    "NAME = 'Kondreddy Rohith Sai Reddy'\n",
    "EMAIL = 'r.kondreddy@ufl.edu'\n",
    "UFID = 65682267\n",
    "\n",
    "# YOUR CODE HERE\n",
    "# raise NotImplementedError()\n",
    "\n",
    "print('Homework 4 -- name: {}, email: {}, UFID: {}\\n'.format(NAME, EMAIL, UFID))"
   ]
  },
  {
   "cell_type": "code",
   "execution_count": 2,
   "metadata": {
    "deletable": false,
    "editable": false,
    "nbgrader": {
     "cell_type": "code",
     "checksum": "c41a13a5f6e2fa1b47621d28e926c2cf",
     "grade": true,
     "grade_id": "name-email-ufid-asserts",
     "locked": true,
     "points": 0,
     "schema_version": 3,
     "solution": false,
     "task": false
    }
   },
   "outputs": [],
   "source": [
    "\"\"\" [ASSERTS] Check that your name, email, and UFID is filled in.\"\"\"\n",
    "assert NAME != '' and NAME != 'Your name here.' and len(NAME) > 3\n",
    "assert EMAIL != '' and EMAIL != 'Your email here.' and len(EMAIL) > 7\n",
    "assert type(UFID) == int and UFID != 12345678 and UFID >= 10000000 and UFID <= 99999999"
   ]
  },
  {
   "cell_type": "markdown",
   "metadata": {
    "deletable": false,
    "editable": false,
    "nbgrader": {
     "cell_type": "markdown",
     "checksum": "5b4f30c4bbc2f9927b1410eeb1f001b3",
     "grade": false,
     "grade_id": "preamble-academic-integrity",
     "locked": true,
     "schema_version": 3,
     "solution": false,
     "task": false
    }
   },
   "source": [
    "## Academic Integrity"
   ]
  },
  {
   "cell_type": "markdown",
   "metadata": {
    "deletable": false,
    "editable": false,
    "nbgrader": {
     "cell_type": "markdown",
     "checksum": "99184dabc791053131230787b9f498b8",
     "grade": false,
     "grade_id": "preamble-academic-integrity-2",
     "locked": true,
     "schema_version": 3,
     "solution": false,
     "task": false
    }
   },
   "source": [
    "### <span style=\"color:red;\">This is an individual assignment. Academic integrity violations (i.e., cheating, plagiarism) will be reported to SCCR!</span><br/>\n",
    "#### The official CISE policy recommended for such offenses is a course grade of E. Additional sanctions may be imposed by SCCR such as marks on your permanent educational transcripts, dismissal or expulsion.\n",
    "#### Reminder of the Honor Pledge: On all work submitted for credit by Students at the University of Florida, the following pledge is either required or implied: *\"On my honor, I have neither given nor received unauthorized aid in doing this assignment.\"*"
   ]
  },
  {
   "cell_type": "markdown",
   "metadata": {
    "deletable": false,
    "editable": false,
    "nbgrader": {
     "cell_type": "markdown",
     "checksum": "5d8d2452e1d9f6d547eae6447b7ca369",
     "grade": false,
     "grade_id": "cell-preamble-academic-integrity-3",
     "locked": true,
     "schema_version": 3,
     "solution": false,
     "task": false
    }
   },
   "source": [
    "#### Acknowledgement: Do you acknowledge and understand the academic integrity warning above? "
   ]
  },
  {
   "cell_type": "code",
   "execution_count": 3,
   "metadata": {
    "deletable": false,
    "editable": true,
    "nbgrader": {
     "cell_type": "code",
     "checksum": "89bc9ed2e09cb9069b92dc24a3bc081a",
     "grade": false,
     "grade_id": "academic-integrity",
     "locked": false,
     "schema_version": 3,
     "solution": true,
     "task": false
    },
    "slideshow": {
     "slide_type": ""
    },
    "tags": []
   },
   "outputs": [],
   "source": [
    "academic_integrity_acknowledgement = True\n",
    "# YOUR CODE HERE\n",
    "# raise NotImplementedError()"
   ]
  },
  {
   "cell_type": "code",
   "execution_count": 4,
   "metadata": {
    "deletable": false,
    "editable": false,
    "nbgrader": {
     "cell_type": "code",
     "checksum": "a7d6eb103ab3a60e964c163468d9aa7a",
     "grade": true,
     "grade_id": "academic-integrity-assert",
     "locked": true,
     "points": 0,
     "schema_version": 3,
     "solution": false,
     "task": false
    }
   },
   "outputs": [],
   "source": [
    "\"\"\" [ASSERTS] Check that you acknowledge the academic integrity warning, you understand it and have been reminded of the UF Honor Pledge.\"\"\"\n",
    "assert academic_integrity_acknowledgement"
   ]
  },
  {
   "cell_type": "markdown",
   "metadata": {
    "deletable": false,
    "editable": false,
    "nbgrader": {
     "cell_type": "markdown",
     "checksum": "40e0c6343e3d6ae8ef5568125e9de64f",
     "grade": false,
     "grade_id": "task1-instructc",
     "locked": true,
     "schema_version": 3,
     "solution": false,
     "task": false
    }
   },
   "source": [
    "#### The following cell's code (import statements etc.) is provided for you and you should not need to change it."
   ]
  },
  {
   "cell_type": "code",
   "execution_count": 5,
   "metadata": {
    "deletable": false,
    "editable": false,
    "nbgrader": {
     "cell_type": "code",
     "checksum": "8a657110ad49635ac5f45bf6851cc7c0",
     "grade": false,
     "grade_id": "task1-code",
     "locked": true,
     "schema_version": 3,
     "solution": false,
     "task": false
    }
   },
   "outputs": [
    {
     "name": "stdout",
     "output_type": "stream",
     "text": [
      "------------\n",
      "### Python version: 3.11.7 (v3.11.7:fa7a6f2303, Dec  4 2023, 15:22:56) [Clang 13.0.0 (clang-1300.0.29.30)]\n",
      "### NumPy version: 1.26.3\n",
      "### Scikit-learn version: 1.3.2\n",
      "### Tensorflow version: 2.15.0\n",
      "------------\n"
     ]
    }
   ],
   "source": [
    "# Load packages we need\n",
    "import sys\n",
    "import os\n",
    "import time\n",
    "\n",
    "import numpy as np\n",
    "import pandas as pd\n",
    "import sklearn\n",
    "\n",
    "import tensorflow as tf\n",
    "import tensorflow.keras as keras\n",
    "\n",
    "from matplotlib import pyplot as plt\n",
    "plt.rcParams.update({'font.size': 14})\n",
    "\n",
    "# Load the TensorBoard notebook extension\n",
    "#%load_ext tensorboard\n",
    "\n",
    "\n",
    "# Let's check our software versions\n",
    "print('------------')\n",
    "print('### Python version: ' + __import__('sys').version)\n",
    "print('### NumPy version: ' + np.__version__)\n",
    "print('### Scikit-learn version: ' + sklearn.__version__)\n",
    "print('### Tensorflow version: ' + tf.__version__)\n",
    "print('------------')\n",
    "\n",
    "def var_exists(var_name):\n",
    "    return (var_name in globals() or var_name in locals())"
   ]
  },
  {
   "cell_type": "markdown",
   "metadata": {
    "deletable": false,
    "editable": false,
    "nbgrader": {
     "cell_type": "markdown",
     "checksum": "5cc6d3b909b447a027649ca1d83883d9",
     "grade": false,
     "grade_id": "seed_instruct",
     "locked": true,
     "schema_version": 3,
     "solution": false,
     "task": false
    }
   },
   "source": [
    "#### This is the seed we will use, do not change it."
   ]
  },
  {
   "cell_type": "code",
   "execution_count": 6,
   "metadata": {
    "deletable": false,
    "editable": false,
    "nbgrader": {
     "cell_type": "code",
     "checksum": "e0b9db11795f3c51dea920123f1b8f49",
     "grade": false,
     "grade_id": "setting_seed",
     "locked": true,
     "schema_version": 3,
     "solution": false,
     "task": false
    }
   },
   "outputs": [],
   "source": [
    "# set the seed\n",
    "seed = 42\n",
    "np.random.seed(seed)\n",
    "\n",
    "epsf = 1e-9 # small epsilon value for floating point comparisons"
   ]
  },
  {
   "cell_type": "code",
   "execution_count": 7,
   "metadata": {
    "deletable": false,
    "editable": false,
    "nbgrader": {
     "cell_type": "code",
     "checksum": "d746a78509c270bb1f51eff6a455a1f6",
     "grade": true,
     "grade_id": "seed_checking",
     "locked": true,
     "points": 0,
     "schema_version": 3,
     "solution": false,
     "task": false
    }
   },
   "outputs": [],
   "source": [
    "\"\"\" [ASSERTS] Check seed. \"\"\"\n",
    "assert seed == 42"
   ]
  },
  {
   "cell_type": "markdown",
   "metadata": {
    "deletable": false,
    "editable": false,
    "nbgrader": {
     "cell_type": "markdown",
     "checksum": "742d47f8db40e8977ab2c323db4af478",
     "grade": false,
     "grade_id": "task1-instructb",
     "locked": true,
     "schema_version": 3,
     "solution": false,
     "task": false
    }
   },
   "source": [
    "### We will use the Fashion-MNIST dataset"
   ]
  },
  {
   "cell_type": "markdown",
   "metadata": {
    "deletable": false,
    "editable": false,
    "nbgrader": {
     "cell_type": "markdown",
     "checksum": "55e79f6c4e0ca8e58db9f96e844e8200",
     "grade": false,
     "grade_id": "task1-instructd",
     "locked": true,
     "schema_version": 3,
     "solution": false,
     "task": false
    }
   },
   "source": [
    "### Loading data"
   ]
  },
  {
   "cell_type": "code",
   "execution_count": 8,
   "metadata": {
    "deletable": false,
    "editable": false,
    "nbgrader": {
     "cell_type": "code",
     "checksum": "3c18bee960da611150f8280e8f7d37ad",
     "grade": false,
     "grade_id": "task1-loaddata",
     "locked": true,
     "schema_version": 3,
     "solution": false,
     "task": false
    }
   },
   "outputs": [
    {
     "name": "stdout",
     "output_type": "stream",
     "text": [
      "(60000, 784) (60000, 10) (5000, 784) (5000, 10) (5000, 784) (5000, 10)\n"
     ]
    }
   ],
   "source": [
    "from tensorflow.keras.datasets import fashion_mnist\n",
    "from sklearn.model_selection import train_test_split\n",
    "\n",
    "\"\"\"\n",
    "## Load and preprocess the Fashion-MNIST dataset\n",
    "\"\"\"\n",
    "def load_preprocess_fmnist_data(flatten=True, onehot=True, val_prop=0.5, seed=None, verbose=False):\n",
    "    \n",
    "    (x_train, y_train), (x_test, y_test) = fashion_mnist.load_data()\n",
    "    \n",
    "    assert x_train.shape == (60000, 28, 28) and x_test.shape == (10000, 28, 28)\n",
    "    assert y_train.shape == (60000,) and y_test.shape == (10000,)\n",
    "\n",
    "    if verbose: \n",
    "        print('Loaded Fashion-MNIST data; shape: {} [y: {}], test shape: {} [y: {}]'.format(x_train.shape, y_train.shape,\n",
    "                                                                                      x_test.shape, y_test.shape))\n",
    "    \n",
    "    if flatten: # Let's flatten the images for easier processing (labels don't change)\n",
    "        flat_vec_size = 28*28\n",
    "        x_train = x_train.reshape(x_train.shape[0], flat_vec_size)\n",
    "        x_test = x_test.reshape(x_test.shape[0], flat_vec_size)\n",
    "\n",
    "    if onehot: # Put the labels in \"one-hot\" encoding using keras' to_categorical()\n",
    "        num_classes = 10\n",
    "        y_train = keras.utils.to_categorical(y_train, num_classes)\n",
    "        y_test = keras.utils.to_categorical(y_test, num_classes)\n",
    "\n",
    "    train_x = x_train\n",
    "    train_y = y_train\n",
    "\n",
    "    # we'll split the test set into test and val\n",
    "    testval_x = x_test\n",
    "    testval_y = y_test\n",
    "\n",
    "    # do the split\n",
    "    val_x, test_x, val_y, test_y = train_test_split(testval_x, testval_y, test_size=val_prop, random_state=seed)\n",
    "    \n",
    "    return train_x, train_y, test_x, test_y, val_x, val_y\n",
    "\n",
    "\n",
    "# grab the data\n",
    "train_x, train_y, test_x, test_y, val_x, val_y = load_preprocess_fmnist_data(flatten=True, onehot=True, val_prop=0.5, seed=seed) \n",
    "\n",
    "# sanity check shapes\n",
    "print(train_x.shape, train_y.shape, test_x.shape, test_y.shape, val_x.shape, val_y.shape)\n",
    "\n",
    "assert train_x.shape == (60000, 784) and train_y.shape == (60000,10) and test_x.shape == (5000, 784) and test_y.shape == (5000,10)"
   ]
  },
  {
   "cell_type": "markdown",
   "metadata": {
    "deletable": false,
    "editable": false,
    "nbgrader": {
     "cell_type": "markdown",
     "checksum": "d326223d72f27b0f38893641f74857a9",
     "grade": false,
     "grade_id": "task1-instructe",
     "locked": true,
     "schema_version": 3,
     "solution": false,
     "task": false
    }
   },
   "source": [
    "## First, let's setup some performance evaluation and plotting code"
   ]
  },
  {
   "cell_type": "code",
   "execution_count": 9,
   "metadata": {
    "deletable": false,
    "editable": false,
    "nbgrader": {
     "cell_type": "code",
     "checksum": "e14e33577156f3a1f9a346cece0aa638",
     "grade": false,
     "grade_id": "task1-providedcode1",
     "locked": true,
     "schema_version": 3,
     "solution": false,
     "task": false
    }
   },
   "outputs": [],
   "source": [
    "# Let's create a custom callback class\n",
    "class PerfEvalCustomCallback(keras.callbacks.Callback):\n",
    "    \n",
    "    def __init__(self, perf_data):\n",
    "        self.perf_data = perf_data\n",
    "    \n",
    "    # we define the on_epoch_end callback and save the loss and accuracy in perf_data\n",
    "    def on_epoch_end(self, epoch, logs=None):\n",
    "        self.perf_data[epoch,0] = logs['loss']\n",
    "        self.perf_data[epoch,1] = logs['accuracy']\n",
    "        self.perf_data[epoch,2] = logs['val_loss']\n",
    "        self.perf_data[epoch,3] = logs['val_accuracy']\n",
    "\n",
    "    def get_perf_data():\n",
    "        return self.perf_data"
   ]
  },
  {
   "cell_type": "code",
   "execution_count": 10,
   "metadata": {
    "deletable": false,
    "editable": false,
    "nbgrader": {
     "cell_type": "code",
     "checksum": "87ec89091901d11a6a013acbfe8c54d9",
     "grade": false,
     "grade_id": "task1-providedcode2",
     "locked": true,
     "schema_version": 3,
     "solution": false,
     "task": false
    }
   },
   "outputs": [],
   "source": [
    "# Plot the model's performance during training (across epochs)\n",
    "def plot_training_perf(train_loss, train_acc, val_loss, val_acc, ax=None, fs=(6,3)):\n",
    "    no_ax_provided = ax == None\n",
    "    if no_ax_provided:\n",
    "        fig = plt.figure(figsize=fs)\n",
    "        ax = plt.gca()\n",
    "\n",
    "    assert train_loss.shape == val_loss.shape and train_loss.shape == val_acc.shape and val_acc.shape == train_acc.shape\n",
    "    \n",
    "    # assume we have one measurement per epoch\n",
    "    num_epochs = train_loss.shape[0]\n",
    "    epochs = np.arange(0, num_epochs)\n",
    "\n",
    "    ax.plot(1+epochs, train_acc, 'r--', linewidth=2, label='Training')\n",
    "    ax.plot(1+epochs, val_acc, 'b-', linewidth=2, label='Validation')\n",
    "    \n",
    "    ax.set_ylabel('Accuracy')\n",
    "    ax.set_xlabel('Epoch')\n",
    "    \n",
    "    ax.set_xlim([1, num_epochs])\n",
    "\n",
    "    ylim = [0.0, 1.01]\n",
    "    ax.set_ylim(ylim)\n",
    "\n",
    "    ax.legend()\n",
    "    if no_ax_provided:\n",
    "        plt.show()"
   ]
  },
  {
   "cell_type": "markdown",
   "metadata": {
    "deletable": false,
    "editable": false,
    "nbgrader": {
     "cell_type": "markdown",
     "checksum": "5b58b14debfa83e3c6591cd40dcf9560",
     "grade": false,
     "grade_id": "task1-instruct",
     "locked": true,
     "schema_version": 3,
     "solution": false,
     "task": false
    }
   },
   "source": [
    "---\n",
    "# [Task 1] (15 points) Complete (& Customize) Your Model Training and Evaluation Code"
   ]
  },
  {
   "cell_type": "markdown",
   "metadata": {
    "deletable": false,
    "editable": false,
    "nbgrader": {
     "cell_type": "markdown",
     "checksum": "0ecd36fd84ec27f5cb609dbfbb92d70f",
     "grade": false,
     "grade_id": "task1-instruct1a",
     "locked": true,
     "schema_version": 3,
     "solution": false,
     "task": false
    }
   },
   "source": [
    "### [Task 1a] (10 points) Complete the implementation of evaluate_model(). You can customize it to add whatever evaluation functionality you like (e.g., classification report, error analysis, etc.). Make sure you like the way it shows you the information: you will use it throughout this homework!"
   ]
  },
  {
   "cell_type": "code",
   "execution_count": 11,
   "metadata": {
    "deletable": false,
    "nbgrader": {
     "cell_type": "code",
     "checksum": "7bc60e9301daac2b63ebd9dd4c8960cd",
     "grade": false,
     "grade_id": "task1a-code",
     "locked": false,
     "schema_version": 3,
     "solution": true,
     "task": false
    }
   },
   "outputs": [],
   "source": [
    "\"\"\"Fill in your code in the function (~6+ lines)\n",
    "\"\"\"\n",
    "from tensorflow.keras.metrics import CategoricalAccuracy\n",
    "# Customize this function as you like but makes sure it is implemented correctly.    \n",
    "# Note: If you need to change the method definition to add more arguments, make sure to make \n",
    "# the new arguments are optional (& have a sensible default value)\n",
    "def evaluate_model(name, model, eval_data, \n",
    "                   plot_training=True, evaluate_on_test_set=True):\n",
    "    \n",
    "    # unpack the stuff\n",
    "    perf_data, dataset = eval_data\n",
    "    train_x, train_y, val_x, val_y, test_x, test_y = dataset\n",
    "    \n",
    "    # get predictions from the model\n",
    "    train_preds = model.predict(train_x, verbose=0)\n",
    "    val_preds = model.predict(val_x, verbose=0)\n",
    "    \n",
    "    # measure the accuracy (as categorical accuracy since we have a softmax layer)\n",
    "    \"\"\" use keras.metrics.CategoricalAccuracy() to measure the accuracy on the training set ('train_acc') and val set ('val_acc') \n",
    "    \"\"\"\n",
    "    # YOUR CODE HERE\n",
    "\n",
    "\n",
    "    # Using accuracy as metrics as we have softmax Layer\n",
    "    train_acc_metric = CategoricalAccuracy()\n",
    "    val_acc_metric = CategoricalAccuracy()\n",
    "    train_acc_metric.update_state(train_y, train_preds)\n",
    "    val_acc_metric.update_state(val_y, val_preds)\n",
    "    train_acc = train_acc_metric.result().numpy()\n",
    "    val_acc = val_acc_metric.result().numpy()\n",
    "\n",
    "\n",
    "\n",
    "    # raise NotImplementedError()\n",
    "\n",
    "    assert np.isnan(train_acc) or (float(train_acc) == train_acc and train_acc >= 0 and train_acc < 1.0)\n",
    "    assert np.isnan(val_acc) or (float(val_acc) == val_acc and val_acc >= 0 and val_acc < 1.0)\n",
    "    \n",
    "    print('[{}] Training Accuracy: {:.3f}%, Validation Accuracy: {:.3f}%'.format(name, 100*train_acc, 100*val_acc))\n",
    "        \n",
    "    if evaluate_on_test_set:\n",
    "        ### Evaluate the model on test data and put the results in 'test_loss', 'test_acc' (set verbose = 0)\n",
    "        \"\"\" Use model.evaluate() to measure the loss and accuracy on the *test* set ('test_loss' and 'test_acc').\n",
    "        \"\"\"\n",
    "        # YOUR CODE HERE\n",
    "\n",
    "        test_loss, test_acc = model.evaluate(test_x, test_y, verbose=0)\n",
    "        # raise NotImplementedError()\n",
    "        assert np.isnan(test_loss) or (test_loss == float(test_loss) and test_loss >= -1e8)\n",
    "        assert np.isnan(test_acc) or (test_acc == float(test_acc) and test_acc >= 0 and test_acc < 1.0)\n",
    "    \n",
    "        print('[{}] Test loss: {:.5f}, test accuracy: {:.3f}%'.format(name, test_loss, 100*test_acc))\n",
    "\n",
    "    if plot_training:\n",
    "        plot_training_perf(perf_data[:,0], perf_data[:,1], perf_data[:,2], perf_data[:,3])\n",
    "    \n",
    "    # You can add stuff here if you want\n",
    "    ###* put any additional code here (0+ lines) *###\n",
    "    # YOUR CODE HERE\n",
    "    # raise NotImplementedError()\n",
    "    \n",
    "    return\n",
    "\n",
    "## this is what we call to do the training\n",
    "def train_model(model, max_epochs=25, batch_size=128, verbose=0, \n",
    "                   dataset=(train_x, train_y, val_x, val_y, test_x, test_y)):\n",
    "\n",
    "    ## unpack dataset\n",
    "    train_x, train_y, val_x, val_y, test_x, test_y = dataset\n",
    "    \n",
    "    ## this is the callback we'll use for early stopping\n",
    "    early_stop_cb = keras.callbacks.EarlyStopping(monitor='loss', mode='min', patience=40)\n",
    "    \n",
    "    ## setup the performance data callback\n",
    "    perf_data = np.zeros((max_epochs, 4))\n",
    "    perf_eval_cb = PerfEvalCustomCallback(perf_data)\n",
    "    \n",
    "    hobj = model.fit(train_x, train_y, validation_data=(val_x, val_y), epochs=max_epochs, batch_size=batch_size, \n",
    "                     shuffle=True, callbacks=[perf_eval_cb, early_stop_cb], verbose=verbose)\n",
    "    \n",
    "    eff_epochs = len(hobj.history['loss'])\n",
    "    eval_data = (perf_data[0:eff_epochs,:], dataset) ## tuple of evaluation data\n",
    "    \n",
    "    return eval_data\n",
    "\n",
    "\n",
    "def compile_train_eval_compare(create_compile_fn):\n",
    "    fig, axes = plt.subplots(nrows=1, ncols=2, figsize=(13,4))\n",
    "\n",
    "    ax1 = axes[0]\n",
    "    ax1.set_title('Broken')\n",
    "    broken_name, broken_model = create_compile_fn(False, verbose=False) # create & compile (fixed=False)\n",
    "    broken_eval_data = train_model(broken_model)\n",
    "    broken_perf_data, _ = broken_eval_data\n",
    "    plot_training_perf(broken_perf_data[:,0], broken_perf_data[:,1], broken_perf_data[:,2], broken_perf_data[:,3], ax=ax1)\n",
    "\n",
    "    ax2 = axes[1]\n",
    "    ax2.set_title('Fixed')\n",
    "    fixed_name, fixed_model = create_compile_fn(True, verbose=False) # create & compile  (fixed=True)\n",
    "    fixed_eval_data = train_model(fixed_model)\n",
    "    fixed_perf_data, _ = fixed_eval_data\n",
    "    plot_training_perf(fixed_perf_data[:,0], fixed_perf_data[:,1], fixed_perf_data[:,2], fixed_perf_data[:,3], ax=ax2)\n",
    "\n",
    "    fig.tight_layout()\n",
    "    plt.show()\n",
    "\n",
    "    return broken_name, broken_model, broken_eval_data, broken_perf_data, fixed_name, fixed_model, fixed_eval_data, fixed_perf_data"
   ]
  },
  {
   "cell_type": "code",
   "execution_count": 12,
   "metadata": {
    "deletable": false,
    "editable": false,
    "nbgrader": {
     "cell_type": "code",
     "checksum": "74ce0bbb497e6fb71aa41e90ee29ac01",
     "grade": true,
     "grade_id": "task1a-tests",
     "locked": true,
     "points": 15,
     "schema_version": 3,
     "solution": false,
     "task": false
    }
   },
   "outputs": [],
   "source": [
    "\"\"\" [ASSERTS] Check 1a completed. \"\"\"\n",
    "assert var_exists('evaluate_model')"
   ]
  },
  {
   "cell_type": "markdown",
   "metadata": {
    "deletable": false,
    "editable": false,
    "nbgrader": {
     "cell_type": "markdown",
     "checksum": "70023afe1613ec83bd9e9851670f41ea",
     "grade": false,
     "grade_id": "task2-instruct",
     "locked": true,
     "schema_version": 3,
     "solution": false,
     "task": false
    }
   },
   "source": [
    "## [Task 2] (30 points) Diagnosing Simple Problems"
   ]
  },
  {
   "cell_type": "markdown",
   "metadata": {
    "deletable": false,
    "editable": false,
    "nbgrader": {
     "cell_type": "markdown",
     "checksum": "6d22851fa04c164a20d7049dfec63f5f",
     "grade": false,
     "grade_id": "task2-instruct2",
     "locked": true,
     "schema_version": 3,
     "solution": false,
     "task": false
    }
   },
   "source": [
    "## In the following Tasks (Tasks 2 & 3) you are given code to define the architecture of a model and compile it. But there is an issue for each model (it's broken in some way), which you need to identify and fix. All the models (if fixed) should achieve 85%+ val/test accuracy\n",
    "\n",
    "## To diagnose the issue you need to observe the broken model's training process. Then you need to fix it by making *minimal* changes. We are not looking for changes that completely alter the architecture for example (like adding a bunch of new layers or removing many layers, etc.). You will add 'if fixed:' branches in the code to implement the fix without modify the behavior in anyway whenever 'fixed=False'. \n",
    "\n",
    "## Important: The assertions and hidden tests will ensure that the behavior is as expected when your code is invoked both for fixed = False and fixed = True, so be careful not to make unintended modifications."
   ]
  },
  {
   "cell_type": "markdown",
   "metadata": {
    "deletable": false,
    "editable": false,
    "nbgrader": {
     "cell_type": "markdown",
     "checksum": "63e15bcfeecfb23aee66d2d7d7777e6d",
     "grade": false,
     "grade_id": "task2a-instruct",
     "locked": true,
     "schema_version": 3,
     "solution": false,
     "task": false
    }
   },
   "source": [
    "### [Task 2a] (10 points) Consider the following model. It has one obvious problem which prevents the model from learning: the output layer's activation function and the loss are inconsistent. Fix it by adding code to the 'if fixed:'' branch. Make sure that if fixed=False you do not change the implementation!\n",
    "\n",
    "### Hint: since the output layer's activation function is softmax (which makes sense since we have one-hot encoded class labels), the loss should be the cross entropy loss (see tf.keras losses)."
   ]
  },
  {
   "cell_type": "code",
   "execution_count": 13,
   "metadata": {
    "deletable": false,
    "nbgrader": {
     "cell_type": "code",
     "checksum": "77368479c3be038b907a292c19c5743c",
     "grade": false,
     "grade_id": "task2a-code",
     "locked": false,
     "schema_version": 3,
     "solution": true,
     "task": false
    }
   },
   "outputs": [],
   "source": [
    "def create_compile_model0(fixed, input_shape=784, num_outputs=10, verbose=True):\n",
    "    name = 'Model0--Fixed' if fixed else 'Model0--Broken'\n",
    "    hidden_widths=[300, 100]\n",
    "    \n",
    "    model = keras.models.Sequential(name=name)\n",
    "    \n",
    "    model.add(keras.Input(shape=(input_shape,), sparse=False)) \n",
    "    \n",
    "    for i, hw in enumerate(hidden_widths):\n",
    "        model.add(keras.layers.Dense(hw, activation='relu', name='hidden_{}'.format(i), \n",
    "                                     kernel_initializer=keras.initializers.RandomNormal(stddev=np.sqrt(1/hw)),\n",
    "                                     bias_initializer=keras.initializers.Zeros()))\n",
    "        \n",
    "    model.add(keras.layers.Dense(num_outputs, activation='softmax', name='output',\n",
    "                                kernel_initializer=keras.initializers.RandomNormal(stddev=np.sqrt(0.1)),\n",
    "                                bias_initializer=keras.initializers.Zeros()))\n",
    "    \n",
    "    opt = keras.optimizers.Adam(learning_rate=0.002)\n",
    "    \n",
    "    if verbose:\n",
    "        model.summary()\n",
    "    \n",
    "    if fixed:\n",
    "        ###* put your code here (~1-2 lines) *###\n",
    "        # YOUR CODE HERE\n",
    "        model.compile(loss='categorical_crossentropy', optimizer=opt, metrics=['accuracy'])\n",
    "        \n",
    "        # raise NotImplementedError()\n",
    "        \n",
    "    else:\n",
    "        model.compile(loss='mse', optimizer=opt, metrics=['accuracy'])\n",
    "    \n",
    "    return name, model"
   ]
  },
  {
   "cell_type": "code",
   "execution_count": 14,
   "metadata": {
    "deletable": false,
    "editable": false,
    "nbgrader": {
     "cell_type": "code",
     "checksum": "41b992e1b07c73858f3a7b602cd944a4",
     "grade": false,
     "grade_id": "task2a-provided-code",
     "locked": true,
     "schema_version": 3,
     "solution": false,
     "task": false
    }
   },
   "outputs": [
    {
     "name": "stderr",
     "output_type": "stream",
     "text": [
      "WARNING:absl:At this time, the v2.11+ optimizer `tf.keras.optimizers.Adam` runs slowly on M1/M2 Macs, please use the legacy Keras optimizer instead, located at `tf.keras.optimizers.legacy.Adam`.\n"
     ]
    },
    {
     "name": "stdout",
     "output_type": "stream",
     "text": [
      "Model: \"Model0--Broken\"\n",
      "_________________________________________________________________\n",
      " Layer (type)                Output Shape              Param #   \n",
      "=================================================================\n",
      " hidden_0 (Dense)            (None, 300)               235500    \n",
      "                                                                 \n",
      " hidden_1 (Dense)            (None, 100)               30100     \n",
      "                                                                 \n",
      " output (Dense)              (None, 10)                1010      \n",
      "                                                                 \n",
      "=================================================================\n",
      "Total params: 266610 (1.02 MB)\n",
      "Trainable params: 266610 (1.02 MB)\n",
      "Non-trainable params: 0 (0.00 Byte)\n",
      "_________________________________________________________________\n"
     ]
    },
    {
     "name": "stdout",
     "output_type": "stream",
     "text": [
      "Epoch 1/25\n",
      "469/469 [==============================] - 1s 2ms/step - loss: 0.1800 - accuracy: 0.1001 - val_loss: 0.1798 - val_accuracy: 0.1008\n",
      "Epoch 2/25\n",
      "469/469 [==============================] - 1s 2ms/step - loss: 0.1800 - accuracy: 0.1000 - val_loss: 0.1798 - val_accuracy: 0.1008\n",
      "Epoch 3/25\n",
      "469/469 [==============================] - 1s 2ms/step - loss: 0.1800 - accuracy: 0.1000 - val_loss: 0.1798 - val_accuracy: 0.1008\n",
      "Epoch 4/25\n",
      "469/469 [==============================] - 1s 2ms/step - loss: 0.1800 - accuracy: 0.1000 - val_loss: 0.1798 - val_accuracy: 0.1008\n",
      "Epoch 5/25\n",
      "469/469 [==============================] - 1s 2ms/step - loss: 0.1800 - accuracy: 0.1000 - val_loss: 0.1798 - val_accuracy: 0.1008\n",
      "Epoch 6/25\n",
      "469/469 [==============================] - 1s 2ms/step - loss: 0.1800 - accuracy: 0.1000 - val_loss: 0.1798 - val_accuracy: 0.1008\n",
      "Epoch 7/25\n",
      "469/469 [==============================] - 1s 2ms/step - loss: 0.1800 - accuracy: 0.1000 - val_loss: 0.1798 - val_accuracy: 0.1008\n",
      "Epoch 8/25\n",
      "469/469 [==============================] - 1s 2ms/step - loss: 0.1800 - accuracy: 0.1000 - val_loss: 0.1798 - val_accuracy: 0.1008\n",
      "Epoch 9/25\n",
      "469/469 [==============================] - 1s 2ms/step - loss: 0.1800 - accuracy: 0.1000 - val_loss: 0.1798 - val_accuracy: 0.1008\n",
      "Epoch 10/25\n",
      "469/469 [==============================] - 1s 2ms/step - loss: 0.1800 - accuracy: 0.1000 - val_loss: 0.1798 - val_accuracy: 0.1008\n",
      "Epoch 11/25\n",
      "469/469 [==============================] - 1s 2ms/step - loss: 0.1800 - accuracy: 0.1000 - val_loss: 0.1798 - val_accuracy: 0.1008\n",
      "Epoch 12/25\n",
      "469/469 [==============================] - 1s 2ms/step - loss: 0.1800 - accuracy: 0.1000 - val_loss: 0.1798 - val_accuracy: 0.1008\n",
      "Epoch 13/25\n",
      "469/469 [==============================] - 1s 2ms/step - loss: 0.1800 - accuracy: 0.1000 - val_loss: 0.1798 - val_accuracy: 0.1008\n",
      "Epoch 14/25\n",
      "469/469 [==============================] - 1s 2ms/step - loss: 0.1800 - accuracy: 0.1000 - val_loss: 0.1798 - val_accuracy: 0.1008\n",
      "Epoch 15/25\n",
      "469/469 [==============================] - 1s 2ms/step - loss: 0.1800 - accuracy: 0.1000 - val_loss: 0.1798 - val_accuracy: 0.1008\n",
      "Epoch 16/25\n",
      "469/469 [==============================] - 1s 2ms/step - loss: 0.1800 - accuracy: 0.1000 - val_loss: 0.1798 - val_accuracy: 0.1008\n",
      "Epoch 17/25\n",
      "469/469 [==============================] - 1s 2ms/step - loss: 0.1800 - accuracy: 0.1000 - val_loss: 0.1798 - val_accuracy: 0.1008\n",
      "Epoch 18/25\n",
      "469/469 [==============================] - 1s 2ms/step - loss: 0.1800 - accuracy: 0.1000 - val_loss: 0.1798 - val_accuracy: 0.1008\n",
      "Epoch 19/25\n",
      "469/469 [==============================] - 1s 2ms/step - loss: 0.1800 - accuracy: 0.1000 - val_loss: 0.1798 - val_accuracy: 0.1008\n",
      "Epoch 20/25\n",
      "469/469 [==============================] - 1s 2ms/step - loss: 0.1800 - accuracy: 0.1000 - val_loss: 0.1798 - val_accuracy: 0.1008\n",
      "Epoch 21/25\n",
      "469/469 [==============================] - 1s 2ms/step - loss: 0.1800 - accuracy: 0.1000 - val_loss: 0.1798 - val_accuracy: 0.1008\n",
      "Epoch 22/25\n",
      "469/469 [==============================] - 1s 2ms/step - loss: 0.1800 - accuracy: 0.1000 - val_loss: 0.1798 - val_accuracy: 0.1008\n",
      "Epoch 23/25\n",
      "469/469 [==============================] - 1s 2ms/step - loss: 0.1800 - accuracy: 0.1000 - val_loss: 0.1798 - val_accuracy: 0.1008\n",
      "Epoch 24/25\n",
      "469/469 [==============================] - 1s 2ms/step - loss: 0.1800 - accuracy: 0.1000 - val_loss: 0.1798 - val_accuracy: 0.1008\n",
      "Epoch 25/25\n",
      "469/469 [==============================] - 1s 2ms/step - loss: 0.1800 - accuracy: 0.1000 - val_loss: 0.1798 - val_accuracy: 0.1008\n"
     ]
    }
   ],
   "source": [
    "## create and compile the model for fixed=False, train it, then evaluate it\n",
    "fixed = False\n",
    "name, model = create_compile_model0(fixed) \n",
    "\n",
    "# train\n",
    "eval_data = train_model(model, verbose=1)"
   ]
  },
  {
   "cell_type": "code",
   "execution_count": 15,
   "metadata": {
    "deletable": false,
    "editable": false,
    "nbgrader": {
     "cell_type": "code",
     "checksum": "797f7d8971e0207dfe7c42e7c3dbebdf",
     "grade": false,
     "grade_id": "task2a-provided-code2",
     "locked": true,
     "schema_version": 3,
     "solution": false,
     "task": false
    }
   },
   "outputs": [
    {
     "name": "stdout",
     "output_type": "stream",
     "text": [
      "[Model0--Broken] Training Accuracy: 10.000%, Validation Accuracy: 10.080%\n",
      "[Model0--Broken] Test loss: 0.18016, test accuracy: 9.920%\n"
     ]
    },
    {
     "data": {
      "image/png": "[encoded data removed]",
      "text/plain": [
       "<Figure size 600x300 with 1 Axes>"
      ]
     },
     "metadata": {},
     "output_type": "display_data"
    }
   ],
   "source": [
    "# evaluate\n",
    "evaluate_model(name, model, eval_data)"
   ]
  },
  {
   "cell_type": "markdown",
   "metadata": {
    "deletable": false,
    "editable": false,
    "nbgrader": {
     "cell_type": "markdown",
     "checksum": "4c9a632e5375ea3887321397df4d1094",
     "grade": false,
     "grade_id": "task2a-provided2",
     "locked": true,
     "schema_version": 3,
     "solution": false,
     "task": false
    }
   },
   "source": [
    "### Now let's check if you fixed the issue!"
   ]
  },
  {
   "cell_type": "code",
   "execution_count": 16,
   "metadata": {
    "deletable": false,
    "editable": false,
    "nbgrader": {
     "cell_type": "code",
     "checksum": "32f658a12b8e31725b5dfffe418fcb88",
     "grade": false,
     "grade_id": "task2a-provided-checking",
     "locked": true,
     "schema_version": 3,
     "solution": false,
     "task": false
    }
   },
   "outputs": [
    {
     "name": "stderr",
     "output_type": "stream",
     "text": [
      "WARNING:absl:At this time, the v2.11+ optimizer `tf.keras.optimizers.Adam` runs slowly on M1/M2 Macs, please use the legacy Keras optimizer instead, located at `tf.keras.optimizers.legacy.Adam`.\n"
     ]
    },
    {
     "name": "stdout",
     "output_type": "stream",
     "text": [
      "Model: \"Model0--Fixed\"\n",
      "_________________________________________________________________\n",
      " Layer (type)                Output Shape              Param #   \n",
      "=================================================================\n",
      " hidden_0 (Dense)            (None, 300)               235500    \n",
      "                                                                 \n",
      " hidden_1 (Dense)            (None, 100)               30100     \n",
      "                                                                 \n",
      " output (Dense)              (None, 10)                1010      \n",
      "                                                                 \n",
      "=================================================================\n",
      "Total params: 266610 (1.02 MB)\n",
      "Trainable params: 266610 (1.02 MB)\n",
      "Non-trainable params: 0 (0.00 Byte)\n",
      "_________________________________________________________________\n"
     ]
    },
    {
     "name": "stdout",
     "output_type": "stream",
     "text": [
      "Epoch 1/25\n",
      "469/469 [==============================] - 1s 2ms/step - loss: 25.7943 - accuracy: 0.7496 - val_loss: 4.1494 - val_accuracy: 0.7660\n",
      "Epoch 2/25\n",
      "469/469 [==============================] - 1s 2ms/step - loss: 2.0139 - accuracy: 0.6987 - val_loss: 1.2923 - val_accuracy: 0.7060\n",
      "Epoch 3/25\n",
      "469/469 [==============================] - 1s 2ms/step - loss: 1.0757 - accuracy: 0.7154 - val_loss: 1.1721 - val_accuracy: 0.6960\n",
      "Epoch 4/25\n",
      "469/469 [==============================] - 1s 2ms/step - loss: 0.9459 - accuracy: 0.7246 - val_loss: 0.9488 - val_accuracy: 0.7102\n",
      "Epoch 5/25\n",
      "469/469 [==============================] - 1s 2ms/step - loss: 0.7777 - accuracy: 0.7481 - val_loss: 0.8753 - val_accuracy: 0.7514\n",
      "Epoch 6/25\n",
      "469/469 [==============================] - 1s 2ms/step - loss: 0.6728 - accuracy: 0.7763 - val_loss: 0.8571 - val_accuracy: 0.7516\n",
      "Epoch 7/25\n",
      "469/469 [==============================] - 1s 2ms/step - loss: 0.6470 - accuracy: 0.7804 - val_loss: 0.8269 - val_accuracy: 0.7838\n",
      "Epoch 8/25\n",
      "469/469 [==============================] - 1s 2ms/step - loss: 0.6431 - accuracy: 0.7928 - val_loss: 0.7742 - val_accuracy: 0.7548\n",
      "Epoch 9/25\n",
      "469/469 [==============================] - 1s 2ms/step - loss: 0.6113 - accuracy: 0.7990 - val_loss: 0.7467 - val_accuracy: 0.7976\n",
      "Epoch 10/25\n",
      "469/469 [==============================] - 1s 2ms/step - loss: 0.5821 - accuracy: 0.8120 - val_loss: 0.7332 - val_accuracy: 0.7886\n",
      "Epoch 11/25\n",
      "469/469 [==============================] - 1s 2ms/step - loss: 0.5553 - accuracy: 0.8176 - val_loss: 0.6738 - val_accuracy: 0.8000\n",
      "Epoch 12/25\n",
      "469/469 [==============================] - 1s 2ms/step - loss: 0.5483 - accuracy: 0.8226 - val_loss: 0.6589 - val_accuracy: 0.8070\n",
      "Epoch 13/25\n",
      "469/469 [==============================] - 1s 2ms/step - loss: 0.5280 - accuracy: 0.8282 - val_loss: 0.6191 - val_accuracy: 0.8100\n",
      "Epoch 14/25\n",
      "469/469 [==============================] - 1s 2ms/step - loss: 0.5174 - accuracy: 0.8294 - val_loss: 0.5928 - val_accuracy: 0.8186\n",
      "Epoch 15/25\n",
      "469/469 [==============================] - 1s 2ms/step - loss: 0.4904 - accuracy: 0.8351 - val_loss: 0.5928 - val_accuracy: 0.8178\n",
      "Epoch 16/25\n",
      "469/469 [==============================] - 1s 2ms/step - loss: 0.4534 - accuracy: 0.8445 - val_loss: 0.5392 - val_accuracy: 0.8300\n",
      "Epoch 17/25\n",
      "469/469 [==============================] - 1s 2ms/step - loss: 0.4633 - accuracy: 0.8429 - val_loss: 0.5454 - val_accuracy: 0.8170\n",
      "Epoch 18/25\n",
      "469/469 [==============================] - 1s 2ms/step - loss: 0.4431 - accuracy: 0.8472 - val_loss: 0.5085 - val_accuracy: 0.8400\n",
      "Epoch 19/25\n",
      "469/469 [==============================] - 1s 2ms/step - loss: 0.4268 - accuracy: 0.8581 - val_loss: 0.5195 - val_accuracy: 0.8442\n",
      "Epoch 20/25\n",
      "469/469 [==============================] - 1s 2ms/step - loss: 0.4143 - accuracy: 0.8605 - val_loss: 0.5952 - val_accuracy: 0.8244\n",
      "Epoch 21/25\n",
      "469/469 [==============================] - 1s 2ms/step - loss: 0.3906 - accuracy: 0.8654 - val_loss: 0.4757 - val_accuracy: 0.8446\n",
      "Epoch 22/25\n",
      "469/469 [==============================] - 1s 2ms/step - loss: 0.3827 - accuracy: 0.8665 - val_loss: 0.4669 - val_accuracy: 0.8506\n",
      "Epoch 23/25\n",
      "469/469 [==============================] - 1s 2ms/step - loss: 0.3909 - accuracy: 0.8678 - val_loss: 0.4962 - val_accuracy: 0.8422\n",
      "Epoch 24/25\n",
      "469/469 [==============================] - 1s 2ms/step - loss: 0.3668 - accuracy: 0.8706 - val_loss: 0.4602 - val_accuracy: 0.8608\n",
      "Epoch 25/25\n",
      "469/469 [==============================] - 1s 2ms/step - loss: 0.3790 - accuracy: 0.8683 - val_loss: 0.4931 - val_accuracy: 0.8504\n",
      "[Model0--Fixed] Training Accuracy: 88.030%, Validation Accuracy: 85.040%\n",
      "[Model0--Fixed] Test loss: 0.45067, test accuracy: 86.260%\n"
     ]
    },
    {
     "data": {
      "image/png": "[encoded data removed]",
      "text/plain": [
       "<Figure size 600x300 with 1 Axes>"
      ]
     },
     "metadata": {},
     "output_type": "display_data"
    }
   ],
   "source": [
    "## create and compile the model for fixed=True, train it, then evaluate it\n",
    "fixed = True\n",
    "name, model = create_compile_model0(fixed, verbose=True) \n",
    "\n",
    "# train\n",
    "eval_data = train_model(model, verbose=1)\n",
    "\n",
    "# evaluate\n",
    "evaluate_model(name, model, eval_data)"
   ]
  },
  {
   "cell_type": "code",
   "execution_count": 17,
   "metadata": {
    "deletable": false,
    "editable": false,
    "nbgrader": {
     "cell_type": "code",
     "checksum": "8494f793f81daa9f46a6173ff9dcf86f",
     "grade": true,
     "grade_id": "task2a-checks",
     "locked": true,
     "points": 10,
     "schema_version": 3,
     "solution": false,
     "task": false
    }
   },
   "outputs": [
    {
     "name": "stderr",
     "output_type": "stream",
     "text": [
      "WARNING:absl:At this time, the v2.11+ optimizer `tf.keras.optimizers.Adam` runs slowly on M1/M2 Macs, please use the legacy Keras optimizer instead, located at `tf.keras.optimizers.legacy.Adam`.\n"
     ]
    },
    {
     "name": "stderr",
     "output_type": "stream",
     "text": [
      "WARNING:absl:At this time, the v2.11+ optimizer `tf.keras.optimizers.Adam` runs slowly on M1/M2 Macs, please use the legacy Keras optimizer instead, located at `tf.keras.optimizers.legacy.Adam`.\n"
     ]
    },
    {
     "data": {
      "image/png": "[encoded data removed]",
      "text/plain": [
       "<Figure size 1300x400 with 2 Axes>"
      ]
     },
     "metadata": {},
     "output_type": "display_data"
    }
   ],
   "source": [
    "\"\"\" [ASSERTS] Check 2a completed. \"\"\"\n",
    "\n",
    "_, broken_model, _, broken_perf_data, _, fixed_model, _, fixed_perf_data = compile_train_eval_compare(create_compile_model0)\n",
    "assert len(broken_model.layers) == len(fixed_model.layers) # check the layers have not changed (hint: layers are fine)\n",
    "\n",
    "broken_tracc = broken_perf_data[:,1]\n",
    "broken_valacc = broken_perf_data[:,3]\n",
    "fixed_tracc = fixed_perf_data[:,1]\n",
    "fixed_valacc = fixed_perf_data[:,3]\n",
    "\n",
    "assert np.amax(broken_valacc) < 0.3 and np.amax(fixed_valacc) > 0.75 # loose threshold to check that it was fixed."
   ]
  },
  {
   "cell_type": "markdown",
   "metadata": {
    "deletable": false,
    "editable": false,
    "nbgrader": {
     "cell_type": "markdown",
     "checksum": "1be7d2b91ace71e1216053b42141a583",
     "grade": false,
     "grade_id": "task2a-conc",
     "locked": true,
     "schema_version": 3,
     "solution": false,
     "task": false
    }
   },
   "source": [
    "### Does the model works as expected now? Does it achieve about 85% accuracy (or at least 80%)?"
   ]
  },
  {
   "cell_type": "code",
   "execution_count": 18,
   "metadata": {},
   "outputs": [],
   "source": [
    "# Yes, here I am able to acheive the score greater than 85% here. \n",
    "# The model, after being fixed, performs well, achieving over 85% validation and test accuracy approximately, thus meeting the specified performance criteria."
   ]
  },
  {
   "cell_type": "markdown",
   "metadata": {
    "deletable": false,
    "editable": false,
    "nbgrader": {
     "cell_type": "markdown",
     "checksum": "e1c72d11d9129c61d931078479314edd",
     "grade": false,
     "grade_id": "task2b-instruct",
     "locked": true,
     "schema_version": 3,
     "solution": false,
     "task": false
    }
   },
   "source": [
    "### [Task 2b] (5 points) Just like task 2a, consider the following model. It has one obvious problem which prevents the model from learning: can you figure out what it is? Fix it by adding code to the 'if fixed:'' branch. Make sure that if fixed=False you do not change the implementation!\n",
    "\n",
    "### Note: the model is different in some ways to model0 but most of these ways are unrelated to the problem you are asked to diagnose and fix!"
   ]
  },
  {
   "cell_type": "code",
   "execution_count": 19,
   "metadata": {
    "deletable": false,
    "nbgrader": {
     "cell_type": "code",
     "checksum": "509763eec30b226aecbda380b3a36483",
     "grade": false,
     "grade_id": "task2b-code",
     "locked": false,
     "schema_version": 3,
     "solution": true,
     "task": false
    }
   },
   "outputs": [],
   "source": [
    "def create_compile_model1(fixed, input_shape=784, num_outputs=10, verbose=True):\n",
    "    \n",
    "    \"\"\" Remove the raise NotImplementedError lines, then move the if fixed branch to where you want to use it, and create a corresponding else (if necessary) to preserve \n",
    "    the broken functionality when fixed=False. For example:\n",
    "    #if fixed:\n",
    "        ###* put your code here (~1-2 lines) *###\n",
    "\n",
    "    Note: the 'raise NotImplementedError' lines may not match where you should put your 'if fixed' branch.\n",
    "    \"\"\"\n",
    "\n",
    "    # YOUR CODE HERE\n",
    "    # raise NotImplementedError()\n",
    "    \n",
    "    name = 'Model1--Fixed' if fixed else 'Model1--Broken'\n",
    "    hidden_widths=[256, 128, 48]\n",
    "    \n",
    "    model = keras.models.Sequential(name=name)\n",
    "    \n",
    "    model.add(keras.Input(shape=(input_shape,), sparse=False)) \n",
    "    \n",
    "    for i, hw in enumerate(hidden_widths):\n",
    "        use_bias = fixed \n",
    "        model.add(keras.layers.Dense(hw, activation='relu', name='hidden_{}'.format(i), \n",
    "                                     kernel_initializer=keras.initializers.RandomNormal(stddev=np.sqrt(1/hw)),\n",
    "                                     bias_initializer=keras.initializers.Zeros(), use_bias=use_bias))\n",
    "\n",
    "    # YOUR CODE HERE\n",
    "    # raise NotImplementedError()\n",
    "    \n",
    "    model.add(keras.layers.Dense(num_outputs, activation='softmax', name='output',\n",
    "                                kernel_initializer=keras.initializers.RandomNormal(stddev=np.sqrt(0.1)),\n",
    "                                bias_initializer=keras.initializers.Zeros(), use_bias=True))\n",
    "    \n",
    "    opt = keras.optimizers.Adam(learning_rate=0.1)\n",
    "\n",
    "    # YOUR CODE HERE\n",
    "    if fixed:\n",
    "        learning_rate = 0.001\n",
    "    else:\n",
    "        learning_rate = 0.1\n",
    "    opt = keras.optimizers.Adam(learning_rate=learning_rate)\n",
    "\n",
    "\n",
    "    # raise NotImplementedError()\n",
    "    \n",
    "    if verbose:\n",
    "        model.summary()\n",
    "    \n",
    "    model.compile(loss='categorical_crossentropy', optimizer=opt, metrics=['accuracy'])\n",
    "    \n",
    "    return name, model"
   ]
  },
  {
   "cell_type": "code",
   "execution_count": 20,
   "metadata": {
    "deletable": false,
    "editable": false,
    "nbgrader": {
     "cell_type": "code",
     "checksum": "f046d4572e22682825cc702aa9ad7d02",
     "grade": false,
     "grade_id": "task2b-provided1",
     "locked": true,
     "schema_version": 3,
     "solution": false,
     "task": false
    }
   },
   "outputs": [
    {
     "name": "stderr",
     "output_type": "stream",
     "text": [
      "WARNING:absl:At this time, the v2.11+ optimizer `tf.keras.optimizers.Adam` runs slowly on M1/M2 Macs, please use the legacy Keras optimizer instead, located at `tf.keras.optimizers.legacy.Adam`.\n",
      "WARNING:absl:At this time, the v2.11+ optimizer `tf.keras.optimizers.Adam` runs slowly on M1/M2 Macs, please use the legacy Keras optimizer instead, located at `tf.keras.optimizers.legacy.Adam`.\n"
     ]
    },
    {
     "name": "stdout",
     "output_type": "stream",
     "text": [
      "Model: \"Model1--Broken\"\n",
      "_________________________________________________________________\n",
      " Layer (type)                Output Shape              Param #   \n",
      "=================================================================\n",
      " hidden_0 (Dense)            (None, 256)               200704    \n",
      "                                                                 \n",
      " hidden_1 (Dense)            (None, 128)               32768     \n",
      "                                                                 \n",
      " hidden_2 (Dense)            (None, 48)                6144      \n",
      "                                                                 \n",
      " output (Dense)              (None, 10)                490       \n",
      "                                                                 \n",
      "=================================================================\n",
      "Total params: 240106 (937.91 KB)\n",
      "Trainable params: 240106 (937.91 KB)\n",
      "Non-trainable params: 0 (0.00 Byte)\n",
      "_________________________________________________________________\n"
     ]
    }
   ],
   "source": [
    "## create and compile the model for fixed=False, train it, then evaluate it\n",
    "fixed = False\n",
    "name, model = create_compile_model1(fixed) \n",
    "\n",
    "# train the model (hint you can set verbose to 1 to get more information during the training process)\n",
    "eval_data = train_model(model)"
   ]
  },
  {
   "cell_type": "code",
   "execution_count": 21,
   "metadata": {
    "deletable": false,
    "editable": false,
    "nbgrader": {
     "cell_type": "code",
     "checksum": "f5897dbd74eb80900faf740f8541de33",
     "grade": false,
     "grade_id": "task2b-provided2",
     "locked": true,
     "schema_version": 3,
     "solution": false,
     "task": false
    }
   },
   "outputs": [
    {
     "name": "stdout",
     "output_type": "stream",
     "text": [
      "[Model1--Broken] Training Accuracy: 10.000%, Validation Accuracy: 10.200%\n",
      "[Model1--Broken] Test loss: 2.30901, test accuracy: 9.800%\n"
     ]
    },
    {
     "data": {
      "image/png": "[encoded data removed]",
      "text/plain": [
       "<Figure size 600x300 with 1 Axes>"
      ]
     },
     "metadata": {},
     "output_type": "display_data"
    }
   ],
   "source": [
    "# evaluate\n",
    "evaluate_model(name, model, eval_data)"
   ]
  },
  {
   "cell_type": "markdown",
   "metadata": {
    "deletable": false,
    "editable": false,
    "nbgrader": {
     "cell_type": "markdown",
     "checksum": "3a1ecb97d10974026d7c4943880577cd",
     "grade": false,
     "grade_id": "cell-a1be3f1d92c21eca",
     "locked": true,
     "schema_version": 3,
     "solution": false,
     "task": false
    }
   },
   "source": [
    "### Let's check if you fixed the issue."
   ]
  },
  {
   "cell_type": "code",
   "execution_count": 22,
   "metadata": {
    "deletable": false,
    "editable": false,
    "nbgrader": {
     "cell_type": "code",
     "checksum": "c367053139691393c43390788877db5b",
     "grade": false,
     "grade_id": "task2b-provided3",
     "locked": true,
     "schema_version": 3,
     "solution": false,
     "task": false
    }
   },
   "outputs": [
    {
     "name": "stderr",
     "output_type": "stream",
     "text": [
      "WARNING:absl:At this time, the v2.11+ optimizer `tf.keras.optimizers.Adam` runs slowly on M1/M2 Macs, please use the legacy Keras optimizer instead, located at `tf.keras.optimizers.legacy.Adam`.\n",
      "WARNING:absl:At this time, the v2.11+ optimizer `tf.keras.optimizers.Adam` runs slowly on M1/M2 Macs, please use the legacy Keras optimizer instead, located at `tf.keras.optimizers.legacy.Adam`.\n"
     ]
    },
    {
     "name": "stdout",
     "output_type": "stream",
     "text": [
      "[Model1--Fixed] Training Accuracy: 90.508%, Validation Accuracy: 87.020%\n",
      "[Model1--Fixed] Test loss: 0.37954, test accuracy: 86.780%\n"
     ]
    },
    {
     "data": {
      "image/png": "[encoded data removed]",
      "text/plain": [
       "<Figure size 600x300 with 1 Axes>"
      ]
     },
     "metadata": {},
     "output_type": "display_data"
    }
   ],
   "source": [
    "fixed = True\n",
    "name, model = create_compile_model1(fixed, verbose=False) \n",
    "\n",
    "eval_data = train_model(model)\n",
    "evaluate_model(name, model, eval_data)"
   ]
  },
  {
   "cell_type": "code",
   "execution_count": 23,
   "metadata": {
    "deletable": false,
    "editable": false,
    "nbgrader": {
     "cell_type": "code",
     "checksum": "f7a08ae1bf54090f6cd2a620a767ab3f",
     "grade": true,
     "grade_id": "task2b-tests",
     "locked": true,
     "points": 5,
     "schema_version": 3,
     "solution": false,
     "task": false
    }
   },
   "outputs": [],
   "source": [
    "\"\"\" [ASSERTS] Check 2b completed. \"\"\"\n",
    "\n",
    "assert var_exists('create_compile_model1') # note: hidden tests will check accuracy is high enough for Fixed=True.\n"
   ]
  },
  {
   "cell_type": "markdown",
   "metadata": {
    "deletable": false,
    "editable": false,
    "nbgrader": {
     "cell_type": "markdown",
     "checksum": "994a899d37432592b83d38f409545c69",
     "grade": false,
     "grade_id": "task2c-instruct",
     "locked": true,
     "schema_version": 3,
     "solution": false,
     "task": false
    }
   },
   "source": [
    "### [Task 2c] (5 points) Explain what was the problem. (A sentence or two is fine.)"
   ]
  },
  {
   "cell_type": "code",
   "execution_count": 24,
   "metadata": {
    "deletable": false,
    "nbgrader": {
     "cell_type": "code",
     "checksum": "ba2ed055923b395bdbd6d3d8a6a4f2bd",
     "grade": true,
     "grade_id": "task2c-answer",
     "locked": false,
     "points": 5,
     "schema_version": 3,
     "solution": true,
     "task": false
    }
   },
   "outputs": [
    {
     "data": {
      "text/plain": [
       "\" Remove the 'raise NotImplementedError' line(s). Write your answer as a comment in the place provided.  (Do not change the cell type from code to markdown.)\""
      ]
     },
     "execution_count": 24,
     "metadata": {},
     "output_type": "execute_result"
    }
   ],
   "source": [
    "\"\"\" Remove the 'raise NotImplementedError' line(s). Write your answer as a comment in the place provided.  (Do not change the cell type from code to markdown.)\"\"\"\n",
    "# \n",
    "## Answer: \n",
    "#\n",
    "# YOUR CODE HERE\n",
    "\n",
    "# The problem with the model was the use of a high learning rate (0.1) which can cause instability in training, \n",
    "# and not using biases in the hidden layers, which are essential for learning.\n",
    "\n",
    "\n",
    "# raise NotImplementedError()\n",
    "#"
   ]
  },
  {
   "cell_type": "markdown",
   "metadata": {
    "deletable": false,
    "editable": false,
    "nbgrader": {
     "cell_type": "markdown",
     "checksum": "e1b2649d640fe5f418288b8d1e808e1b",
     "grade": false,
     "grade_id": "task2d-instruct",
     "locked": true,
     "schema_version": 3,
     "solution": false,
     "task": false
    }
   },
   "source": [
    "### [Task 2d] (5 points) Just like task 2a and task 2b, consider the following model. It has one obvious problem which prevents the model from learning: can you figure out what it is? Fix it by adding code to the 'if fixed:'' branch. Make sure that if fixed=False you do not change the implementation!"
   ]
  },
  {
   "cell_type": "code",
   "execution_count": 25,
   "metadata": {
    "deletable": false,
    "nbgrader": {
     "cell_type": "code",
     "checksum": "6c5fbd411de28ff2f825567ae03113e3",
     "grade": false,
     "grade_id": "task2d-code",
     "locked": false,
     "schema_version": 3,
     "solution": true,
     "task": false
    }
   },
   "outputs": [],
   "source": [
    "def create_compile_model2(fixed, input_shape=784, num_outputs=10, verbose=True):\n",
    "    \n",
    "    \"\"\" Remove the raise NotImplementedError lines, then move the if fixed branch to where you want to use it, and create a corresponding else (if necessary) to preserve \n",
    "    the broken functionality when fixed=False. For example:\n",
    "    #if fixed:\n",
    "        ###* put your code here (~1-2 lines) *###\n",
    "\n",
    "    Note: the 'raise NotImplementedError' lines may not match where you should put your 'if fixed' branch.\n",
    "    \"\"\"\n",
    "\n",
    "    # YOUR CODE HERE\n",
    "    # raise NotImplementedError()\n",
    "    \n",
    "    name = 'Model2--Fixed' if fixed else 'Model2--Broken'\n",
    "    hidden_widths=[400, 96]\n",
    "    \n",
    "    model = keras.models.Sequential(name=name)\n",
    "    \n",
    "    model.add(keras.Input(shape=(input_shape,), sparse=False)) \n",
    "    \n",
    "    for i, hw in enumerate(hidden_widths):\n",
    "        model.add(keras.layers.Dense(hw, activation='relu', name='hidden_{}'.format(i), \n",
    "                                     use_bias=True))\n",
    "\n",
    "    # YOUR CODE HERE\n",
    "    # raise NotImplementedError()\n",
    "    if fixed:\n",
    "        model.add(keras.layers.Dense(num_outputs, activation='softmax', name='output', use_bias=True))\n",
    "    else:\n",
    "        model.add(keras.layers.Dense(num_outputs, activation='softmax', name='output', use_bias=False))\n",
    "\n",
    "    \n",
    "    # model.add(keras.layers.Dense(num_outputs, activation='softmax', name='output', use_bias=False))\n",
    "\n",
    "    # YOUR CODE HERE\n",
    "\n",
    "\n",
    "    if fixed:\n",
    "        opt = keras.optimizers.RMSprop(learning_rate=1e-4)  # A more standard learning rate\n",
    "    else:\n",
    "        opt = keras.optimizers.RMSprop(learning_rate=1e-8)\n",
    "    \n",
    "    \n",
    "    # opt = keras.optimizers.RMSprop(learning_rate=1e-8)\n",
    "    # YOUR CODE HERE\n",
    "    # raise NotImplementedError()\n",
    "    \n",
    "    if verbose:\n",
    "        model.summary()\n",
    "    \n",
    "    model.compile(loss='categorical_crossentropy', optimizer=opt, metrics=['accuracy'])\n",
    "    \n",
    "    return name, model"
   ]
  },
  {
   "cell_type": "code",
   "execution_count": 26,
   "metadata": {
    "deletable": false,
    "editable": false,
    "nbgrader": {
     "cell_type": "code",
     "checksum": "bd581bce7cc7dc0c687b0f40746d278e",
     "grade": false,
     "grade_id": "task2d-provided1",
     "locked": true,
     "schema_version": 3,
     "solution": false,
     "task": false
    }
   },
   "outputs": [
    {
     "name": "stderr",
     "output_type": "stream",
     "text": [
      "WARNING:absl:At this time, the v2.11+ optimizer `tf.keras.optimizers.RMSprop` runs slowly on M1/M2 Macs, please use the legacy Keras optimizer instead, located at `tf.keras.optimizers.legacy.RMSprop`.\n"
     ]
    },
    {
     "name": "stdout",
     "output_type": "stream",
     "text": [
      "Model: \"Model2--Broken\"\n",
      "_________________________________________________________________\n",
      " Layer (type)                Output Shape              Param #   \n",
      "=================================================================\n",
      " hidden_0 (Dense)            (None, 400)               314000    \n",
      "                                                                 \n",
      " hidden_1 (Dense)            (None, 96)                38496     \n",
      "                                                                 \n",
      " output (Dense)              (None, 10)                960       \n",
      "                                                                 \n",
      "=================================================================\n",
      "Total params: 353456 (1.35 MB)\n",
      "Trainable params: 353456 (1.35 MB)\n",
      "Non-trainable params: 0 (0.00 Byte)\n",
      "_________________________________________________________________\n"
     ]
    }
   ],
   "source": [
    "# create and compile the model for fixed=False, train it, then evaluate it\n",
    "fixed = False\n",
    "name, model = create_compile_model2(fixed) \n",
    "\n",
    "# train the model (hint you can set verbose to 1 to get more information during the training process)\n",
    "eval_data = train_model(model)"
   ]
  },
  {
   "cell_type": "code",
   "execution_count": 27,
   "metadata": {
    "deletable": false,
    "editable": false,
    "nbgrader": {
     "cell_type": "code",
     "checksum": "df48c384f550e68c4fc008441c1ecb0a",
     "grade": false,
     "grade_id": "task2d-provided2",
     "locked": true,
     "schema_version": 3,
     "solution": false,
     "task": false
    }
   },
   "outputs": [
    {
     "name": "stdout",
     "output_type": "stream",
     "text": [
      "[Model2--Broken] Training Accuracy: 6.113%, Validation Accuracy: 5.560%\n",
      "[Model2--Broken] Test loss: 104.09370, test accuracy: 5.820%\n"
     ]
    },
    {
     "data": {
      "image/png": "[encoded data removed]",
      "text/plain": [
       "<Figure size 600x300 with 1 Axes>"
      ]
     },
     "metadata": {},
     "output_type": "display_data"
    }
   ],
   "source": [
    "# evaluate\n",
    "evaluate_model(name, model, eval_data)"
   ]
  },
  {
   "cell_type": "markdown",
   "metadata": {
    "deletable": false,
    "editable": false,
    "nbgrader": {
     "cell_type": "markdown",
     "checksum": "fff43f7b28389f0a6daa7a0b6874b2eb",
     "grade": false,
     "grade_id": "cell-952e2c850f80bce5",
     "locked": true,
     "schema_version": 3,
     "solution": false,
     "task": false
    }
   },
   "source": [
    "### Let's check if you fixed the issue."
   ]
  },
  {
   "cell_type": "code",
   "execution_count": 28,
   "metadata": {
    "deletable": false,
    "editable": false,
    "nbgrader": {
     "cell_type": "code",
     "checksum": "d8e2eb49722eb4339a500809a343292a",
     "grade": false,
     "grade_id": "task2d-provided3",
     "locked": true,
     "schema_version": 3,
     "solution": false,
     "task": false
    }
   },
   "outputs": [
    {
     "name": "stderr",
     "output_type": "stream",
     "text": [
      "WARNING:absl:At this time, the v2.11+ optimizer `tf.keras.optimizers.RMSprop` runs slowly on M1/M2 Macs, please use the legacy Keras optimizer instead, located at `tf.keras.optimizers.legacy.RMSprop`.\n"
     ]
    },
    {
     "name": "stdout",
     "output_type": "stream",
     "text": [
      "[Model2--Fixed] Training Accuracy: 91.717%, Validation Accuracy: 86.340%\n",
      "[Model2--Fixed] Test loss: 0.56766, test accuracy: 86.760%\n"
     ]
    },
    {
     "data": {
      "image/png": "[encoded data removed]",
      "text/plain": [
       "<Figure size 600x300 with 1 Axes>"
      ]
     },
     "metadata": {},
     "output_type": "display_data"
    }
   ],
   "source": [
    "fixed = True\n",
    "name, model = create_compile_model2(fixed, verbose=False)\n",
    "\n",
    "eval_data = train_model(model)\n",
    "evaluate_model(name, model, eval_data)"
   ]
  },
  {
   "cell_type": "code",
   "execution_count": 29,
   "metadata": {
    "deletable": false,
    "editable": false,
    "nbgrader": {
     "cell_type": "code",
     "checksum": "afb5483507c06f60d132467f12497805",
     "grade": true,
     "grade_id": "task2d-answer",
     "locked": true,
     "points": 5,
     "schema_version": 3,
     "solution": false,
     "task": false
    }
   },
   "outputs": [],
   "source": [
    "\"\"\" [ASSERTS] Check 2d completed. \"\"\"\n",
    "\n",
    "assert var_exists('create_compile_model2') # note: hidden tests will check accuracy is high enough for Fixed=True.\n"
   ]
  },
  {
   "cell_type": "markdown",
   "metadata": {
    "deletable": false,
    "editable": false,
    "nbgrader": {
     "cell_type": "markdown",
     "checksum": "6d1a0295aaaf554c8cffc9a3de21b106",
     "grade": false,
     "grade_id": "task2e-instruct",
     "locked": true,
     "schema_version": 3,
     "solution": false,
     "task": false
    }
   },
   "source": [
    "### [Task 2e] (5 points) Explain what was the problem. (A sentence or two is fine.)"
   ]
  },
  {
   "cell_type": "code",
   "execution_count": 30,
   "metadata": {
    "deletable": false,
    "nbgrader": {
     "cell_type": "code",
     "checksum": "a06968bd62338a66a8caad6f13c85b2a",
     "grade": true,
     "grade_id": "task2e-manual-answer",
     "locked": false,
     "points": 5,
     "schema_version": 3,
     "solution": true,
     "task": false
    }
   },
   "outputs": [
    {
     "data": {
      "text/plain": [
       "\" Remove the 'raise NotImplementedError' line(s). Write your answer as a comment in the place provided.  (Do not change the cell type from code to markdown.)\""
      ]
     },
     "execution_count": 30,
     "metadata": {},
     "output_type": "execute_result"
    }
   ],
   "source": [
    "\"\"\" Remove the 'raise NotImplementedError' line(s). Write your answer as a comment in the place provided.  (Do not change the cell type from code to markdown.)\"\"\"\n",
    "# \n",
    "## Answer: \n",
    "\n",
    "# The  issue with the \"Broken model\" configuration is the extremely low learning rate (1e-8), which damaged the model's ability to learn, \n",
    "# including with the absence of bias in the output layer, limiting the model's ability to learn the data.\n",
    "#\n",
    "# YOUR CODE HERE\n",
    "# raise NotImplementedError()\n",
    "#"
   ]
  },
  {
   "cell_type": "markdown",
   "metadata": {
    "deletable": false,
    "editable": false,
    "nbgrader": {
     "cell_type": "markdown",
     "checksum": "2dd60fc2503571107d85f99ae873b121",
     "grade": false,
     "grade_id": "task3-instruct",
     "locked": true,
     "schema_version": 3,
     "solution": false,
     "task": false
    }
   },
   "source": [
    "## [Task 3] (30 points) Diagnosing Other Problems"
   ]
  },
  {
   "cell_type": "markdown",
   "metadata": {
    "deletable": false,
    "editable": false,
    "nbgrader": {
     "cell_type": "markdown",
     "checksum": "75b649e8f19f3b7da931f988451dee3c",
     "grade": false,
     "grade_id": "task3a-instruct",
     "locked": true,
     "schema_version": 3,
     "solution": false,
     "task": false
    }
   },
   "source": [
    "### [Task 3a] (5 points) Just like in task 2, consider the following model. It has one obvious problem which prevents the model from learning: can you figure out what it is? Fix it by adding code to the 'if fixed:'' branch. Make sure that if fixed=False you do not change the implementation!"
   ]
  },
  {
   "cell_type": "code",
   "execution_count": 31,
   "metadata": {
    "deletable": false,
    "nbgrader": {
     "cell_type": "code",
     "checksum": "549684a7c603849c6d552c58136b07f9",
     "grade": false,
     "grade_id": "task3a-code",
     "locked": false,
     "schema_version": 3,
     "solution": true,
     "task": false
    }
   },
   "outputs": [],
   "source": [
    "def create_compile_model3(fixed, input_shape=784, num_outputs=10, verbose=True):\n",
    "    \n",
    "    \"\"\" Remove the raise NotImplementedError lines, then move the if fixed branch to where you want to use it, and create a corresponding else (if necessary) to preserve \n",
    "    the broken functionality when fixed=False. For example:\n",
    "    #if fixed:\n",
    "        ###* put your code here (~1-2 lines) *###\n",
    "\n",
    "    Note: the 'raise NotImplementedError' lines may not match where you should put your 'if fixed' branch.\n",
    "    \"\"\"\n",
    "\n",
    "    # YOUR CODE HERE\n",
    "    # raise NotImplementedError()\n",
    "    \n",
    "    name = 'Model3--Fixed' if fixed else 'Model3--Broken'\n",
    "    hidden_widths=[512, 128, 32, 24]\n",
    "\n",
    "    # YOUR CODE HERE\n",
    "    # raise NotImplementedError()\n",
    "    \n",
    "    model = keras.models.Sequential(name=name)\n",
    "    \n",
    "    model.add(keras.Input(shape=(input_shape,), sparse=False)) \n",
    "    \n",
    "    for i, hw in enumerate(hidden_widths):\n",
    "        model.add(keras.layers.Dense(hw, activation='relu', name='hidden_{}'.format(i), \n",
    "                                     bias_initializer=keras.initializers.RandomNormal(stddev=0.001), use_bias=True))\n",
    "    # YOUR CODE HERE\n",
    "    # raise NotImplementedError()\n",
    "    \n",
    "    if fixed:\n",
    "        \n",
    "        model.add(keras.layers.Dense(num_outputs, activation='softmax', name='output',\n",
    "                                     kernel_initializer=keras.initializers.RandomNormal(stddev=np.sqrt(0.1)),\n",
    "                                     bias_initializer=keras.initializers.Zeros(), use_bias=True))\n",
    "        opt = keras.optimizers.Adam(learning_rate=0.001)\n",
    "\n",
    "    \n",
    "    if not fixed:\n",
    "        model.add(keras.layers.Dense(num_outputs, activation='tanh', name='output',\n",
    "                                kernel_initializer=keras.initializers.RandomNormal(stddev=np.sqrt(0.1)),\n",
    "                                bias_initializer=keras.initializers.Zeros(), use_bias=True))\n",
    "    \n",
    "        opt = keras.optimizers.Adam(learning_rate=0.0004, beta_1=0.9, beta_2=0.995, epsilon=1e-07, amsgrad=False)\n",
    "    \n",
    "    if verbose:\n",
    "        model.summary()\n",
    "    \n",
    "    model.compile(loss='categorical_crossentropy', optimizer=opt, metrics=['accuracy'])\n",
    "    \n",
    "    return name, model"
   ]
  },
  {
   "cell_type": "code",
   "execution_count": 32,
   "metadata": {
    "deletable": false,
    "editable": false,
    "nbgrader": {
     "cell_type": "code",
     "checksum": "eb76282ff44babbd416fc779ed34dc89",
     "grade": false,
     "grade_id": "task3a-provided1",
     "locked": true,
     "schema_version": 3,
     "solution": false,
     "task": false
    }
   },
   "outputs": [
    {
     "name": "stderr",
     "output_type": "stream",
     "text": [
      "WARNING:absl:At this time, the v2.11+ optimizer `tf.keras.optimizers.Adam` runs slowly on M1/M2 Macs, please use the legacy Keras optimizer instead, located at `tf.keras.optimizers.legacy.Adam`.\n"
     ]
    },
    {
     "name": "stdout",
     "output_type": "stream",
     "text": [
      "Model: \"Model3--Broken\"\n",
      "_________________________________________________________________\n",
      " Layer (type)                Output Shape              Param #   \n",
      "=================================================================\n",
      " hidden_0 (Dense)            (None, 512)               401920    \n",
      "                                                                 \n",
      " hidden_1 (Dense)            (None, 128)               65664     \n",
      "                                                                 \n",
      " hidden_2 (Dense)            (None, 32)                4128      \n",
      "                                                                 \n",
      " hidden_3 (Dense)            (None, 24)                792       \n",
      "                                                                 \n",
      " output (Dense)              (None, 10)                250       \n",
      "                                                                 \n",
      "=================================================================\n",
      "Total params: 472754 (1.80 MB)\n",
      "Trainable params: 472754 (1.80 MB)\n",
      "Non-trainable params: 0 (0.00 Byte)\n",
      "_________________________________________________________________\n",
      "Epoch 1/25\n"
     ]
    },
    {
     "name": "stdout",
     "output_type": "stream",
     "text": [
      "469/469 [==============================] - 1s 3ms/step - loss: nan - accuracy: 0.1000 - val_loss: nan - val_accuracy: 0.1026\n",
      "Epoch 2/25\n",
      "469/469 [==============================] - 1s 2ms/step - loss: nan - accuracy: 0.1000 - val_loss: nan - val_accuracy: 0.1026\n",
      "Epoch 3/25\n",
      "469/469 [==============================] - 1s 2ms/step - loss: nan - accuracy: 0.1000 - val_loss: nan - val_accuracy: 0.1026\n",
      "Epoch 4/25\n",
      "469/469 [==============================] - 1s 3ms/step - loss: nan - accuracy: 0.1000 - val_loss: nan - val_accuracy: 0.1026\n",
      "Epoch 5/25\n",
      "469/469 [==============================] - 1s 3ms/step - loss: nan - accuracy: 0.1000 - val_loss: nan - val_accuracy: 0.1026\n",
      "Epoch 6/25\n",
      "469/469 [==============================] - 1s 3ms/step - loss: nan - accuracy: 0.1000 - val_loss: nan - val_accuracy: 0.1026\n",
      "Epoch 7/25\n",
      "469/469 [==============================] - 1s 3ms/step - loss: nan - accuracy: 0.1000 - val_loss: nan - val_accuracy: 0.1026\n",
      "Epoch 8/25\n",
      "469/469 [==============================] - 1s 2ms/step - loss: nan - accuracy: 0.1000 - val_loss: nan - val_accuracy: 0.1026\n",
      "Epoch 9/25\n",
      "469/469 [==============================] - 1s 3ms/step - loss: nan - accuracy: 0.1000 - val_loss: nan - val_accuracy: 0.1026\n",
      "Epoch 10/25\n",
      "469/469 [==============================] - 1s 3ms/step - loss: nan - accuracy: 0.1000 - val_loss: nan - val_accuracy: 0.1026\n",
      "Epoch 11/25\n",
      "469/469 [==============================] - 1s 3ms/step - loss: nan - accuracy: 0.1000 - val_loss: nan - val_accuracy: 0.1026\n",
      "Epoch 12/25\n",
      "469/469 [==============================] - 1s 3ms/step - loss: nan - accuracy: 0.1000 - val_loss: nan - val_accuracy: 0.1026\n",
      "Epoch 13/25\n",
      "469/469 [==============================] - 1s 3ms/step - loss: nan - accuracy: 0.1000 - val_loss: nan - val_accuracy: 0.1026\n",
      "Epoch 14/25\n",
      "469/469 [==============================] - 1s 3ms/step - loss: nan - accuracy: 0.1000 - val_loss: nan - val_accuracy: 0.1026\n",
      "Epoch 15/25\n",
      "469/469 [==============================] - 1s 3ms/step - loss: nan - accuracy: 0.1000 - val_loss: nan - val_accuracy: 0.1026\n",
      "Epoch 16/25\n",
      "469/469 [==============================] - 1s 3ms/step - loss: nan - accuracy: 0.1000 - val_loss: nan - val_accuracy: 0.1026\n",
      "Epoch 17/25\n",
      "469/469 [==============================] - 1s 3ms/step - loss: nan - accuracy: 0.1000 - val_loss: nan - val_accuracy: 0.1026\n",
      "Epoch 18/25\n",
      "469/469 [==============================] - 1s 3ms/step - loss: nan - accuracy: 0.1000 - val_loss: nan - val_accuracy: 0.1026\n",
      "Epoch 19/25\n",
      "469/469 [==============================] - 1s 2ms/step - loss: nan - accuracy: 0.1000 - val_loss: nan - val_accuracy: 0.1026\n",
      "Epoch 20/25\n",
      "469/469 [==============================] - 1s 2ms/step - loss: nan - accuracy: 0.1000 - val_loss: nan - val_accuracy: 0.1026\n",
      "Epoch 21/25\n",
      "469/469 [==============================] - 1s 3ms/step - loss: nan - accuracy: 0.1000 - val_loss: nan - val_accuracy: 0.1026\n",
      "Epoch 22/25\n",
      "469/469 [==============================] - 1s 3ms/step - loss: nan - accuracy: 0.1000 - val_loss: nan - val_accuracy: 0.1026\n",
      "Epoch 23/25\n",
      "469/469 [==============================] - 1s 3ms/step - loss: nan - accuracy: 0.1000 - val_loss: nan - val_accuracy: 0.1026\n",
      "Epoch 24/25\n",
      "469/469 [==============================] - 1s 3ms/step - loss: nan - accuracy: 0.1000 - val_loss: nan - val_accuracy: 0.1026\n",
      "Epoch 25/25\n",
      "469/469 [==============================] - 1s 3ms/step - loss: nan - accuracy: 0.1000 - val_loss: nan - val_accuracy: 0.1026\n"
     ]
    }
   ],
   "source": [
    "# create and compile the model for fixed=False, train it, then evaluate it\n",
    "name, model = create_compile_model3(False) \n",
    "\n",
    "# train the model (hint you can set verbose get more or less information during the training process)\n",
    "eval_data = train_model(model, verbose=1)"
   ]
  },
  {
   "cell_type": "code",
   "execution_count": 33,
   "metadata": {
    "deletable": false,
    "editable": false,
    "nbgrader": {
     "cell_type": "code",
     "checksum": "9889f4ee87c56779c91dc348dfb0727c",
     "grade": false,
     "grade_id": "task3a-provided2",
     "locked": true,
     "schema_version": 3,
     "solution": false,
     "task": false
    }
   },
   "outputs": [
    {
     "name": "stdout",
     "output_type": "stream",
     "text": [
      "[Model3--Broken] Training Accuracy: 10.000%, Validation Accuracy: 10.260%\n",
      "[Model3--Broken] Test loss: nan, test accuracy: 9.740%\n"
     ]
    },
    {
     "data": {
      "image/png": "[encoded data removed]",
      "text/plain": [
       "<Figure size 600x300 with 1 Axes>"
      ]
     },
     "metadata": {},
     "output_type": "display_data"
    }
   ],
   "source": [
    "# evaluate\n",
    "evaluate_model(name, model, eval_data)"
   ]
  },
  {
   "cell_type": "markdown",
   "metadata": {
    "deletable": false,
    "editable": false,
    "nbgrader": {
     "cell_type": "markdown",
     "checksum": "bc17c090ed9965d97d2f7cfefa9d8bd2",
     "grade": false,
     "grade_id": "cell-8f29086e30eaf70b",
     "locked": true,
     "schema_version": 3,
     "solution": false,
     "task": false
    }
   },
   "source": [
    "### Let's check if you fixed the issue."
   ]
  },
  {
   "cell_type": "code",
   "execution_count": 34,
   "metadata": {
    "deletable": false,
    "editable": false,
    "nbgrader": {
     "cell_type": "code",
     "checksum": "777857a89377f09b8d04d328660ec7aa",
     "grade": false,
     "grade_id": "task3a-provided3",
     "locked": true,
     "schema_version": 3,
     "solution": false,
     "task": false
    }
   },
   "outputs": [
    {
     "name": "stderr",
     "output_type": "stream",
     "text": [
      "WARNING:absl:At this time, the v2.11+ optimizer `tf.keras.optimizers.Adam` runs slowly on M1/M2 Macs, please use the legacy Keras optimizer instead, located at `tf.keras.optimizers.legacy.Adam`.\n"
     ]
    },
    {
     "name": "stdout",
     "output_type": "stream",
     "text": [
      "[Model3--Fixed] Training Accuracy: 91.593%, Validation Accuracy: 88.040%\n",
      "[Model3--Fixed] Test loss: 0.36434, test accuracy: 87.960%\n"
     ]
    },
    {
     "data": {
      "image/png": "[encoded data removed]",
      "text/plain": [
       "<Figure size 600x300 with 1 Axes>"
      ]
     },
     "metadata": {},
     "output_type": "display_data"
    }
   ],
   "source": [
    "name, model = create_compile_model3(True, verbose=False) \n",
    "\n",
    "eval_data = train_model(model)\n",
    "evaluate_model(name, model, eval_data)"
   ]
  },
  {
   "cell_type": "code",
   "execution_count": 35,
   "metadata": {
    "deletable": false,
    "editable": false,
    "nbgrader": {
     "cell_type": "code",
     "checksum": "d307badd8a669443b606969b47cf12fc",
     "grade": true,
     "grade_id": "task3a-tests",
     "locked": true,
     "points": 5,
     "schema_version": 3,
     "solution": false,
     "task": false
    }
   },
   "outputs": [],
   "source": [
    "\"\"\" [ASSERTS] Check 3a completed. \"\"\"\n",
    "\n",
    "assert var_exists('create_compile_model3') # note: hidden tests will check accuracy is high enough for Fixed=True.\n"
   ]
  },
  {
   "cell_type": "markdown",
   "metadata": {
    "deletable": false,
    "editable": false,
    "nbgrader": {
     "cell_type": "markdown",
     "checksum": "ec3b269b309d6215ee1761469dab74ef",
     "grade": false,
     "grade_id": "task3b-instruct",
     "locked": true,
     "schema_version": 3,
     "solution": false,
     "task": false
    }
   },
   "source": [
    "###  [Task 3b] (5 points) Explain what was the problem. (One sentence or two is fine.)"
   ]
  },
  {
   "cell_type": "code",
   "execution_count": 36,
   "metadata": {
    "deletable": false,
    "nbgrader": {
     "cell_type": "code",
     "checksum": "d4e2ad9c0e196253db90600ddb883949",
     "grade": true,
     "grade_id": "task3b-manual-answer",
     "locked": false,
     "points": 5,
     "schema_version": 3,
     "solution": true,
     "task": false
    }
   },
   "outputs": [
    {
     "data": {
      "text/plain": [
       "\" Remove the 'raise NotImplementedError' line(s). Write your answer as a comment in the place provided.  (Do not change the cell type from code to markdown.)\""
      ]
     },
     "execution_count": 36,
     "metadata": {},
     "output_type": "execute_result"
    }
   ],
   "source": [
    "\"\"\" Remove the 'raise NotImplementedError' line(s). Write your answer as a comment in the place provided.  (Do not change the cell type from code to markdown.)\"\"\"\n",
    "# \n",
    "## Answer: \n",
    "\n",
    "# The issue arose from using the 'tanh' activation function, in the layer, for a classification task, where 'softmax' should be utilized for multi class probability distribution. \n",
    "# Moreover adjusting the learning rate in the 'fixed' scenario enhanced both model training and convergence.\n",
    "\n",
    "\n",
    "# raise NotImplementedError()\n",
    "#"
   ]
  },
  {
   "cell_type": "markdown",
   "metadata": {
    "deletable": false,
    "editable": false,
    "nbgrader": {
     "cell_type": "markdown",
     "checksum": "2412c2b68e3f04f9c9ef44580d4ef875",
     "grade": false,
     "grade_id": "task3c-instruct",
     "locked": true,
     "schema_version": 3,
     "solution": false,
     "task": false
    }
   },
   "source": [
    "### [Task 3c] (5 points) Consider the following model. It has one obvious problem which prevents the model from learning: can you figure out what it is? Fix it by adding code to the 'if fixed:'' branch. Make sure that if fixed=False you do not change the implementation!"
   ]
  },
  {
   "cell_type": "code",
   "execution_count": 37,
   "metadata": {
    "deletable": false,
    "nbgrader": {
     "cell_type": "code",
     "checksum": "dc8e32d7b9102b9a01767b9854b97e25",
     "grade": false,
     "grade_id": "task3c-code",
     "locked": false,
     "schema_version": 3,
     "solution": true,
     "task": false
    }
   },
   "outputs": [],
   "source": [
    "def create_compile_model4(fixed, input_shape=784, num_outputs=10, verbose=True):\n",
    "    \n",
    "    \"\"\" Remove the raise NotImplementedError lines, then move the if fixed branch to where you want to use it, and create a corresponding else (if necessary) to preserve \n",
    "    the broken functionality when fixed=False. For example:\n",
    "    #if fixed:\n",
    "        ###* put your code here (~1-2 lines) *###\n",
    "\n",
    "    Note: the 'raise NotImplementedError' lines may not match where you should put your 'if fixed' branch.\n",
    "    \"\"\"\n",
    "\n",
    "    # YOUR CODE HERE\n",
    "    # raise NotImplementedError()\n",
    "    \n",
    "    name = 'Model4--Fixed' if fixed else 'Model4--Broken'\n",
    "    hidden_widths=[512, 128, 3, 24]\n",
    "\n",
    "    # YOUR CODE HERE\n",
    "    # raise NotImplementedError()\n",
    "    \n",
    "    model = keras.models.Sequential(name=name)\n",
    "    \n",
    "    model.add(keras.Input(shape=(input_shape,), sparse=False)) \n",
    "    \n",
    "\n",
    "    for i, hw in enumerate(hidden_widths):\n",
    "        if fixed and i == 2:\n",
    "            model.add(keras.layers.Dense(128, activation='relu', name='hidden_fixed'))\n",
    "        else:\n",
    "            model.add(keras.layers.Dense(hw, activation='relu', name='hidden_{}'.format(i)))\n",
    "    \n",
    "        \n",
    "    # YOUR CODE HERE\n",
    "    # raise NotImplementedError()\n",
    "    \n",
    "    model.add(keras.layers.Dense(num_outputs, activation='softmax', name='output',\n",
    "                                kernel_initializer=keras.initializers.RandomNormal(stddev=np.sqrt(0.1)),\n",
    "                                bias_initializer=keras.initializers.Zeros(), use_bias=True))\n",
    "    \n",
    "    opt = keras.optimizers.Nadam(learning_rate=0.001)\n",
    "\n",
    "    # YOUR CODE HERE\n",
    "    # raise NotImplementedError()\n",
    "    \n",
    "    if verbose:\n",
    "        model.summary()\n",
    "    \n",
    "    model.compile(loss='categorical_crossentropy', optimizer=opt, metrics=['accuracy'])\n",
    "    \n",
    "    return name, model"
   ]
  },
  {
   "cell_type": "code",
   "execution_count": 38,
   "metadata": {
    "deletable": false,
    "editable": false,
    "nbgrader": {
     "cell_type": "code",
     "checksum": "56ef5ec29c1a9be145ad4f05bf42b330",
     "grade": false,
     "grade_id": "task3c-provided1",
     "locked": true,
     "schema_version": 3,
     "solution": false,
     "task": false
    }
   },
   "outputs": [
    {
     "name": "stderr",
     "output_type": "stream",
     "text": [
      "WARNING:absl:At this time, the v2.11+ optimizer `tf.keras.optimizers.Nadam` runs slowly on M1/M2 Macs, please use the legacy Keras optimizer instead, located at `tf.keras.optimizers.legacy.Nadam`.\n"
     ]
    },
    {
     "name": "stdout",
     "output_type": "stream",
     "text": [
      "Model: \"Model4--Broken\"\n",
      "_________________________________________________________________\n",
      " Layer (type)                Output Shape              Param #   \n",
      "=================================================================\n",
      " hidden_0 (Dense)            (None, 512)               401920    \n",
      "                                                                 \n",
      " hidden_1 (Dense)            (None, 128)               65664     \n",
      "                                                                 \n",
      " hidden_2 (Dense)            (None, 3)                 387       \n",
      "                                                                 \n",
      " hidden_3 (Dense)            (None, 24)                96        \n",
      "                                                                 \n",
      " output (Dense)              (None, 10)                250       \n",
      "                                                                 \n",
      "=================================================================\n",
      "Total params: 468317 (1.79 MB)\n",
      "Trainable params: 468317 (1.79 MB)\n",
      "Non-trainable params: 0 (0.00 Byte)\n",
      "_________________________________________________________________\n",
      "Epoch 1/25\n"
     ]
    },
    {
     "name": "stdout",
     "output_type": "stream",
     "text": [
      "469/469 [==============================] - 2s 3ms/step - loss: 2.4464 - accuracy: 0.0999 - val_loss: 2.3026 - val_accuracy: 0.0988\n",
      "Epoch 2/25\n",
      "469/469 [==============================] - 1s 3ms/step - loss: 2.3027 - accuracy: 0.0984 - val_loss: 2.3026 - val_accuracy: 0.1008\n",
      "Epoch 3/25\n",
      "469/469 [==============================] - 1s 3ms/step - loss: 2.3027 - accuracy: 0.0983 - val_loss: 2.3026 - val_accuracy: 0.1016\n",
      "Epoch 4/25\n",
      "469/469 [==============================] - 1s 3ms/step - loss: 2.3027 - accuracy: 0.0978 - val_loss: 2.3026 - val_accuracy: 0.1008\n",
      "Epoch 5/25\n",
      "469/469 [==============================] - 1s 3ms/step - loss: 2.3027 - accuracy: 0.0981 - val_loss: 2.3026 - val_accuracy: 0.1020\n",
      "Epoch 6/25\n",
      "469/469 [==============================] - 1s 3ms/step - loss: 2.3027 - accuracy: 0.0978 - val_loss: 2.3026 - val_accuracy: 0.1008\n",
      "Epoch 7/25\n",
      "469/469 [==============================] - 1s 3ms/step - loss: 2.3027 - accuracy: 0.0959 - val_loss: 2.3026 - val_accuracy: 0.1008\n",
      "Epoch 8/25\n",
      "469/469 [==============================] - 1s 3ms/step - loss: 2.3027 - accuracy: 0.0978 - val_loss: 2.3026 - val_accuracy: 0.0962\n",
      "Epoch 9/25\n",
      "469/469 [==============================] - 1s 3ms/step - loss: 2.3027 - accuracy: 0.0984 - val_loss: 2.3027 - val_accuracy: 0.0962\n",
      "Epoch 10/25\n",
      "469/469 [==============================] - 1s 3ms/step - loss: 2.3027 - accuracy: 0.0978 - val_loss: 2.3026 - val_accuracy: 0.0956\n",
      "Epoch 11/25\n",
      "469/469 [==============================] - 1s 3ms/step - loss: 2.3027 - accuracy: 0.0980 - val_loss: 2.3025 - val_accuracy: 0.1026\n",
      "Epoch 12/25\n",
      "469/469 [==============================] - 1s 3ms/step - loss: 2.3027 - accuracy: 0.0977 - val_loss: 2.3026 - val_accuracy: 0.1008\n",
      "Epoch 13/25\n",
      "469/469 [==============================] - 1s 3ms/step - loss: 2.3027 - accuracy: 0.0989 - val_loss: 2.3025 - val_accuracy: 0.1008\n",
      "Epoch 14/25\n",
      "469/469 [==============================] - 1s 3ms/step - loss: 2.3027 - accuracy: 0.0973 - val_loss: 2.3026 - val_accuracy: 0.0956\n",
      "Epoch 15/25\n",
      "469/469 [==============================] - 1s 3ms/step - loss: 2.3027 - accuracy: 0.0984 - val_loss: 2.3026 - val_accuracy: 0.1020\n",
      "Epoch 16/25\n",
      "469/469 [==============================] - 1s 3ms/step - loss: 2.3027 - accuracy: 0.0966 - val_loss: 2.3026 - val_accuracy: 0.0962\n",
      "Epoch 17/25\n",
      "469/469 [==============================] - 1s 3ms/step - loss: 2.3027 - accuracy: 0.0978 - val_loss: 2.3026 - val_accuracy: 0.1026\n",
      "Epoch 18/25\n",
      "469/469 [==============================] - 1s 3ms/step - loss: 2.3027 - accuracy: 0.0984 - val_loss: 2.3026 - val_accuracy: 0.0956\n",
      "Epoch 19/25\n",
      "469/469 [==============================] - 1s 3ms/step - loss: 2.3027 - accuracy: 0.0985 - val_loss: 2.3026 - val_accuracy: 0.1026\n",
      "Epoch 20/25\n",
      "469/469 [==============================] - 1s 3ms/step - loss: 2.3027 - accuracy: 0.0978 - val_loss: 2.3025 - val_accuracy: 0.1008\n",
      "Epoch 21/25\n",
      "469/469 [==============================] - 1s 3ms/step - loss: 2.3027 - accuracy: 0.0979 - val_loss: 2.3026 - val_accuracy: 0.0972\n",
      "Epoch 22/25\n",
      "469/469 [==============================] - 1s 3ms/step - loss: 2.3027 - accuracy: 0.0993 - val_loss: 2.3026 - val_accuracy: 0.1008\n",
      "Epoch 23/25\n",
      "469/469 [==============================] - 1s 3ms/step - loss: 2.3027 - accuracy: 0.0980 - val_loss: 2.3026 - val_accuracy: 0.1020\n",
      "Epoch 24/25\n",
      "469/469 [==============================] - 1s 3ms/step - loss: 2.3027 - accuracy: 0.0977 - val_loss: 2.3026 - val_accuracy: 0.1020\n",
      "Epoch 25/25\n",
      "469/469 [==============================] - 1s 3ms/step - loss: 2.3027 - accuracy: 0.0990 - val_loss: 2.3026 - val_accuracy: 0.0956\n"
     ]
    }
   ],
   "source": [
    "# create and compile the model for fixed=False, train it, then evaluate it\n",
    "name, model = create_compile_model4(False) \n",
    "\n",
    "# train the model (hint you can set verbose get more or less information during the training process)\n",
    "eval_data = train_model(model, verbose=1)"
   ]
  },
  {
   "cell_type": "code",
   "execution_count": 39,
   "metadata": {
    "deletable": false,
    "editable": false,
    "nbgrader": {
     "cell_type": "code",
     "checksum": "92120c1e20812e88cd0aafbc6058d40a",
     "grade": false,
     "grade_id": "task3c-provided2",
     "locked": true,
     "schema_version": 3,
     "solution": false,
     "task": false
    }
   },
   "outputs": [
    {
     "name": "stdout",
     "output_type": "stream",
     "text": [
      "[Model4--Broken] Training Accuracy: 10.000%, Validation Accuracy: 9.560%\n",
      "[Model4--Broken] Test loss: 2.30258, test accuracy: 10.440%\n"
     ]
    },
    {
     "data": {
      "image/png": "[encoded data removed]",
      "text/plain": [
       "<Figure size 600x300 with 1 Axes>"
      ]
     },
     "metadata": {},
     "output_type": "display_data"
    }
   ],
   "source": [
    "# evaluate\n",
    "evaluate_model(name, model, eval_data)"
   ]
  },
  {
   "cell_type": "markdown",
   "metadata": {
    "deletable": false,
    "editable": false,
    "nbgrader": {
     "cell_type": "markdown",
     "checksum": "a787177c34fb6f7ee409a6c919084340",
     "grade": false,
     "grade_id": "cell-8cd64c9758353040",
     "locked": true,
     "schema_version": 3,
     "solution": false,
     "task": false
    }
   },
   "source": [
    "### Let's check if you fixed the issue."
   ]
  },
  {
   "cell_type": "code",
   "execution_count": 40,
   "metadata": {
    "deletable": false,
    "editable": false,
    "nbgrader": {
     "cell_type": "code",
     "checksum": "07a04aa6e3b2a58fe9e224b6370fb2ef",
     "grade": false,
     "grade_id": "task3c-provided3",
     "locked": true,
     "schema_version": 3,
     "solution": false,
     "task": false
    }
   },
   "outputs": [
    {
     "name": "stderr",
     "output_type": "stream",
     "text": [
      "WARNING:absl:At this time, the v2.11+ optimizer `tf.keras.optimizers.Nadam` runs slowly on M1/M2 Macs, please use the legacy Keras optimizer instead, located at `tf.keras.optimizers.legacy.Nadam`.\n"
     ]
    },
    {
     "name": "stdout",
     "output_type": "stream",
     "text": [
      "[Model4--Fixed] Training Accuracy: 91.888%, Validation Accuracy: 87.900%\n",
      "[Model4--Fixed] Test loss: 0.37817, test accuracy: 88.260%\n"
     ]
    },
    {
     "data": {
      "image/png": "[encoded data removed]",
      "text/plain": [
       "<Figure size 600x300 with 1 Axes>"
      ]
     },
     "metadata": {},
     "output_type": "display_data"
    }
   ],
   "source": [
    "name, model = create_compile_model4(True, verbose=False) \n",
    "\n",
    "eval_data = train_model(model)\n",
    "evaluate_model(name, model, eval_data)"
   ]
  },
  {
   "cell_type": "code",
   "execution_count": 41,
   "metadata": {
    "deletable": false,
    "editable": false,
    "nbgrader": {
     "cell_type": "code",
     "checksum": "6236e816ad6bc32ee9418a9ca6771a7e",
     "grade": true,
     "grade_id": "task3c-tests",
     "locked": true,
     "points": 5,
     "schema_version": 3,
     "solution": false,
     "task": false
    }
   },
   "outputs": [],
   "source": [
    "\"\"\" [ASSERTS] Check 3c completed. \"\"\"\n",
    "\n",
    "assert var_exists('create_compile_model4') # note: hidden tests will check accuracy is high enough for Fixed=True.\n"
   ]
  },
  {
   "cell_type": "markdown",
   "metadata": {
    "deletable": false,
    "editable": false,
    "nbgrader": {
     "cell_type": "markdown",
     "checksum": "cff64e6908377e1ea54559bc8d920e79",
     "grade": false,
     "grade_id": "task3d-instruct",
     "locked": true,
     "schema_version": 3,
     "solution": false,
     "task": false
    }
   },
   "source": [
    "### [Task 3d] (5 points) Explain what was the problem. (A sentence or two is fine.)"
   ]
  },
  {
   "cell_type": "code",
   "execution_count": 42,
   "metadata": {
    "deletable": false,
    "nbgrader": {
     "cell_type": "code",
     "checksum": "e675bd78c98b878c2b6388fe9359bf39",
     "grade": true,
     "grade_id": "task3d-manual-answer",
     "locked": false,
     "points": 5,
     "schema_version": 3,
     "solution": true,
     "task": false
    }
   },
   "outputs": [
    {
     "data": {
      "text/plain": [
       "\" Remove the 'raise NotImplementedError' line(s). Write your answer as a comment in the place provided.  (Do not change the cell type from code to markdown.)\""
      ]
     },
     "execution_count": 42,
     "metadata": {},
     "output_type": "execute_result"
    }
   ],
   "source": [
    "\"\"\" Remove the 'raise NotImplementedError' line(s). Write your answer as a comment in the place provided.  (Do not change the cell type from code to markdown.)\"\"\"\n",
    "# \n",
    "## Answer: \n",
    "# The main problem lay in the layer being too rigid, with 3 units, which hindered the models ability to learn. \n",
    "# By adjusting this and adding units to the layer when fixed=the model was able to grasp concepts and adapt better.\n",
    "\n",
    "\n",
    "# raise NotImplementedError()\n",
    "#"
   ]
  },
  {
   "cell_type": "markdown",
   "metadata": {
    "deletable": false,
    "editable": false,
    "nbgrader": {
     "cell_type": "markdown",
     "checksum": "9955b6b690e409163c1026aa503e13a5",
     "grade": false,
     "grade_id": "task3e-instruct",
     "locked": true,
     "schema_version": 3,
     "solution": false,
     "task": false
    }
   },
   "source": [
    "### [Task 3e] (5 points) Consider the following model. It has several problems which prevent it from learning: can you figure out what those problems are? Fix them by adding code to the 'if fixed:'' branch. Make sure that if fixed=False you do not change the implementation! You can have more than one \"if fixed:\" branch if necessary."
   ]
  },
  {
   "cell_type": "code",
   "execution_count": 43,
   "metadata": {
    "deletable": false,
    "nbgrader": {
     "cell_type": "code",
     "checksum": "d5536e216252e20fa27e7e8813bde5e8",
     "grade": false,
     "grade_id": "task3e-code",
     "locked": false,
     "schema_version": 3,
     "solution": true,
     "task": false
    }
   },
   "outputs": [],
   "source": [
    "def create_compile_model5(fixed, input_shape=784, num_outputs=10, verbose=True):\n",
    "    \n",
    "    \n",
    "    \"\"\" Remove the raise NotImplementedError lines, then move the if fixed branch to where you want to use it, and create a corresponding else (if necessary) to preserve \n",
    "    the broken functionality when fixed=False. For example:\n",
    "    #if fixed:\n",
    "        ###* put your code here (~1-2 lines) *###\n",
    "\n",
    "    Note: the 'raise NotImplementedError' lines may not match where you should put your 'if fixed' branch.\n",
    "    \"\"\"\n",
    "\n",
    "    # YOUR CODE HERE\n",
    "    # raise NotImplementedError()\n",
    "    \n",
    "    name = 'Model5--Fixed' if fixed else 'Model5--Broken'\n",
    "    hidden_widths=[256, 128, 24]\n",
    "    \n",
    "    model = keras.models.Sequential(name=name)\n",
    "\n",
    "    # YOUR CODE HERE\n",
    "    # raise NotImplementedError()\n",
    "    \n",
    "    # if not fixed:\n",
    "    model.add(keras.Input(shape=(input_shape,))) \n",
    "\n",
    "\n",
    "\n",
    "\n",
    "    \n",
    "    for i, hw in enumerate(hidden_widths):\n",
    "        # YOUR CODE HERE\n",
    "        # raise NotImplementedError()\n",
    "        if fixed:\n",
    "            model.add(keras.layers.Dense(hw, activation='relu', name='hidden_{}'.format(i)))\n",
    "        if not fixed:\n",
    "            model.add(keras.layers.Dense(hw, activation='sigmoid', name='hidden_{}'.format(i)))\n",
    "\n",
    "    # YOUR CODE HERE\n",
    "    # raise NotImplementedError()\n",
    "    if fixed:\n",
    "\n",
    "        model.add(keras.layers.Dense(num_outputs, activation='softmax', name='output',\n",
    "                                     bias_initializer=keras.initializers.RandomNormal(stddev=0.1),\n",
    "                                     kernel_initializer=keras.initializers.HeUniform(), use_bias=True))\n",
    "\n",
    "    if not fixed:\n",
    "        model.add(keras.layers.Dense(num_outputs, activation='linear', name='output',\n",
    "                                bias_initializer=keras.initializers.RandomNormal(stddev=np.sqrt(0.1)),\n",
    "                                kernel_initializer=keras.initializers.Zeros(), use_bias=False))\n",
    "\n",
    "    # YOUR CODE HERE\n",
    "    # raise NotImplementedError()\n",
    "    \n",
    "    # opt = keras.optimizers.Nadam(learning_rate=0.01, beta_2=0.999, epsilon=1e-07, clipvalue=1.0)\n",
    "    # # YOUR CODE HERE\n",
    "    # raise NotImplementedError()\n",
    "        \n",
    "    if fixed:\n",
    "        opt = keras.optimizers.Nadam(learning_rate=0.001, beta_2=0.999, epsilon=1e-07)\n",
    "    else:\n",
    "        opt = keras.optimizers.Nadam(learning_rate=0.01, beta_2=0.999, epsilon=1e-07, clipvalue=1.0)\n",
    "    \n",
    "    \n",
    "    if verbose:\n",
    "        model.summary()\n",
    "    \n",
    "    model.compile(loss='categorical_crossentropy', optimizer=opt, metrics=['accuracy'])\n",
    "    \n",
    "    return name, model"
   ]
  },
  {
   "cell_type": "code",
   "execution_count": 44,
   "metadata": {
    "deletable": false,
    "editable": false,
    "nbgrader": {
     "cell_type": "code",
     "checksum": "4b16e89de55466e6af2385f7584d27e6",
     "grade": false,
     "grade_id": "task3e-provided1",
     "locked": true,
     "schema_version": 3,
     "solution": false,
     "task": false
    }
   },
   "outputs": [
    {
     "name": "stderr",
     "output_type": "stream",
     "text": [
      "WARNING:absl:At this time, the v2.11+ optimizer `tf.keras.optimizers.Nadam` runs slowly on M1/M2 Macs, please use the legacy Keras optimizer instead, located at `tf.keras.optimizers.legacy.Nadam`.\n"
     ]
    },
    {
     "name": "stdout",
     "output_type": "stream",
     "text": [
      "Model: \"Model5--Broken\"\n",
      "_________________________________________________________________\n",
      " Layer (type)                Output Shape              Param #   \n",
      "=================================================================\n",
      " hidden_0 (Dense)            (None, 256)               200960    \n",
      "                                                                 \n",
      " hidden_1 (Dense)            (None, 128)               32896     \n",
      "                                                                 \n",
      " hidden_2 (Dense)            (None, 24)                3096      \n",
      "                                                                 \n",
      " output (Dense)              (None, 10)                240       \n",
      "                                                                 \n",
      "=================================================================\n",
      "Total params: 237192 (926.53 KB)\n",
      "Trainable params: 237192 (926.53 KB)\n",
      "Non-trainable params: 0 (0.00 Byte)\n",
      "_________________________________________________________________\n"
     ]
    }
   ],
   "source": [
    "# create and compile the model for fixed=False, train it, then evaluate it\n",
    "name, model = create_compile_model5(False) \n",
    "\n",
    "# train the model (hint you can set verbose get more or less information during the training process)\n",
    "eval_data = train_model(model, verbose=0)"
   ]
  },
  {
   "cell_type": "code",
   "execution_count": 45,
   "metadata": {
    "deletable": false,
    "editable": false,
    "nbgrader": {
     "cell_type": "code",
     "checksum": "cb42b12b2370ca5939f6feae61881813",
     "grade": false,
     "grade_id": "task3e-provided2",
     "locked": true,
     "schema_version": 3,
     "solution": false,
     "task": false
    }
   },
   "outputs": [
    {
     "name": "stdout",
     "output_type": "stream",
     "text": [
      "[Model5--Broken] Training Accuracy: 10.000%, Validation Accuracy: 10.260%\n",
      "[Model5--Broken] Test loss: nan, test accuracy: 9.740%\n"
     ]
    },
    {
     "data": {
      "image/png": "[encoded data removed]",
      "text/plain": [
       "<Figure size 600x300 with 1 Axes>"
      ]
     },
     "metadata": {},
     "output_type": "display_data"
    }
   ],
   "source": [
    "# evaluate\n",
    "evaluate_model(name, model, eval_data)"
   ]
  },
  {
   "cell_type": "markdown",
   "metadata": {
    "deletable": false,
    "editable": false,
    "nbgrader": {
     "cell_type": "markdown",
     "checksum": "e2db1a67c19424fce7d1613da847bd9a",
     "grade": false,
     "grade_id": "cell-8a677dc7be25a170",
     "locked": true,
     "schema_version": 3,
     "solution": false,
     "task": false
    }
   },
   "source": [
    "### Let's check if you fixed the issue."
   ]
  },
  {
   "cell_type": "code",
   "execution_count": 46,
   "metadata": {
    "deletable": false,
    "editable": false,
    "nbgrader": {
     "cell_type": "code",
     "checksum": "30abf865018f5c71cd5a42aaae4d9633",
     "grade": false,
     "grade_id": "task3e-provided3",
     "locked": true,
     "schema_version": 3,
     "solution": false,
     "task": false
    }
   },
   "outputs": [
    {
     "name": "stderr",
     "output_type": "stream",
     "text": [
      "WARNING:absl:At this time, the v2.11+ optimizer `tf.keras.optimizers.Nadam` runs slowly on M1/M2 Macs, please use the legacy Keras optimizer instead, located at `tf.keras.optimizers.legacy.Nadam`.\n"
     ]
    },
    {
     "name": "stdout",
     "output_type": "stream",
     "text": [
      "[Model5--Fixed] Training Accuracy: 90.537%, Validation Accuracy: 87.240%\n",
      "[Model5--Fixed] Test loss: 0.43393, test accuracy: 86.920%\n"
     ]
    },
    {
     "data": {
      "image/png": "[encoded data removed]",
      "text/plain": [
       "<Figure size 600x300 with 1 Axes>"
      ]
     },
     "metadata": {},
     "output_type": "display_data"
    }
   ],
   "source": [
    "name, model = create_compile_model5(True, verbose=False) \n",
    "\n",
    "eval_data = train_model(model)\n",
    "evaluate_model(name, model, eval_data)"
   ]
  },
  {
   "cell_type": "code",
   "execution_count": 47,
   "metadata": {
    "deletable": false,
    "editable": false,
    "nbgrader": {
     "cell_type": "code",
     "checksum": "b3acb2e22de71a40bce8c2a4f10b743d",
     "grade": true,
     "grade_id": "task3e-tests",
     "locked": true,
     "points": 5,
     "schema_version": 3,
     "solution": false,
     "task": false
    }
   },
   "outputs": [],
   "source": [
    "\"\"\" [ASSERTS] Check 3e completed. \"\"\"\n",
    "\n",
    "assert var_exists('create_compile_model5') # note: hidden tests will check accuracy is high enough for Fixed=True.\n"
   ]
  },
  {
   "cell_type": "markdown",
   "metadata": {
    "deletable": false,
    "editable": false,
    "nbgrader": {
     "cell_type": "markdown",
     "checksum": "ca6347a8d044bfe042efdd779f09f2f8",
     "grade": false,
     "grade_id": "task3f-instruct",
     "locked": true,
     "schema_version": 3,
     "solution": false,
     "task": false
    }
   },
   "source": [
    "### [Task 3f] (5 points) Explain what was the problem. If there are multiple issues, describe all of them. (A sentence or two for each issue is fine.)"
   ]
  },
  {
   "cell_type": "code",
   "execution_count": 48,
   "metadata": {
    "deletable": false,
    "nbgrader": {
     "cell_type": "code",
     "checksum": "942d14f32e1ced5acc22573d2dbded51",
     "grade": true,
     "grade_id": "task3f-manual-answer",
     "locked": false,
     "points": 5,
     "schema_version": 3,
     "solution": true,
     "task": false
    }
   },
   "outputs": [
    {
     "data": {
      "text/plain": [
       "\" Remove the 'raise NotImplementedError' line(s). Write your answer as a comment in the place provided.  (Do not change the cell type from code to markdown.)\""
      ]
     },
     "execution_count": 48,
     "metadata": {},
     "output_type": "execute_result"
    }
   ],
   "source": [
    "\"\"\" Remove the 'raise NotImplementedError' line(s). Write your answer as a comment in the place provided.  (Do not change the cell type from code to markdown.)\"\"\"\n",
    "# \n",
    "## Answer: \n",
    "#\n",
    "# YOUR CODE HERE\n",
    "\n",
    "\n",
    "## Answer: \n",
    "# The main problems arose from using the 'sigmoid' activation function, in the layers and 'linear' activation in \n",
    "# the output layer which're not suitable for a multi class classification task. Moreover initializing the weights of the output layer with zeros. \n",
    "# Deactivating bias were issues. Making adjustments, with fixed=True notably enhanced the models capacity to understand and apply its learnings effectively.\n",
    "\n",
    "\n",
    "# raise NotImplementedError()\n",
    "#"
   ]
  },
  {
   "cell_type": "code",
   "execution_count": null,
   "metadata": {},
   "outputs": [],
   "source": []
  },
  {
   "cell_type": "markdown",
   "metadata": {
    "deletable": false,
    "editable": false,
    "nbgrader": {
     "cell_type": "markdown",
     "checksum": "e76b6d9ca11bc51ee677d2d659cfb9ce",
     "grade": false,
     "grade_id": "task4-instruct",
     "locked": true,
     "schema_version": 3,
     "solution": false,
     "task": false
    }
   },
   "source": [
    "---\n",
    "# [Task 4] (25 points) Training CNNs"
   ]
  },
  {
   "cell_type": "markdown",
   "metadata": {
    "deletable": false,
    "editable": false,
    "nbgrader": {
     "cell_type": "markdown",
     "checksum": "0c27cfeb4411f720c8dd4fa14c172da4",
     "grade": false,
     "grade_id": "task4-instruct2",
     "locked": true,
     "schema_version": 3,
     "solution": false,
     "task": false
    }
   },
   "source": [
    "### In this task, you will train a convolutional neural network with an architecture you define. The goal is (of course) to train the best possible model, but the constraint is that the number of parameters must not exceed 500k (500,000). We will aim to achieve test/val accuracy above 88%.\n",
    "\n",
    "### If you do this on a machine with a GPU, it will be very fast. Otherwise it may take 5 or 10 minutes to train the model for a few epochs, so we will use a subset of the training data for developing and testing the model.\n",
    "\n",
    "#### Note: it is possible to achieve reasonably high accuracy (above 90%) with only about 50k parameters."
   ]
  },
  {
   "cell_type": "markdown",
   "metadata": {
    "deletable": false,
    "editable": false,
    "nbgrader": {
     "cell_type": "markdown",
     "checksum": "2d5e270ad87b210634f3757f7e4eb2d1",
     "grade": false,
     "grade_id": "cell-c42e070c9b6d3fb8",
     "locked": true,
     "schema_version": 3,
     "solution": false,
     "task": false
    }
   },
   "source": [
    "### To use a convolutional architecture we need to reshape the data"
   ]
  },
  {
   "cell_type": "code",
   "execution_count": 49,
   "metadata": {
    "deletable": false,
    "nbgrader": {
     "cell_type": "code",
     "checksum": "133f07f71d3f3b7ebdfaa32764ab3716",
     "grade": false,
     "grade_id": "task4-initial-code",
     "locked": false,
     "schema_version": 3,
     "solution": true,
     "task": false
    }
   },
   "outputs": [],
   "source": [
    "use_subset = True\n",
    "tr_sz = 5000\n",
    "\n",
    "use_subset = False # uncomment this line to use the full data\n",
    "# YOUR CODE HERE\n",
    "# raise NotImplementedError()\n",
    "\n",
    "# reshape for use with CNN\n",
    "train_x = train_x.reshape(-1, 28, 28, 1)\n",
    "val_x = val_x.reshape(-1, 28, 28, 1)\n",
    "test_x = test_x.reshape(-1, 28, 28, 1)\n",
    "\n",
    "cnn_dataset = (train_x, train_y, val_x, val_y, test_x, test_y)\n",
    "if use_subset:\n",
    "    cnn_dataset = (train_x[:tr_sz], train_y[:tr_sz], val_x, val_y, test_x, test_y)"
   ]
  },
  {
   "cell_type": "markdown",
   "metadata": {
    "deletable": false,
    "editable": false,
    "nbgrader": {
     "cell_type": "markdown",
     "checksum": "e82447eb98152f7ce5455c8c30344a83",
     "grade": false,
     "grade_id": "task4a-instruct",
     "locked": true,
     "schema_version": 3,
     "solution": false,
     "task": false
    }
   },
   "source": [
    "### [Task 4a] (15 points) Fill in the implementation of create_compile_cnn() below with your chosen architecture. Ensure the total number of parameters chosen does not exceed 500k. You can look for insipiration for architectures on the web (or in books) if you like, but in that case you must provide a reference."
   ]
  },
  {
   "cell_type": "code",
   "execution_count": 50,
   "metadata": {
    "deletable": false,
    "nbgrader": {
     "cell_type": "code",
     "checksum": "8c3714deb664d6f8359bef1d4fa82650",
     "grade": false,
     "grade_id": "task4a-code",
     "locked": false,
     "schema_version": 3,
     "solution": true,
     "task": false
    }
   },
   "outputs": [],
   "source": [
    "import tensorflow.keras as keras\n",
    "from tensorflow.keras import layers\n",
    "def create_compile_cnn(input_shape=(28, 28, 1), num_outputs=10, verbose=False):\n",
    "    name = 'CNN'\n",
    "    assert train_x.shape[1:] == input_shape # sanity check\n",
    "    \n",
    "    model = keras.models.Sequential(name=name)\n",
    "\n",
    "    \"\"\" Put your code here (10-20 lines).\n",
    "    You can use any architecture but the output layer (with softmax activation is fixed). \n",
    "    You can also use whatever optimizer 'opt' you want (with your choice hyperparameters values)\n",
    "    But the call to model.summary() must show that the number of parameters is within the constraint.\n",
    "    \"\"\"\n",
    "    ### Note: you can import layers from keras.layers to make the code more compact.\n",
    "    ###* put your code here (~10-20 lines) *###\n",
    "    \n",
    "    # YOUR CODE HERE\n",
    "    # raise NotImplementedError()\n",
    "\n",
    "    \"\"\" Define the CNN architecture \"\"\"\n",
    "    # Convolutional layers\n",
    "    # model.add(layers.Conv2D(filters=32, kernel_size=(3, 3), activation='relu', input_shape=input_shape))\n",
    "    # model.add(layers.MaxPooling2D(pool_size=(2, 2)))\n",
    "    # model.add(layers.Conv2D(filters=64, kernel_size=(3, 3), activation='relu'))\n",
    "    # model.add(layers.MaxPooling2D(pool_size=(2, 2)))\n",
    "    \n",
    "    # # Flatten layer\n",
    "    # model.add(layers.Flatten())\n",
    "    \n",
    "    # # Fully connected layers\n",
    "    # model.add(layers.Dense(units=128, activation='relu'))\n",
    "    \n",
    "    # # Output layer\n",
    "    # model.add(layers.Dense(units=num_outputs, activation='softmax'))\n",
    "    \n",
    "\n",
    "\n",
    "\n",
    "        # Define the CNN architecture\n",
    "    model.add(layers.Conv2D(32, kernel_size=(3, 3), activation='relu', input_shape=input_shape))\n",
    "    model.add(layers.MaxPooling2D(pool_size=(2, 2)))\n",
    "    model.add(layers.Conv2D(64, kernel_size=(3, 3), activation='relu'))\n",
    "    model.add(layers.MaxPooling2D(pool_size=(2, 2)))\n",
    "    model.add(layers.Flatten())\n",
    "    model.add(layers.Dense(128, activation='relu'))\n",
    "    model.add(layers.Dense(128, activation='relu'))\n",
    "    # model.add(layers.Dropout(0.5))\n",
    "    model.add(layers.Dense(num_outputs, activation='softmax'))\n",
    "\n",
    "\n",
    "\n",
    "\n",
    "\n",
    "\n",
    "\n",
    "\n",
    "    # # model = Sequential()\n",
    "    # model.add(layers.Conv2D(64, kernel_size=3, activation='relu', input_shape=(28,28,1)))\n",
    "    # model.add(layers.Conv2D(32, kernel_size=3, activation='relu'))\n",
    "    # model.add(layers.Flatten())\n",
    "    # model.add(layers.Dense(10, activation='softmax'))\n",
    "    \n",
    "\n",
    "    opt = keras.optimizers.Adam()\n",
    "\n",
    "\n",
    "\n",
    "    \n",
    "    if verbose:\n",
    "        model.summary()\n",
    "    \n",
    "    model.compile(loss='categorical_crossentropy', optimizer=opt, metrics=['accuracy'])\n",
    "    \n",
    "    return name, model"
   ]
  },
  {
   "cell_type": "code",
   "execution_count": 51,
   "metadata": {
    "deletable": false,
    "editable": false,
    "nbgrader": {
     "cell_type": "code",
     "checksum": "1728d898e40200bcc6fae12afd231d86",
     "grade": false,
     "grade_id": "task4a-provided1",
     "locked": true,
     "schema_version": 3,
     "solution": false,
     "task": false
    }
   },
   "outputs": [
    {
     "name": "stderr",
     "output_type": "stream",
     "text": [
      "WARNING:absl:At this time, the v2.11+ optimizer `tf.keras.optimizers.Adam` runs slowly on M1/M2 Macs, please use the legacy Keras optimizer instead, located at `tf.keras.optimizers.legacy.Adam`.\n"
     ]
    },
    {
     "name": "stdout",
     "output_type": "stream",
     "text": [
      "Model: \"CNN\"\n",
      "_________________________________________________________________\n",
      " Layer (type)                Output Shape              Param #   \n",
      "=================================================================\n",
      " conv2d (Conv2D)             (None, 26, 26, 32)        320       \n",
      "                                                                 \n",
      " max_pooling2d (MaxPooling2  (None, 13, 13, 32)        0         \n",
      " D)                                                              \n",
      "                                                                 \n",
      " conv2d_1 (Conv2D)           (None, 11, 11, 64)        18496     \n",
      "                                                                 \n",
      " max_pooling2d_1 (MaxPoolin  (None, 5, 5, 64)          0         \n",
      " g2D)                                                            \n",
      "                                                                 \n",
      " flatten (Flatten)           (None, 1600)              0         \n",
      "                                                                 \n",
      " dense (Dense)               (None, 128)               204928    \n",
      "                                                                 \n",
      " dense_1 (Dense)             (None, 128)               16512     \n",
      "                                                                 \n",
      " dense_2 (Dense)             (None, 10)                1290      \n",
      "                                                                 \n",
      "=================================================================\n",
      "Total params: 241546 (943.54 KB)\n",
      "Trainable params: 241546 (943.54 KB)\n",
      "Non-trainable params: 0 (0.00 Byte)\n",
      "_________________________________________________________________\n"
     ]
    }
   ],
   "source": [
    "name, cnn_model = create_compile_cnn(verbose=True)"
   ]
  },
  {
   "cell_type": "code",
   "execution_count": 52,
   "metadata": {
    "deletable": false,
    "nbgrader": {
     "cell_type": "code",
     "checksum": "a07845d2dfae276de95efa4d65638f5e",
     "grade": false,
     "grade_id": "task4a-provided-code",
     "locked": false,
     "schema_version": 3,
     "solution": true,
     "task": false
    }
   },
   "outputs": [
    {
     "name": "stdout",
     "output_type": "stream",
     "text": [
      "Epoch 1/10\n"
     ]
    },
    {
     "name": "stdout",
     "output_type": "stream",
     "text": [
      "240/240 [==============================] - 8s 29ms/step - loss: 1.3279 - accuracy: 0.7722 - val_loss: 0.4379 - val_accuracy: 0.8428\n",
      "Epoch 2/10\n",
      "240/240 [==============================] - 7s 30ms/step - loss: 0.3636 - accuracy: 0.8676 - val_loss: 0.3664 - val_accuracy: 0.8704\n",
      "Epoch 3/10\n",
      "240/240 [==============================] - 7s 30ms/step - loss: 0.3112 - accuracy: 0.8845 - val_loss: 0.3525 - val_accuracy: 0.8756\n",
      "Epoch 4/10\n",
      "240/240 [==============================] - 7s 30ms/step - loss: 0.2745 - accuracy: 0.8973 - val_loss: 0.3240 - val_accuracy: 0.8828\n",
      "Epoch 5/10\n",
      "240/240 [==============================] - 8s 32ms/step - loss: 0.2534 - accuracy: 0.9044 - val_loss: 0.3179 - val_accuracy: 0.8956\n",
      "Epoch 6/10\n",
      "240/240 [==============================] - 8s 34ms/step - loss: 0.2318 - accuracy: 0.9132 - val_loss: 0.3086 - val_accuracy: 0.8942\n",
      "Epoch 7/10\n",
      "240/240 [==============================] - 7s 31ms/step - loss: 0.2127 - accuracy: 0.9197 - val_loss: 0.3316 - val_accuracy: 0.8858\n",
      "Epoch 8/10\n",
      "240/240 [==============================] - 7s 31ms/step - loss: 0.2023 - accuracy: 0.9239 - val_loss: 0.3484 - val_accuracy: 0.8828\n",
      "Epoch 9/10\n",
      "240/240 [==============================] - 8s 32ms/step - loss: 0.1881 - accuracy: 0.9291 - val_loss: 0.3069 - val_accuracy: 0.9000\n",
      "Epoch 10/10\n",
      "240/240 [==============================] - 7s 30ms/step - loss: 0.1726 - accuracy: 0.9353 - val_loss: 0.3183 - val_accuracy: 0.8984\n"
     ]
    }
   ],
   "source": [
    "# note: you can change the number of epochs to train as long as it's reasonable\n",
    "epochs = 10 if use_subset else 5\n",
    "\n",
    "\"\"\" You can add code here or edit it to change the number of epochs for example or the batch size, etc.\n",
    "\"\"\"\n",
    "# YOUR CODE HERE\n",
    "# raise NotImplementedError()\n",
    "epochs = 10\n",
    "batch_size = 250\n",
    "\n",
    "# note: you can change how you call train_model as necessary (e.g., if you want to change the batch_size)\n",
    "eval_data = train_model(cnn_model, max_epochs=epochs, dataset=cnn_dataset, verbose=1,batch_size=batch_size)"
   ]
  },
  {
   "cell_type": "markdown",
   "metadata": {
    "deletable": false,
    "editable": false,
    "nbgrader": {
     "cell_type": "markdown",
     "checksum": "12e9fb9797ef1beb339064b03974c2ba",
     "grade": false,
     "grade_id": "task4a-provided2",
     "locked": true,
     "schema_version": 3,
     "solution": false,
     "task": false
    }
   },
   "source": [
    "#### Let's evaluate your CNN model. Does it achieve 88+% val/test accuracy?\n",
    "#### *note: once you are confident in your model architecture, you MUST switch back to the full dataset*\n",
    "#### to train the final version of the model (depending on your chosen architecture this could take 5-10 minutes if you are not on machine with GPU)\n",
    "#### make sure it does not take too long to train the model as this could be a problem for grading (e.g., <10min on a machine with a CPU only)"
   ]
  },
  {
   "cell_type": "code",
   "execution_count": 53,
   "metadata": {
    "deletable": false,
    "editable": false,
    "nbgrader": {
     "cell_type": "code",
     "checksum": "fe3bcff6f0a27f230a94ff9800c8f5ed",
     "grade": false,
     "grade_id": "task4a-provided3",
     "locked": true,
     "schema_version": 3,
     "solution": false,
     "task": false
    }
   },
   "outputs": [
    {
     "name": "stdout",
     "output_type": "stream",
     "text": [
      "[CNN] Training Accuracy: 94.047%, Validation Accuracy: 89.840%\n",
      "[CNN] Test loss: 0.31174, test accuracy: 89.320%\n"
     ]
    },
    {
     "data": {
      "image/png": "[encoded data removed]",
      "text/plain": [
       "<Figure size 600x300 with 1 Axes>"
      ]
     },
     "metadata": {},
     "output_type": "display_data"
    }
   ],
   "source": [
    "evaluate_model(name, cnn_model, eval_data)"
   ]
  },
  {
   "cell_type": "code",
   "execution_count": 54,
   "metadata": {
    "deletable": false,
    "editable": false,
    "nbgrader": {
     "cell_type": "code",
     "checksum": "1b0daab9756ff0dc88d5ce573e074572",
     "grade": true,
     "grade_id": "task4a-tests",
     "locked": true,
     "points": 15,
     "schema_version": 3,
     "solution": false,
     "task": false
    }
   },
   "outputs": [],
   "source": [
    "from tensorflow.python.keras.utils import layer_utils\n",
    "\n",
    "\"\"\" [ASSERTS] Check 4a completed. \"\"\"\n",
    "\n",
    "assert var_exists('cnn_model') and isinstance(cnn_model, keras.Model)\n",
    "trainable_count = layer_utils.count_params(cnn_model.trainable_weights)\n",
    "assert trainable_count <= 500 * 1000\n"
   ]
  },
  {
   "cell_type": "markdown",
   "metadata": {
    "deletable": false,
    "editable": false,
    "nbgrader": {
     "cell_type": "markdown",
     "checksum": "2061f210f712d02688d867d3559b77f3",
     "grade": false,
     "grade_id": "task4b-instruct",
     "locked": true,
     "schema_version": 3,
     "solution": false,
     "task": false
    }
   },
   "source": [
    "### [Task 4b] (5 points) How long (in seconds/minutes) did your model take to train on the full dataset? Did you use a GPU?"
   ]
  },
  {
   "cell_type": "code",
   "execution_count": 55,
   "metadata": {
    "deletable": false,
    "nbgrader": {
     "cell_type": "code",
     "checksum": "550c4641d8783a05f1a220fab51601c1",
     "grade": true,
     "grade_id": "task4b-manual-answer",
     "locked": false,
     "points": 5,
     "schema_version": 3,
     "solution": true,
     "task": false
    }
   },
   "outputs": [
    {
     "data": {
      "text/plain": [
       "\" Remove the 'raise NotImplementedError' line(s). Write your answer as a comment in the place provided.  (Do not change the cell type from code to markdown.)\""
      ]
     },
     "execution_count": 55,
     "metadata": {},
     "output_type": "execute_result"
    }
   ],
   "source": [
    "\"\"\" Remove the 'raise NotImplementedError' line(s). Write your answer as a comment in the place provided.  (Do not change the cell type from code to markdown.)\"\"\"\n",
    "# \n",
    "## Answer: \n",
    "#\n",
    "\n",
    "\n",
    "#it took me 83 seconds to get the training done, I trained it on the full dataset and I didnt use the GPU but I used the Mac's M2 chip for training so it happened quick.\n",
    "# YOUR CODE HERE\n",
    "# raise NotImplementedError()\n",
    "#"
   ]
  },
  {
   "cell_type": "markdown",
   "metadata": {
    "deletable": false,
    "editable": false,
    "nbgrader": {
     "cell_type": "markdown",
     "checksum": "5ea659879f1241517f16966d1cf0399b",
     "grade": false,
     "grade_id": "task4c-instruct",
     "locked": true,
     "schema_version": 3,
     "solution": false,
     "task": false
    }
   },
   "source": [
    "### [Task 4c] (5 points) Explain how you decided on this architecture. (2-3 sentences is okay.) If you took inspiration from resources such as books/webpages, it's okay but you should (of course) include a reference in your answer."
   ]
  },
  {
   "cell_type": "code",
   "execution_count": 56,
   "metadata": {
    "deletable": false,
    "nbgrader": {
     "cell_type": "code",
     "checksum": "499839cba000d1f1d9195c26430f1df9",
     "grade": true,
     "grade_id": "task4c-manual-answer",
     "locked": false,
     "points": 5,
     "schema_version": 3,
     "solution": true,
     "task": false
    }
   },
   "outputs": [
    {
     "data": {
      "text/plain": [
       "\" Remove the 'raise NotImplementedError' line(s). Write your answer as a comment in the place provided.  (Do not change the cell type from code to markdown.)\""
      ]
     },
     "execution_count": 56,
     "metadata": {},
     "output_type": "execute_result"
    }
   ],
   "source": [
    "\"\"\" Remove the 'raise NotImplementedError' line(s). Write your answer as a comment in the place provided.  (Do not change the cell type from code to markdown.)\"\"\"\n",
    "# \n",
    "## Answer: \n",
    "\n",
    "\n",
    "# The CNN model architecture tailored for the MNIST dataset is crafted using learning techniques to effectively classify images. \n",
    "# It incorporates layers with 3x3 filters utilizing the 'relu' activation function to extract linear features while addressing the issue of diminishing gradients. \n",
    "# Subsequently max pooling layers are introduced to reduce data dimensions thereby improving efficiency and feature abstraction. The network seamlessly transitions from feature extraction, \n",
    "# to classification by flattening the data and employing layers once again leveraging 'relu' for linear processing ultimately leading to a softmax output layer for accurate multi class classification probabilities. \n",
    "# This design strikes a balance between complexity and computational efficiency optimizing for the characteristics of the MNIST dataset, without excessive regularization methods.\n",
    "\n",
    "\n",
    "# I have took reference from the below sites\n",
    "# https://www.kaggle.com/code/dineshseervi/mnist-dataset-sloved-with-98-accuracy\n",
    "# https://www.kaggle.com/code/muratoz/mnist-classification-w-cnn-acc-99-3\n",
    "# \n",
    "#\n",
    "# YOUR CODE HERE\n",
    "# raise NotImplementedError()\n",
    "#"
   ]
  },
  {
   "cell_type": "code",
   "execution_count": null,
   "metadata": {},
   "outputs": [],
   "source": []
  },
  {
   "cell_type": "markdown",
   "metadata": {
    "deletable": false,
    "editable": false,
    "nbgrader": {
     "cell_type": "markdown",
     "checksum": "23a79bae6cbec2603653c5c5f07e59e6",
     "grade": false,
     "grade_id": "task5-instruct",
     "locked": true,
     "schema_version": 3,
     "solution": false,
     "task": false
    }
   },
   "source": [
    "---\n",
    "# [Task 5] \\<*For CAI6108MLE Only*\\> (25 points) CNN vs. Data Augmentation"
   ]
  },
  {
   "cell_type": "markdown",
   "metadata": {
    "deletable": false,
    "editable": false,
    "nbgrader": {
     "cell_type": "markdown",
     "checksum": "9484560447fdd17820719882dc5e0275",
     "grade": false,
     "grade_id": "task5-instruct2",
     "locked": true,
     "schema_version": 3,
     "solution": false,
     "task": false
    }
   },
   "source": [
    "### In this task we want to understand the impact of data augmentation on model quality. We pretend that we only have access to 2k examples from the training set and then multiply its size (by 5X) using data augmentation.\n",
    "\n",
    "### The idea is to compare the performance of three models (all of which using your CNN architecture from Task 4): (1) the CNN trained on tr_x, ty_y (2k examples), (2) the CNN trained on the augmented data (20k examples), and (3) the CNN trained on 20k examples from the fashion-MNIST training set."
   ]
  },
  {
   "cell_type": "markdown",
   "metadata": {
    "deletable": false,
    "editable": false,
    "nbgrader": {
     "cell_type": "markdown",
     "checksum": "b4d9cac49ea7177543a1a5891cf5f554",
     "grade": false,
     "grade_id": "task5a-instruct",
     "locked": true,
     "schema_version": 3,
     "solution": false,
     "task": false
    }
   },
   "source": [
    "### [Task 5a] (15 points) Complete the code below to use data augmentation to produce a dataset of size 'data_aug_sz' from the tr_x and tr_y. You can use tf.keras' ImageDataGenerator with parameters chosen by you. "
   ]
  },
  {
   "cell_type": "code",
   "execution_count": 57,
   "metadata": {
    "deletable": false,
    "nbgrader": {
     "cell_type": "code",
     "checksum": "6dea4b7acad0a2cb21f1f3c40b3a736d",
     "grade": false,
     "grade_id": "task5a-code",
     "locked": false,
     "schema_version": 3,
     "solution": true,
     "task": false
    }
   },
   "outputs": [],
   "source": [
    "from keras.preprocessing.image import ImageDataGenerator\n",
    "\n",
    "# dataset 1 -- 2k examples from fmnist\n",
    "tr_sz = 2000\n",
    "cnn_dataset1 = (train_x[:tr_sz], train_y[:tr_sz], val_x, val_y, test_x, test_y)\n",
    "\n",
    "# dataset 2 -- data augmentation (20k) starting from 2k examples from fmnist\n",
    "tr_x = train_x[:tr_sz]\n",
    "tr_y = train_y[:tr_sz]\n",
    "\n",
    "data_aug_sz = 20000\n",
    "\n",
    "\"\"\" Put your code here (10-15 lines).\n",
    "\"\"\"\n",
    "### Note: you should look closely at the documentation of ImageDataGenerator (https://www.tensorflow.org/api_docs/python/tf/keras/preprocessing/image/ImageDataGenerator)\n",
    "### to make sure you do *not* do strange things (e.g., it might not be a good idea to have vertical_flip=True, etc.)...\n",
    "### Store the augmented data into 'aug_tr_x' and 'aug_tr_y'\n",
    "\n",
    "# YOUR CODE HERE\n",
    "# raise NotImplementedError()\n",
    "\n",
    "\n",
    "tr_x = train_x[:tr_sz].reshape(-1, 28, 28, 1)\n",
    "tr_y = train_y[:tr_sz]\n",
    "\n",
    "# ImageDataGenerator\n",
    "data_generator = ImageDataGenerator(\n",
    "    rotation_range=10,\n",
    "    width_shift_range=0.1,\n",
    "    height_shift_range=0.1,\n",
    "    shear_range=0.1,\n",
    "    zoom_range=0.1,\n",
    "    # horizontal_flip=True,\n",
    "    fill_mode='nearest'\n",
    ")\n",
    "\n",
    "# Generate augmented data\n",
    "augmented_samples = 0\n",
    "aug_tr_x = np.zeros((data_aug_sz, 28, 28, 1), dtype=np.float32)\n",
    "aug_tr_y = np.zeros((data_aug_sz,) + tr_y.shape[1:], dtype=tr_y.dtype)\n",
    "\n",
    "for x_batch, y_batch in data_generator.flow(tr_x, tr_y, batch_size=32):\n",
    "    batch_size = x_batch.shape[0]\n",
    "    if augmented_samples + batch_size > data_aug_sz:\n",
    "        break\n",
    "    aug_tr_x[augmented_samples:augmented_samples+batch_size] = x_batch\n",
    "    aug_tr_y[augmented_samples:augmented_samples+batch_size] = y_batch\n",
    "    augmented_samples += batch_size\n",
    "    if augmented_samples >= data_aug_sz:\n",
    "        break\n",
    "\n",
    "\n",
    "\n",
    "# store the result\n",
    "cnn_dataset2 = (aug_tr_x, aug_tr_y, val_x, val_y, test_x, test_y)\n",
    "assert aug_tr_x.shape[0] == data_aug_sz and aug_tr_y.shape[0] == data_aug_sz\n",
    "\n",
    "# dataset 3 -- 20k examples\n",
    "cnn_dataset3 = (train_x[:data_aug_sz], train_y[:data_aug_sz], val_x, val_y, test_x, test_y)\n",
    "assert aug_tr_x.shape == cnn_dataset3[0].shape"
   ]
  },
  {
   "cell_type": "code",
   "execution_count": 60,
   "metadata": {
    "deletable": false,
    "editable": false,
    "nbgrader": {
     "cell_type": "code",
     "checksum": "f58460d6752273301bbcee625c242faf",
     "grade": true,
     "grade_id": "task5a-tests",
     "locked": true,
     "points": 15,
     "schema_version": 3,
     "solution": false,
     "task": false
    }
   },
   "outputs": [
    {
     "name": "stderr",
     "output_type": "stream",
     "text": [
      "WARNING:absl:At this time, the v2.11+ optimizer `tf.keras.optimizers.Adam` runs slowly on M1/M2 Macs, please use the legacy Keras optimizer instead, located at `tf.keras.optimizers.legacy.Adam`.\n"
     ]
    },
    {
     "name": "stdout",
     "output_type": "stream",
     "text": [
      "\n",
      "---------- Model 1 (train size: 2000) -----------\n",
      "[CNN] Training Accuracy: 96.300%, Validation Accuracy: 81.000%\n",
      "[CNN] Test loss: 0.59117, test accuracy: 81.400%\n"
     ]
    },
    {
     "data": {
      "image/png": "[encoded data removed]",
      "text/plain": [
       "<Figure size 600x300 with 1 Axes>"
      ]
     },
     "metadata": {},
     "output_type": "display_data"
    },
    {
     "name": "stderr",
     "output_type": "stream",
     "text": [
      "WARNING:absl:At this time, the v2.11+ optimizer `tf.keras.optimizers.Adam` runs slowly on M1/M2 Macs, please use the legacy Keras optimizer instead, located at `tf.keras.optimizers.legacy.Adam`.\n"
     ]
    },
    {
     "name": "stdout",
     "output_type": "stream",
     "text": [
      "\n",
      "---------- Model 2 Data Augmented (train size: 20000) -----------\n",
      "[CNN] Training Accuracy: 97.645%, Validation Accuracy: 81.180%\n",
      "[CNN] Test loss: 1.06920, test accuracy: 81.480%\n"
     ]
    },
    {
     "data": {
      "image/png": "[encoded data removed]",
      "text/plain": [
       "<Figure size 600x300 with 1 Axes>"
      ]
     },
     "metadata": {},
     "output_type": "display_data"
    },
    {
     "name": "stderr",
     "output_type": "stream",
     "text": [
      "WARNING:absl:At this time, the v2.11+ optimizer `tf.keras.optimizers.Adam` runs slowly on M1/M2 Macs, please use the legacy Keras optimizer instead, located at `tf.keras.optimizers.legacy.Adam`.\n"
     ]
    },
    {
     "name": "stdout",
     "output_type": "stream",
     "text": [
      "\n",
      "---------- Model 3 (train size: 20000) -----------\n",
      "[CNN] Training Accuracy: 97.100%, Validation Accuracy: 87.520%\n",
      "[CNN] Test loss: 0.46210, test accuracy: 87.560%\n"
     ]
    },
    {
     "data": {
      "image/png": "[encoded data removed]",
      "text/plain": [
       "<Figure size 600x300 with 1 Axes>"
      ]
     },
     "metadata": {},
     "output_type": "display_data"
    }
   ],
   "source": [
    "### Now let's evaluate all three models\n",
    "\n",
    "datasets = (cnn_dataset1, cnn_dataset2, cnn_dataset3)\n",
    "names = ['Model 1 (train size: {})'.format(tr_sz), 'Model 2 Data Augmented (train size: {})'.format(data_aug_sz),\n",
    "         'Model 3 (train size: {})'.format(data_aug_sz)]\n",
    "\n",
    "for i, dataset in enumerate(datasets):\n",
    "    name, cnn_model = create_compile_cnn(verbose=False)\n",
    "\n",
    "    # note: you can change how you call train_model as necessary (e.g., if you want to change the batch_size)\n",
    "    eval_data = train_model(cnn_model, max_epochs=15, dataset=dataset, verbose=0)  \n",
    "\n",
    "    print('\\n---------- {} -----------'.format(names[i]))\n",
    "    evaluate_model(name, cnn_model, eval_data)"
   ]
  },
  {
   "cell_type": "markdown",
   "metadata": {
    "deletable": false,
    "editable": false,
    "nbgrader": {
     "cell_type": "markdown",
     "checksum": "f02ddb845eaa35016dde90cc510b10ad",
     "grade": false,
     "grade_id": "task5b-instruct",
     "locked": true,
     "schema_version": 3,
     "solution": false,
     "task": false
    }
   },
   "source": [
    "### [Task 5b] (10 points) What do you conclude about data augmentation? Does it help if you don't have enough data? Is it as good as having more real data? (A few sentences is fine.)"
   ]
  },
  {
   "cell_type": "code",
   "execution_count": 59,
   "metadata": {
    "deletable": false,
    "nbgrader": {
     "cell_type": "code",
     "checksum": "78b64601fc57555bc445f0557e909efe",
     "grade": true,
     "grade_id": "task5b-manual-answer",
     "locked": false,
     "points": 10,
     "schema_version": 3,
     "solution": true,
     "task": false
    }
   },
   "outputs": [
    {
     "data": {
      "text/plain": [
       "\" Remove the 'raise NotImplementedError' line(s). Write your answer as a comment in the place provided.  (Do not change the cell type from code to markdown.)\""
      ]
     },
     "execution_count": 59,
     "metadata": {},
     "output_type": "execute_result"
    }
   ],
   "source": [
    "\"\"\" Remove the 'raise NotImplementedError' line(s). Write your answer as a comment in the place provided.  (Do not change the cell type from code to markdown.)\"\"\"\n",
    "# \n",
    "## Answer: \n",
    "#\n",
    "# YOUR CODE HERE\n",
    "\n",
    "\n",
    "# Data augmentation is a method, for enhancing model performance especially when there is a scarcity of data available. \n",
    "# It assists in improving the models capacity to generalize by introducing variations in the training data thereby creating a dataset. \n",
    "# This can result in performance on data as compared to training on a small dataset without augmentation.\n",
    "\n",
    "# Nevertheless the findings indicate that although data augmentation provides benefits it does not completely replicate the advantages of having data. \n",
    "# Model 3 which was trained on a set of examples outperformed the model trained on augmented data in terms of validation and test accuracy. \n",
    "# This implies that while data augmentation is advantageous for dealing with data obtaining real training data is preferable, for achieving optimal model performance.\n",
    "\n",
    "\n",
    "# raise NotImplementedError()\n",
    "#"
   ]
  }
 ],
 "metadata": {
  "kernelspec": {
   "display_name": "Python 3",
   "language": "python",
   "name": "python3"
  },
  "language_info": {
   "codemirror_mode": {
    "name": "ipython",
    "version": 3
   },
   "file_extension": ".py",
   "mimetype": "text/x-python",
   "name": "python",
   "nbconvert_exporter": "python",
   "pygments_lexer": "ipython3",
   "version": "3.11.7"
  }
 },
 "nbformat": 4,
 "nbformat_minor": 4
}
